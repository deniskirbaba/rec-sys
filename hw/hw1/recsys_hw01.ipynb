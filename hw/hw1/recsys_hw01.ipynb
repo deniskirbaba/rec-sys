{
 "cells": [
  {
   "cell_type": "markdown",
   "id": "97940701-24df-4c96-9ba8-830a30dd43db",
   "metadata": {
    "id": "97940701-24df-4c96-9ba8-830a30dd43db"
   },
   "source": [
    "# Collaborative filtering practice\n",
    "\n",
    "In this homework you will test different collaborative filtering (CF) approaches on famous Movielens dataset.\n",
    "\n",
    "In class we implemented item2item CF, so this time let's use **user2user** approach."
   ]
  },
  {
   "cell_type": "markdown",
   "id": "cf0fb9af-7bf6-4fb3-9a66-792bf23a1d93",
   "metadata": {
    "id": "cf0fb9af-7bf6-4fb3-9a66-792bf23a1d93"
   },
   "source": [
    "## Task 0: Dataset (5 points)\n",
    "\n",
    "Load [movielens](https://grouplens.org/datasets/movielens/) dataset using [scikit surprise](https://surprise.readthedocs.io/en/stable/dataset.html)\n",
    "\n",
    "Split dataset to train and validation parts.\n",
    "\n",
    "Don't forget to encode users and items from 0 to maximum!"
   ]
  },
  {
   "cell_type": "code",
   "execution_count": 2,
   "id": "5d5bc26e",
   "metadata": {},
   "outputs": [
    {
     "name": "stdout",
     "output_type": "stream",
     "text": [
      "Archive:  ml-latest-small.zip\n",
      "   creating: ml-latest-small/\n",
      "  inflating: ml-latest-small/links.csv  \n",
      "  inflating: ml-latest-small/tags.csv  \n",
      "  inflating: ml-latest-small/ratings.csv  \n",
      "  inflating: ml-latest-small/README.txt  \n",
      "  inflating: ml-latest-small/movies.csv  \n"
     ]
    }
   ],
   "source": [
    "# https://files.grouplens.org/datasets/movielens/ml-latest-small-README.html\n",
    "!unzip ml-latest-small.zip"
   ]
  },
  {
   "cell_type": "code",
   "execution_count": 633,
   "id": "9caf0807",
   "metadata": {},
   "outputs": [
    {
     "data": {
      "text/plain": [
       "(100836, 9742)"
      ]
     },
     "execution_count": 633,
     "metadata": {},
     "output_type": "execute_result"
    }
   ],
   "source": [
    "import pandas as pd\n",
    "from pathlib import Path\n",
    "\n",
    "ratings = pd.read_csv(Path(\"ml-latest-small\", \"ratings.csv\"))\n",
    "movies = pd.read_csv(Path(\"ml-latest-small\", \"movies.csv\"))\n",
    "len(ratings), len(movies)"
   ]
  },
  {
   "cell_type": "code",
   "execution_count": 634,
   "id": "aaa8ec51-adf5-48c1-8326-89f527db1240",
   "metadata": {
    "id": "aaa8ec51-adf5-48c1-8326-89f527db1240"
   },
   "outputs": [
    {
     "name": "stdout",
     "output_type": "stream",
     "text": [
      "ratings table cols: ['userId' 'movieId' 'rating' 'timestamp']\n",
      "movies table cols: ['movieId' 'title' 'genres']\n"
     ]
    }
   ],
   "source": [
    "print(f\"ratings table cols: {ratings.columns.values}\")\n",
    "print(f\"movies table cols: {movies.columns.values}\")"
   ]
  },
  {
   "cell_type": "code",
   "execution_count": 635,
   "id": "7320b424",
   "metadata": {},
   "outputs": [
    {
     "data": {
      "text/plain": [
       "count    100836.000000\n",
       "mean          3.501557\n",
       "std           1.042529\n",
       "min           0.500000\n",
       "25%           3.000000\n",
       "50%           3.500000\n",
       "75%           4.000000\n",
       "max           5.000000\n",
       "Name: rating, dtype: float64"
      ]
     },
     "execution_count": 635,
     "metadata": {},
     "output_type": "execute_result"
    }
   ],
   "source": [
    "ratings.loc[:, \"rating\"].describe()"
   ]
  },
  {
   "cell_type": "code",
   "execution_count": 636,
   "id": "9ea1dd36",
   "metadata": {},
   "outputs": [],
   "source": [
    "# ratings are made on a 5-star scale, with half-star increments (0.5 stars - 5.0 stars).\n",
    "# so i would represent 0 as \"not evaluated\""
   ]
  },
  {
   "cell_type": "code",
   "execution_count": 637,
   "id": "606485d6",
   "metadata": {},
   "outputs": [
    {
     "data": {
      "text/plain": [
       "(80896, 19940)"
      ]
     },
     "execution_count": 637,
     "metadata": {},
     "output_type": "execute_result"
    }
   ],
   "source": [
    "import numpy as np\n",
    "\n",
    "# construct the numpy ndarrays for train and validation (dev)\n",
    "# because we handle timeseries data (we have 'timestamp')\n",
    "# let's do the leave-last-few-ratings-out per user split by time \n",
    "# and then drop the timestamp column\n",
    "\n",
    "ratings = ratings.sort_values(by=[\"userId\", \"timestamp\"]).reset_index(drop=True)\n",
    "\n",
    "train_data_list = []\n",
    "dev_data_list = []\n",
    "\n",
    "for user_id, user_ratings in ratings.groupby(\"userId\"):\n",
    "    # reserve the last 1 or more ratings for dev_data, use the rest for train_data\n",
    "    n_dev_ratings = max(1, int(0.2 * len(user_ratings)))\n",
    "    train_data_list.append(user_ratings.iloc[:-n_dev_ratings])\n",
    "    dev_data_list.append(user_ratings.iloc[-n_dev_ratings:])\n",
    "\n",
    "train_data = pd.concat(train_data_list)\n",
    "dev_data = pd.concat(dev_data_list)\n",
    "\n",
    "train_data = train_data.drop(columns=\"timestamp\")\n",
    "dev_data = dev_data.drop(columns=\"timestamp\")\n",
    "\n",
    "len(train_data), len(dev_data)"
   ]
  },
  {
   "cell_type": "code",
   "execution_count": 638,
   "id": "a99f0fc1",
   "metadata": {},
   "outputs": [],
   "source": [
    "from sklearn.preprocessing import LabelEncoder\n",
    "\n",
    "def ids_encoder(ratings: pd.DataFrame) -> tuple[pd.DataFrame, LabelEncoder, LabelEncoder]:\n",
    "    users = sorted(ratings[\"userId\"].unique())\n",
    "    movies = sorted(ratings[\"movieId\"].unique())\n",
    "\n",
    "    uenc = LabelEncoder().fit(users)\n",
    "    menc = LabelEncoder().fit(movies)\n",
    "\n",
    "    ratings[\"userId\"] = uenc.transform(ratings[\"userId\"])\n",
    "    ratings[\"movieId\"] = menc.transform(ratings[\"movieId\"])\n",
    "\n",
    "    return ratings, uenc, menc"
   ]
  },
  {
   "cell_type": "code",
   "execution_count": 639,
   "id": "c513a661",
   "metadata": {},
   "outputs": [],
   "source": [
    "train_data, uenc, menc = ids_encoder(train_data)\n",
    "dev_data[\"userId\"] = uenc.transform(dev_data[\"userId\"])\n",
    "\n",
    "train_data = train_data.to_numpy()\n",
    "dev_data = dev_data.to_numpy()"
   ]
  },
  {
   "cell_type": "markdown",
   "id": "a0f4a5d1-3b22-4ddd-942e-c546eea1902b",
   "metadata": {
    "id": "a0f4a5d1-3b22-4ddd-942e-c546eea1902b"
   },
   "source": [
    "## Task 1: Similarities (5 points each)\n",
    "\n",
    "You need to implement 3 similarity functions:\n",
    "1. Dot product (intersection)\n",
    "1. Jaccard index (intersection over union)\n",
    "1. Pearson correlation\n",
    "1. Pearson correlation with decreasing coefficient"
   ]
  },
  {
   "cell_type": "code",
   "execution_count": 418,
   "id": "bf60bce0-6973-4da9-b9dc-5a7fbfec0764",
   "metadata": {
    "id": "bf60bce0-6973-4da9-b9dc-5a7fbfec0764"
   },
   "outputs": [],
   "source": [
    "def sim_dot(left: np.ndarray, right: np.ndarray) -> float:\n",
    "    '''Dot product similarity\n",
    "\n",
    "    Args:\n",
    "        left: first user ratings\n",
    "        right: second user ratings\n",
    "\n",
    "    Retruns:\n",
    "        Similarity score for this pair\n",
    "    '''\n",
    "    # assuming that left and right vectors already preprocessed in such way,\n",
    "    # that it stored only movie ratings, which both users eval\n",
    "    # (but can either working with sparse vectors)\n",
    "    sim = left @ right\n",
    "    return sim"
   ]
  },
  {
   "cell_type": "code",
   "execution_count": 419,
   "id": "f4f4aa44-ba4a-4ed5-b762-48b3e8446b29",
   "metadata": {
    "id": "f4f4aa44-ba4a-4ed5-b762-48b3e8446b29"
   },
   "outputs": [],
   "source": [
    "def sim_jacc(left: np.ndarray, right: np.ndarray) -> float:\n",
    "    '''Jaccard index similarity\n",
    "\n",
    "    Args:\n",
    "        left: first user ratings\n",
    "        right: second user ratings\n",
    "\n",
    "    Retruns:\n",
    "        Similarity score for this pair\n",
    "    '''\n",
    "    # assuming that left and right vectors are sparse vectors over all movies\n",
    "    sim = np.sum(left & right) / np.sum(left | right)\n",
    "    return sim"
   ]
  },
  {
   "cell_type": "code",
   "execution_count": 509,
   "id": "d5bf09dc-434c-4939-8ed4-20e4629ef4d6",
   "metadata": {
    "id": "d5bf09dc-434c-4939-8ed4-20e4629ef4d6"
   },
   "outputs": [],
   "source": [
    "from scipy.stats import pearsonr\n",
    "\n",
    "def sim_pearson(left: np.ndarray, right: np.ndarray) -> float:\n",
    "    '''Pearson correlation similarity\n",
    "\n",
    "    Args:\n",
    "        left: first user ratings\n",
    "        right: second user ratings\n",
    "\n",
    "    Retruns:\n",
    "        Similarity score for this pair\n",
    "    '''\n",
    "    # assuming that left and right vectors already preprocessed in such way,\n",
    "    # that it stored only movie ratings, which both users eval\n",
    "    try:\n",
    "        sim = pearsonr(left, right)[0]\n",
    "        return sim\n",
    "    except ValueError:\n",
    "        return 0"
   ]
  },
  {
   "cell_type": "code",
   "execution_count": 510,
   "id": "HXRyAzeO1yfP",
   "metadata": {
    "id": "HXRyAzeO1yfP"
   },
   "outputs": [],
   "source": [
    "def sim_pearson_decreasing(left: np.ndarray, right: np.ndarray) -> float:\n",
    "    '''Pearson correlation similarity which decreases on small intersection\n",
    "\n",
    "    Args:\n",
    "        left: first user ratings\n",
    "        right: second user ratings\n",
    "\n",
    "    Retruns:\n",
    "        Similarity score for this pair\n",
    "    '''\n",
    "    # assuming that left and right vectors already preprocessed in such way,\n",
    "    # that it stored only movie ratings, which both users eval\n",
    "    coef = min(1, left.shape[0] / 50)\n",
    "    try:\n",
    "        sim = coef * pearsonr(left, right)[0]\n",
    "        return sim\n",
    "    except ValueError:\n",
    "        return 0"
   ]
  },
  {
   "cell_type": "markdown",
   "id": "5ba45596-6ba6-4668-b045-1d3be7ad8fe1",
   "metadata": {
    "id": "5ba45596-6ba6-4668-b045-1d3be7ad8fe1"
   },
   "source": [
    "## Task 2: Collaborative filtering algorithm (5 points each)\n",
    "\n",
    "Now you have several options to use similarities for ratings prediction:\n",
    "1. Simple averaging\n",
    "1. Mean corrected averaging"
   ]
  },
  {
   "cell_type": "code",
   "execution_count": null,
   "id": "65e4a0ef-c033-47ae-a1f4-32850de24b68",
   "metadata": {
    "id": "65e4a0ef-c033-47ae-a1f4-32850de24b68"
   },
   "outputs": [],
   "source": [
    "from tqdm.notebook import trange\n",
    "from typing import Callable\n",
    "\n",
    "class UserBasedCf:\n",
    "    '''User2user collaborative filtering algorithm'''\n",
    "    def __init__(self, sim_fn: Callable, mean_correct: bool = False) -> None:\n",
    "        self.sim_fn = sim_fn\n",
    "        self.mean_correct = mean_correct\n",
    "\n",
    "    def calc_sim_matrix(self, feedbacks: np.ndarray) -> None:\n",
    "        '''Fills matrix of user similarities\n",
    "\n",
    "        Args:\n",
    "            feedbacks: numpy array with ratings\n",
    "        '''\n",
    "        self.feedbacks = feedbacks        \n",
    "\n",
    "        self.n_users = len(np.unique(feedbacks[:, 0]))\n",
    "        self.n_movies = len(np.unique(feedbacks[:, 1]))\n",
    "\n",
    "        self.R = np.zeros(shape=(self.n_users, self.n_movies), dtype=np.float32)\n",
    "        self.R[feedbacks[:, 0].astype(int), feedbacks[:, 1].astype(int)] = feedbacks[:, 2]\n",
    "\n",
    "        # mean-correct the ratings\n",
    "        if self.mean_correct:\n",
    "            mean_user_ratings = np.true_divide(self.R.sum(1), (self.R != 0).sum(1))\n",
    "            self.R = self.R - mean_user_ratings[:, np.newaxis]\n",
    "            self.R[self.R == -mean_user_ratings[:, np.newaxis]] = 0\n",
    "\n",
    "        self.sim_matrix = np.ones(shape=(self.n_users, self.n_users))\n",
    "\n",
    "        for u1_i in trange(self.n_users):\n",
    "            for u2_i in range(u1_i + 1, self.n_users):\n",
    "                if self.sim_fn.__name__ != \"sim_jacc\":\n",
    "                # make intersected vectors\n",
    "                    mask = np.multiply(self.R[u1_i], self.R[u2_i]) != 0.\n",
    "                    self.sim_matrix[[u1_i, u2_i], [u2_i, u1_i]] = self.sim_fn(self.R[u1_i, mask], \n",
    "                                                                              self.R[u2_i, mask])\n",
    "                else:\n",
    "                    self.sim_matrix[[u1_i, u2_i], [u2_i, u1_i]] = self.sim_fn(self.R[u1_i].astype(bool), \n",
    "                                                                              self.R[u2_i].astype(bool))\n",
    "\n",
    "    def recommend(self, user: int, n: int, neighboar_thres: float) -> np.ndarray:\n",
    "        '''Computes most relevant unseen items for the user\n",
    "\n",
    "        Args:\n",
    "            user: user_id for which to provide recommendations\n",
    "            n: how many items to return\n",
    "        '''\n",
    "        # validate user id\n",
    "        if user >= self.n_users or user < 0:\n",
    "            raise ValueError(\"User ID is out of bounds\")\n",
    "\n",
    "        # find neighbors above threshold\n",
    "        neighbors = np.argwhere(self.sim_matrix[user] > neighboar_thres).ravel()\n",
    "        if len(neighbors) == 0:\n",
    "            return np.array([])  # no neighbors above threshold\n",
    "        \n",
    "        # find items the user has not seen/rated\n",
    "        not_seen_ids = np.argwhere(self.R[user] == 0).ravel()\n",
    "        if len(not_seen_ids) == 0:\n",
    "            return np.array([])  # user has rated all items\n",
    "\n",
    "        # include only items rated by neighbors\n",
    "        neighbor_ratings = self.R[neighbors][:, not_seen_ids]\n",
    "        possible_movies = not_seen_ids[np.any(neighbor_ratings > 0, axis=0)]\n",
    "        if len(possible_movies) == 0:\n",
    "            return np.array([])  # no items are rated by neighbors\n",
    "\n",
    "        # calc predicted ratings for the filtered possible movies\n",
    "        R_preds = (self.R[neighbors][:, possible_movies].T @ self.sim_matrix[user, neighbors]) / np.sum(np.abs(self.sim_matrix[user, neighbors]))\n",
    "\n",
    "        top_recommendations_idx = np.argsort(R_preds)[::-1][:n] \n",
    "        recommended = possible_movies[top_recommendations_idx]\n",
    "\n",
    "        return recommended"
   ]
  },
  {
   "cell_type": "markdown",
   "id": "0420a912-8a16-4b49-9dbe-06aef673a4d2",
   "metadata": {
    "id": "0420a912-8a16-4b49-9dbe-06aef673a4d2"
   },
   "source": [
    "This way you have got 6 different recommendation methods (each of two CF modes can be used with 3 similarity scores).\n",
    "\n",
    "## Task 3: Apply models\n",
    "\n",
    "1. For all 6 possible algorithm variations train it and compute recomendations for validation part. (10 points)"
   ]
  },
  {
   "cell_type": "markdown",
   "id": "e6366f73",
   "metadata": {},
   "source": [
    "### Dot product similarity with mean correct"
   ]
  },
  {
   "cell_type": "code",
   "execution_count": 640,
   "id": "ff87d47f-6cb0-410d-a9c9-7ebd4e6005c1",
   "metadata": {
    "execution": {
     "iopub.execute_input": "2024-04-01T14:00:23.414791Z",
     "iopub.status.busy": "2024-04-01T14:00:23.413977Z",
     "iopub.status.idle": "2024-04-01T14:00:23.423158Z",
     "shell.execute_reply": "2024-04-01T14:00:23.422231Z",
     "shell.execute_reply.started": "2024-04-01T14:00:23.414710Z"
    },
    "id": "ff87d47f-6cb0-410d-a9c9-7ebd4e6005c1"
   },
   "outputs": [
    {
     "data": {
      "application/vnd.jupyter.widget-view+json": {
       "model_id": "ea6df0ebc9624e9ea56bd0445d0ef202",
       "version_major": 2,
       "version_minor": 0
      },
      "text/plain": [
       "  0%|          | 0/610 [00:00<?, ?it/s]"
      ]
     },
     "metadata": {},
     "output_type": "display_data"
    }
   ],
   "source": [
    "ubcf_dot = UserBasedCf(sim_fn=sim_dot, mean_correct=True)\n",
    "ubcf_dot.calc_sim_matrix(train_data)"
   ]
  },
  {
   "cell_type": "code",
   "execution_count": 551,
   "id": "823516e8",
   "metadata": {},
   "outputs": [],
   "source": [
    "import matplotlib.pyplot as plt\n",
    "\n",
    "def plot_pdf(values: np.ndarray, title: str):\n",
    "    \"\"\"Plots `values` distribution density\"\"\"\n",
    "    plt.figure(figsize=(10, 5))\n",
    "    plt.violinplot(values.flatten(), vert=False, showmedians=True)\n",
    "    plt.xlabel(\"Similarity\")\n",
    "    plt.grid()\n",
    "    plt.title(title)\n",
    "    plt.show()\n",
    "\n",
    "triangle_mask = np.tri(len(np.unique(train_data[:, 0])), k=-1, dtype=np.bool_)"
   ]
  },
  {
   "cell_type": "code",
   "execution_count": 641,
   "id": "5b4431d8",
   "metadata": {},
   "outputs": [
    {
     "data": {
      "image/png": "[encoded data removed]",
      "text/plain": [
       "<Figure size 1000x500 with 1 Axes>"
      ]
     },
     "metadata": {},
     "output_type": "display_data"
    }
   ],
   "source": [
    "plot_pdf(ubcf_dot.sim_matrix[triangle_mask], \"Dot sim\")"
   ]
  },
  {
   "cell_type": "code",
   "execution_count": 642,
   "id": "926afe34",
   "metadata": {},
   "outputs": [
    {
     "data": {
      "text/plain": [
       "count    185745.000000\n",
       "mean          1.676457\n",
       "std           6.694937\n",
       "min         -54.670909\n",
       "25%          -0.110345\n",
       "50%           0.206044\n",
       "75%           1.948318\n",
       "max         392.019517\n",
       "dtype: float64"
      ]
     },
     "execution_count": 642,
     "metadata": {},
     "output_type": "execute_result"
    }
   ],
   "source": [
    "pd.Series(ubcf_dot.sim_matrix[triangle_mask]).describe()"
   ]
  },
  {
   "cell_type": "code",
   "execution_count": 554,
   "id": "856c5325",
   "metadata": {},
   "outputs": [
    {
     "data": {
      "application/vnd.jupyter.widget-view+json": {
       "model_id": "1514209e49cc4c84831cbf60cef4c2e0",
       "version_major": 2,
       "version_minor": 0
      },
      "text/plain": [
       "  0%|          | 0/610 [00:00<?, ?it/s]"
      ]
     },
     "metadata": {},
     "output_type": "display_data"
    }
   ],
   "source": [
    "from tqdm.notebook import tqdm\n",
    "\n",
    "# compute recommendations for dev dataset\n",
    "n_recommendations = 50\n",
    "dot_neighboar_thres = 5.  # based on plot above\n",
    "\n",
    "dot_user_recommendations = {}\n",
    "for user_id in tqdm(np.unique(dev_data[:, 0])):\n",
    "    recommendations = ubcf_dot.recommend(user=int(user_id), n=n_recommendations, neighboar_thres=dot_neighboar_thres)\n",
    "    \n",
    "    recommended_movie_ids = menc.inverse_transform(recommendations)\n",
    "    dot_user_recommendations[uenc.inverse_transform([int(user_id)])[0]] = recommended_movie_ids"
   ]
  },
  {
   "cell_type": "markdown",
   "id": "fe52b63b",
   "metadata": {},
   "source": [
    "### Dot product similarity w/o mean correct"
   ]
  },
  {
   "cell_type": "code",
   "execution_count": 580,
   "id": "e43c5f48",
   "metadata": {},
   "outputs": [
    {
     "data": {
      "application/vnd.jupyter.widget-view+json": {
       "model_id": "8243605ebc2744afb33b88793bad581e",
       "version_major": 2,
       "version_minor": 0
      },
      "text/plain": [
       "  0%|          | 0/610 [00:00<?, ?it/s]"
      ]
     },
     "metadata": {},
     "output_type": "display_data"
    }
   ],
   "source": [
    "ubcf_dot_2 = UserBasedCf(sim_fn=sim_dot, mean_correct=False)\n",
    "ubcf_dot_2.calc_sim_matrix(train_data)"
   ]
  },
  {
   "cell_type": "code",
   "execution_count": 581,
   "id": "b4e4817c",
   "metadata": {},
   "outputs": [
    {
     "data": {
      "image/png": "[encoded data removed]",
      "text/plain": [
       "<Figure size 1000x500 with 1 Axes>"
      ]
     },
     "metadata": {},
     "output_type": "display_data"
    }
   ],
   "source": [
    "plot_pdf(ubcf_dot_2.sim_matrix[triangle_mask], \"Dot sim w/o mean correct\")"
   ]
  },
  {
   "cell_type": "code",
   "execution_count": 582,
   "id": "c1bb0046",
   "metadata": {},
   "outputs": [
    {
     "data": {
      "text/plain": [
       "count    185745.000000\n",
       "mean        165.990320\n",
       "std         315.867917\n",
       "min           0.000000\n",
       "25%          18.000000\n",
       "50%          68.250000\n",
       "75%         185.750000\n",
       "max       11616.500000\n",
       "dtype: float64"
      ]
     },
     "execution_count": 582,
     "metadata": {},
     "output_type": "execute_result"
    }
   ],
   "source": [
    "pd.Series(ubcf_dot_2.sim_matrix[triangle_mask]).describe()"
   ]
  },
  {
   "cell_type": "code",
   "execution_count": 583,
   "id": "aa4d7d40",
   "metadata": {},
   "outputs": [
    {
     "data": {
      "application/vnd.jupyter.widget-view+json": {
       "model_id": "f0e9eadc8473484bbef62c39a60943cf",
       "version_major": 2,
       "version_minor": 0
      },
      "text/plain": [
       "  0%|          | 0/610 [00:00<?, ?it/s]"
      ]
     },
     "metadata": {},
     "output_type": "display_data"
    }
   ],
   "source": [
    "# compute recommendations for dev dataset\n",
    "n_recommendations = 50\n",
    "dot_2_neighboar_thres = 100.  # based on plot above\n",
    "\n",
    "dot_2_user_recommendations = {}\n",
    "for user_id in tqdm(np.unique(dev_data[:, 0])):\n",
    "    recommendations = ubcf_dot_2.recommend(user=int(user_id), n=n_recommendations, neighboar_thres=dot_2_neighboar_thres)\n",
    "    \n",
    "    recommended_movie_ids = menc.inverse_transform(recommendations)\n",
    "    dot_2_user_recommendations[uenc.inverse_transform([int(user_id)])[0]] = recommended_movie_ids"
   ]
  },
  {
   "cell_type": "markdown",
   "id": "55a9e748",
   "metadata": {},
   "source": [
    "### Jaccard similarity with mean correct"
   ]
  },
  {
   "cell_type": "code",
   "execution_count": 501,
   "id": "aa71a25e",
   "metadata": {},
   "outputs": [
    {
     "data": {
      "application/vnd.jupyter.widget-view+json": {
       "model_id": "46d0f554acc54242a9c6137374334224",
       "version_major": 2,
       "version_minor": 0
      },
      "text/plain": [
       "  0%|          | 0/610 [00:00<?, ?it/s]"
      ]
     },
     "metadata": {},
     "output_type": "display_data"
    }
   ],
   "source": [
    "ubcf_jacc = UserBasedCf(sim_fn=sim_jacc, mean_correct=True)\n",
    "# training\n",
    "ubcf_jacc.calc_sim_matrix(train_data)"
   ]
  },
  {
   "cell_type": "code",
   "execution_count": 504,
   "id": "5f2282ea",
   "metadata": {},
   "outputs": [
    {
     "data": {
      "image/png": "[encoded data removed]",
      "text/plain": [
       "<Figure size 1000x500 with 1 Axes>"
      ]
     },
     "metadata": {},
     "output_type": "display_data"
    }
   ],
   "source": [
    "plot_pdf(ubcf_jacc.sim_matrix[triangle_mask], \"Jaccard sim\")"
   ]
  },
  {
   "cell_type": "code",
   "execution_count": 505,
   "id": "a63b7f46",
   "metadata": {},
   "outputs": [
    {
     "data": {
      "text/plain": [
       "count    185745.000000\n",
       "mean          0.041791\n",
       "std           0.053541\n",
       "min           0.000000\n",
       "25%           0.009934\n",
       "50%           0.026042\n",
       "75%           0.054585\n",
       "max           0.826087\n",
       "dtype: float64"
      ]
     },
     "execution_count": 505,
     "metadata": {},
     "output_type": "execute_result"
    }
   ],
   "source": [
    "pd.Series(ubcf_jacc.sim_matrix[triangle_mask]).describe()"
   ]
  },
  {
   "cell_type": "code",
   "execution_count": 506,
   "id": "ec5506f4",
   "metadata": {},
   "outputs": [
    {
     "data": {
      "application/vnd.jupyter.widget-view+json": {
       "model_id": "70a52cc72be04bc890afa64b888b70a4",
       "version_major": 2,
       "version_minor": 0
      },
      "text/plain": [
       "  0%|          | 0/610 [00:00<?, ?it/s]"
      ]
     },
     "metadata": {},
     "output_type": "display_data"
    }
   ],
   "source": [
    "# compute recommendations for dev dataset\n",
    "n_recommendations = 50\n",
    "jacc_neighboar_thres = 0.1  # based on plot above\n",
    "\n",
    "jacc_user_recommendations = {}\n",
    "for user_id in tqdm(np.unique(dev_data[:, 0])):\n",
    "    recommendations = ubcf_jacc.recommend(user=int(user_id), n=n_recommendations, neighboar_thres=jacc_neighboar_thres)\n",
    "    \n",
    "    recommended_movie_ids = menc.inverse_transform(recommendations)\n",
    "    jacc_user_recommendations[uenc.inverse_transform([int(user_id)])[0]] = recommended_movie_ids"
   ]
  },
  {
   "cell_type": "markdown",
   "id": "d371cb20",
   "metadata": {},
   "source": [
    "### Jaccard similarity w/o mean correct"
   ]
  },
  {
   "cell_type": "code",
   "execution_count": 585,
   "id": "2daa1712",
   "metadata": {},
   "outputs": [
    {
     "data": {
      "application/vnd.jupyter.widget-view+json": {
       "model_id": "cfa6f9811d304792a948f1b96f171c53",
       "version_major": 2,
       "version_minor": 0
      },
      "text/plain": [
       "  0%|          | 0/610 [00:00<?, ?it/s]"
      ]
     },
     "metadata": {},
     "output_type": "display_data"
    }
   ],
   "source": [
    "ubcf_jacc_2 = UserBasedCf(sim_fn=sim_jacc, mean_correct=False)\n",
    "ubcf_jacc_2.calc_sim_matrix(train_data)"
   ]
  },
  {
   "cell_type": "code",
   "execution_count": 594,
   "id": "1182d244",
   "metadata": {},
   "outputs": [
    {
     "data": {
      "image/png": "[encoded data removed]",
      "text/plain": [
       "<Figure size 1000x500 with 1 Axes>"
      ]
     },
     "metadata": {},
     "output_type": "display_data"
    }
   ],
   "source": [
    "plot_pdf(ubcf_jacc_2.sim_matrix[triangle_mask], \"Jaccard sim w/o mean correct\")"
   ]
  },
  {
   "cell_type": "code",
   "execution_count": 595,
   "id": "eee7bce6",
   "metadata": {},
   "outputs": [
    {
     "data": {
      "text/plain": [
       "count    185745.000000\n",
       "mean          0.042011\n",
       "std           0.053894\n",
       "min           0.000000\n",
       "25%           0.010101\n",
       "50%           0.026178\n",
       "75%           0.054726\n",
       "max           0.826087\n",
       "dtype: float64"
      ]
     },
     "execution_count": 595,
     "metadata": {},
     "output_type": "execute_result"
    }
   ],
   "source": [
    "pd.Series(ubcf_jacc_2.sim_matrix[triangle_mask]).describe()"
   ]
  },
  {
   "cell_type": "code",
   "execution_count": 596,
   "id": "dba907e3",
   "metadata": {},
   "outputs": [
    {
     "data": {
      "application/vnd.jupyter.widget-view+json": {
       "model_id": "84cdac3e8bf0448db06b556a7603870f",
       "version_major": 2,
       "version_minor": 0
      },
      "text/plain": [
       "  0%|          | 0/610 [00:00<?, ?it/s]"
      ]
     },
     "metadata": {},
     "output_type": "display_data"
    }
   ],
   "source": [
    "# compute recommendations for dev dataset\n",
    "n_recommendations = 50\n",
    "jacc_2_neighboar_thres = 0.15  # based on plot above\n",
    "\n",
    "jacc_2_user_recommendations = {}\n",
    "for user_id in tqdm(np.unique(dev_data[:, 0])):\n",
    "    recommendations = ubcf_jacc_2.recommend(user=int(user_id), n=n_recommendations, neighboar_thres=jacc_2_neighboar_thres)\n",
    "    \n",
    "    recommended_movie_ids = menc.inverse_transform(recommendations)\n",
    "    jacc_2_user_recommendations[uenc.inverse_transform([int(user_id)])[0]] = recommended_movie_ids"
   ]
  },
  {
   "cell_type": "markdown",
   "id": "cff65207",
   "metadata": {},
   "source": [
    "### Pearson correlation similarity with mean correct"
   ]
  },
  {
   "cell_type": "code",
   "execution_count": 511,
   "id": "a58bb736",
   "metadata": {},
   "outputs": [
    {
     "data": {
      "application/vnd.jupyter.widget-view+json": {
       "model_id": "4b6f9498c8db4821bb2c0126561368c3",
       "version_major": 2,
       "version_minor": 0
      },
      "text/plain": [
       "  0%|          | 0/610 [00:00<?, ?it/s]"
      ]
     },
     "metadata": {},
     "output_type": "display_data"
    },
    {
     "name": "stderr",
     "output_type": "stream",
     "text": [
      "/tmp/ipykernel_19386/3063891843.py:16: ConstantInputWarning: An input array is constant; the correlation coefficient is not defined.\n",
      "  sim = pearsonr(left, right)[0]\n"
     ]
    }
   ],
   "source": [
    "ubcf_pear = UserBasedCf(sim_fn=sim_pearson, mean_correct=True)\n",
    "ubcf_pear.calc_sim_matrix(train_data)"
   ]
  },
  {
   "cell_type": "code",
   "execution_count": 521,
   "id": "213634b7",
   "metadata": {},
   "outputs": [],
   "source": [
    "ubcf_pear.sim_matrix = np.nan_to_num(ubcf_pear.sim_matrix)"
   ]
  },
  {
   "cell_type": "code",
   "execution_count": 522,
   "id": "327eb1d5",
   "metadata": {},
   "outputs": [
    {
     "data": {
      "image/png": "[encoded data removed]",
      "text/plain": [
       "<Figure size 1000x500 with 1 Axes>"
      ]
     },
     "metadata": {},
     "output_type": "display_data"
    }
   ],
   "source": [
    "plot_pdf(ubcf_pear.sim_matrix[triangle_mask], \"Pearson sim\")"
   ]
  },
  {
   "cell_type": "code",
   "execution_count": 523,
   "id": "e1eba8a8",
   "metadata": {},
   "outputs": [
    {
     "data": {
      "text/plain": [
       "count    185745.000000\n",
       "mean          0.084684\n",
       "std           0.386483\n",
       "min          -1.000000\n",
       "25%           0.000000\n",
       "50%           0.000000\n",
       "75%           0.276783\n",
       "max           1.000000\n",
       "dtype: float64"
      ]
     },
     "execution_count": 523,
     "metadata": {},
     "output_type": "execute_result"
    }
   ],
   "source": [
    "pd.Series(ubcf_pear.sim_matrix[triangle_mask]).describe()"
   ]
  },
  {
   "cell_type": "code",
   "execution_count": 530,
   "id": "e2d857bd",
   "metadata": {},
   "outputs": [
    {
     "data": {
      "application/vnd.jupyter.widget-view+json": {
       "model_id": "2b32c232fdcc426b8dacb429180a9354",
       "version_major": 2,
       "version_minor": 0
      },
      "text/plain": [
       "  0%|          | 0/610 [00:00<?, ?it/s]"
      ]
     },
     "metadata": {},
     "output_type": "display_data"
    }
   ],
   "source": [
    "# compute recommendations for dev dataset\n",
    "n_recommendations = 50\n",
    "pear_neighboar_thres = 0.75  # based on plot above\n",
    "\n",
    "pear_user_recommendations = {}\n",
    "for user_id in tqdm(np.unique(dev_data[:, 0])):\n",
    "    recommendations = ubcf_pear.recommend(user=int(user_id), n=n_recommendations, neighboar_thres=pear_neighboar_thres)\n",
    "    \n",
    "    recommended_movie_ids = menc.inverse_transform(recommendations)\n",
    "    pear_user_recommendations[uenc.inverse_transform([int(user_id)])[0]] = recommended_movie_ids"
   ]
  },
  {
   "cell_type": "markdown",
   "id": "d09d52d2",
   "metadata": {},
   "source": [
    "### Pearson correlation similarity w/o mean correct"
   ]
  },
  {
   "cell_type": "code",
   "execution_count": 597,
   "id": "a6168459",
   "metadata": {},
   "outputs": [
    {
     "data": {
      "application/vnd.jupyter.widget-view+json": {
       "model_id": "edcad7ee0c6e4be0b1eb662b0aaf60a2",
       "version_major": 2,
       "version_minor": 0
      },
      "text/plain": [
       "  0%|          | 0/610 [00:00<?, ?it/s]"
      ]
     },
     "metadata": {},
     "output_type": "display_data"
    },
    {
     "name": "stderr",
     "output_type": "stream",
     "text": [
      "/tmp/ipykernel_19386/3063891843.py:16: ConstantInputWarning: An input array is constant; the correlation coefficient is not defined.\n",
      "  sim = pearsonr(left, right)[0]\n"
     ]
    }
   ],
   "source": [
    "ubcf_pear_2 = UserBasedCf(sim_fn=sim_pearson, mean_correct=False)\n",
    "ubcf_pear_2.calc_sim_matrix(train_data)"
   ]
  },
  {
   "cell_type": "code",
   "execution_count": 598,
   "id": "5e566cf0",
   "metadata": {},
   "outputs": [],
   "source": [
    "ubcf_pear_2.sim_matrix = np.nan_to_num(ubcf_pear_2.sim_matrix)"
   ]
  },
  {
   "cell_type": "code",
   "execution_count": 599,
   "id": "c836ce6a",
   "metadata": {},
   "outputs": [
    {
     "data": {
      "image/png": "[encoded data removed]",
      "text/plain": [
       "<Figure size 1000x500 with 1 Axes>"
      ]
     },
     "metadata": {},
     "output_type": "display_data"
    }
   ],
   "source": [
    "plot_pdf(ubcf_pear_2.sim_matrix[triangle_mask], \"Pearson sim w/o mean correct\")"
   ]
  },
  {
   "cell_type": "code",
   "execution_count": 600,
   "id": "6eca3372",
   "metadata": {},
   "outputs": [
    {
     "data": {
      "text/plain": [
       "count    185745.000000\n",
       "mean          0.084521\n",
       "std           0.386689\n",
       "min          -1.000000\n",
       "25%           0.000000\n",
       "50%           0.000000\n",
       "75%           0.277350\n",
       "max           1.000000\n",
       "dtype: float64"
      ]
     },
     "execution_count": 600,
     "metadata": {},
     "output_type": "execute_result"
    }
   ],
   "source": [
    "pd.Series(ubcf_pear_2.sim_matrix[triangle_mask]).describe()"
   ]
  },
  {
   "cell_type": "code",
   "execution_count": 602,
   "id": "8b114ec3",
   "metadata": {},
   "outputs": [
    {
     "data": {
      "application/vnd.jupyter.widget-view+json": {
       "model_id": "a6a7891d6f1a46f793be2a0717137ea1",
       "version_major": 2,
       "version_minor": 0
      },
      "text/plain": [
       "  0%|          | 0/610 [00:00<?, ?it/s]"
      ]
     },
     "metadata": {},
     "output_type": "display_data"
    }
   ],
   "source": [
    "# compute recommendations for dev dataset\n",
    "n_recommendations = 50\n",
    "pear_2_neighboar_thres = 0.75  # based on plot above\n",
    "\n",
    "pear_2_user_recommendations = {}\n",
    "for user_id in tqdm(np.unique(dev_data[:, 0])):\n",
    "    recommendations = ubcf_pear_2.recommend(user=int(user_id), n=n_recommendations, neighboar_thres=pear_2_neighboar_thres)\n",
    "    \n",
    "    recommended_movie_ids = menc.inverse_transform(recommendations)\n",
    "    pear_2_user_recommendations[uenc.inverse_transform([int(user_id)])[0]] = recommended_movie_ids"
   ]
  },
  {
   "cell_type": "markdown",
   "id": "7b87a1d7",
   "metadata": {},
   "source": [
    "### Pearson similarity with reduction with mean correct"
   ]
  },
  {
   "cell_type": "code",
   "execution_count": 532,
   "id": "f8c9477b",
   "metadata": {},
   "outputs": [
    {
     "data": {
      "application/vnd.jupyter.widget-view+json": {
       "model_id": "b211d226afd64877ae3a34940a8f4150",
       "version_major": 2,
       "version_minor": 0
      },
      "text/plain": [
       "  0%|          | 0/610 [00:00<?, ?it/s]"
      ]
     },
     "metadata": {},
     "output_type": "display_data"
    },
    {
     "name": "stderr",
     "output_type": "stream",
     "text": [
      "/tmp/ipykernel_19386/3703500813.py:15: ConstantInputWarning: An input array is constant; the correlation coefficient is not defined.\n",
      "  sim = coef * pearsonr(left, right)[0]\n"
     ]
    }
   ],
   "source": [
    "ubcf_pear_red = UserBasedCf(sim_fn=sim_pearson_decreasing, mean_correct=True)\n",
    "# training\n",
    "ubcf_pear_red.calc_sim_matrix(train_data)"
   ]
  },
  {
   "cell_type": "code",
   "execution_count": 533,
   "id": "30ce9f42",
   "metadata": {},
   "outputs": [],
   "source": [
    "ubcf_pear_red.sim_matrix = np.nan_to_num(ubcf_pear_red.sim_matrix)"
   ]
  },
  {
   "cell_type": "code",
   "execution_count": 534,
   "id": "0012c5a8",
   "metadata": {},
   "outputs": [
    {
     "data": {
      "image/png": "[encoded data removed]",
      "text/plain": [
       "<Figure size 1000x500 with 1 Axes>"
      ]
     },
     "metadata": {},
     "output_type": "display_data"
    }
   ],
   "source": [
    "plot_pdf(ubcf_pear_red.sim_matrix[triangle_mask], \"Pearson sim\")"
   ]
  },
  {
   "cell_type": "code",
   "execution_count": 535,
   "id": "deaba076",
   "metadata": {},
   "outputs": [
    {
     "data": {
      "text/plain": [
       "count    185745.000000\n",
       "mean          0.028991\n",
       "std           0.088067\n",
       "min          -0.480575\n",
       "25%           0.000000\n",
       "50%           0.000000\n",
       "75%           0.052095\n",
       "max           0.788457\n",
       "dtype: float64"
      ]
     },
     "execution_count": 535,
     "metadata": {},
     "output_type": "execute_result"
    }
   ],
   "source": [
    "pd.Series(ubcf_pear_red.sim_matrix[triangle_mask]).describe()"
   ]
  },
  {
   "cell_type": "code",
   "execution_count": 536,
   "id": "d3c6aed5",
   "metadata": {},
   "outputs": [
    {
     "data": {
      "application/vnd.jupyter.widget-view+json": {
       "model_id": "60833bd0bd9d47b69e5ad8c3d69bf434",
       "version_major": 2,
       "version_minor": 0
      },
      "text/plain": [
       "  0%|          | 0/610 [00:00<?, ?it/s]"
      ]
     },
     "metadata": {},
     "output_type": "display_data"
    }
   ],
   "source": [
    "# compute recommendations for dev dataset\n",
    "n_recommendations = 50\n",
    "pear_red_neighboar_thres = 0.1  # based on plot above\n",
    "\n",
    "pear_red_user_recommendations = {}\n",
    "for user_id in tqdm(np.unique(dev_data[:, 0])):\n",
    "    recommendations = ubcf_pear_red.recommend(user=int(user_id), n=n_recommendations, neighboar_thres=pear_red_neighboar_thres)\n",
    "    \n",
    "    recommended_movie_ids = menc.inverse_transform(recommendations)\n",
    "    pear_red_user_recommendations[uenc.inverse_transform([int(user_id)])[0]] = recommended_movie_ids"
   ]
  },
  {
   "cell_type": "markdown",
   "id": "464efa4b",
   "metadata": {},
   "source": [
    "### Pearson similarity with reduction w/o mean correct"
   ]
  },
  {
   "cell_type": "code",
   "execution_count": 604,
   "id": "e9b4a593",
   "metadata": {},
   "outputs": [
    {
     "data": {
      "application/vnd.jupyter.widget-view+json": {
       "model_id": "139f63febdf14d5097804fb03b6cf2ed",
       "version_major": 2,
       "version_minor": 0
      },
      "text/plain": [
       "  0%|          | 0/610 [00:00<?, ?it/s]"
      ]
     },
     "metadata": {},
     "output_type": "display_data"
    },
    {
     "name": "stderr",
     "output_type": "stream",
     "text": [
      "/tmp/ipykernel_19386/3703500813.py:15: ConstantInputWarning: An input array is constant; the correlation coefficient is not defined.\n",
      "  sim = coef * pearsonr(left, right)[0]\n"
     ]
    }
   ],
   "source": [
    "ubcf_pear_red_2 = UserBasedCf(sim_fn=sim_pearson_decreasing, mean_correct=False)\n",
    "ubcf_pear_red_2.calc_sim_matrix(train_data)"
   ]
  },
  {
   "cell_type": "code",
   "execution_count": 605,
   "id": "087a9f9c",
   "metadata": {},
   "outputs": [],
   "source": [
    "ubcf_pear_red_2.sim_matrix = np.nan_to_num(ubcf_pear_red_2.sim_matrix)"
   ]
  },
  {
   "cell_type": "code",
   "execution_count": 606,
   "id": "92cfbd54",
   "metadata": {},
   "outputs": [
    {
     "data": {
      "image/png": "[encoded data removed]",
      "text/plain": [
       "<Figure size 1000x500 with 1 Axes>"
      ]
     },
     "metadata": {},
     "output_type": "display_data"
    }
   ],
   "source": [
    "plot_pdf(ubcf_pear_red_2.sim_matrix[triangle_mask], \"Pearson sim w/o mean correct\")"
   ]
  },
  {
   "cell_type": "code",
   "execution_count": 607,
   "id": "7472eeb3",
   "metadata": {},
   "outputs": [
    {
     "data": {
      "text/plain": [
       "count    185745.000000\n",
       "mean          0.029035\n",
       "std           0.088165\n",
       "min          -0.480575\n",
       "25%           0.000000\n",
       "50%           0.000000\n",
       "75%           0.052449\n",
       "max           0.788457\n",
       "dtype: float64"
      ]
     },
     "execution_count": 607,
     "metadata": {},
     "output_type": "execute_result"
    }
   ],
   "source": [
    "pd.Series(ubcf_pear_red_2.sim_matrix[triangle_mask]).describe()"
   ]
  },
  {
   "cell_type": "code",
   "execution_count": 608,
   "id": "fddd3cac",
   "metadata": {},
   "outputs": [
    {
     "data": {
      "application/vnd.jupyter.widget-view+json": {
       "model_id": "0ee9283f0867425fb24b3ce030bc4878",
       "version_major": 2,
       "version_minor": 0
      },
      "text/plain": [
       "  0%|          | 0/610 [00:00<?, ?it/s]"
      ]
     },
     "metadata": {},
     "output_type": "display_data"
    }
   ],
   "source": [
    "# compute recommendations for dev dataset\n",
    "n_recommendations = 50\n",
    "pear_red_2_neighboar_thres = 0.2  # based on plot above\n",
    "\n",
    "pear_red_2_user_recommendations = {}\n",
    "for user_id in tqdm(np.unique(dev_data[:, 0])):\n",
    "    recommendations = ubcf_pear_red_2.recommend(user=int(user_id), n=n_recommendations, neighboar_thres=pear_red_2_neighboar_thres)\n",
    "    \n",
    "    recommended_movie_ids = menc.inverse_transform(recommendations)\n",
    "    pear_red_2_user_recommendations[uenc.inverse_transform([int(user_id)])[0]] = recommended_movie_ids"
   ]
  },
  {
   "cell_type": "markdown",
   "id": "px_-zJr71Wi4",
   "metadata": {
    "id": "px_-zJr71Wi4"
   },
   "source": [
    "2. Which metrics do you want to use? Why? (5 points)\n",
    "\n",
    "The common metrics for evaluating the recsys: precision@k, recall@k, mrr and ndcg.  \n",
    "Precision@k and recall@k focuses on unordered list of top recommendation and it's good base metrics, but it's don't accounting for the positions of recommendations inside top-k.  \n",
    "The mrr and ndcg highly consider the position of the recommendations, showing the accuracy of ranking of our recommendations (although the mrr consider only first relevant recommendation)  \n",
    "I think the most informative metric is ndcg, so i wanna calculate precision@k, recall@k and ndcg"
   ]
  },
  {
   "cell_type": "markdown",
   "id": "dAZKTE8J1d3h",
   "metadata": {
    "id": "dAZKTE8J1d3h"
   },
   "source": [
    "3. Show that your implementation is relevant by computing metrics. Compare algorithms. (15 points)"
   ]
  },
  {
   "cell_type": "code",
   "execution_count": 497,
   "id": "05a7b10e",
   "metadata": {},
   "outputs": [],
   "source": [
    "def calculate_metrics(dev_data, user_recommendations, k, relevance_threshold):\n",
    "    precision_at_k, recall_at_k, ndcg_at_k = [], [], []\n",
    "\n",
    "    for user_id in np.unique(dev_data[:, 0]):\n",
    "        user_truth = dev_data[dev_data[:, 0] == user_id]\n",
    "        relevant_items = set(user_truth[user_truth[:, 2] >= relevance_threshold][:, 1])\n",
    "\n",
    "        if not relevant_items:\n",
    "            continue\n",
    "\n",
    "        recommended_items = user_recommendations.get(user_id, [])[:k]\n",
    "\n",
    "        # precision@k\n",
    "        hits = len([item for item in recommended_items if item in relevant_items])\n",
    "        precision = hits / k\n",
    "        precision_at_k.append(precision)\n",
    "\n",
    "        # recall@k\n",
    "        recall = hits / len(relevant_items)\n",
    "        recall_at_k.append(recall)\n",
    "\n",
    "        # ndcg@k\n",
    "        dcg, idcg = 0.0, 0.0\n",
    "        for rank, item in enumerate(recommended_items, start=1):\n",
    "            if item in relevant_items:\n",
    "                dcg += 1 / np.log2(rank + 1)\n",
    "        for rank in range(1, min(len(relevant_items), k) + 1):\n",
    "            idcg += 1 / np.log2(rank + 1)\n",
    "        ndcg = dcg / idcg if idcg > 0 else 0\n",
    "        ndcg_at_k.append(ndcg)\n",
    "\n",
    "    mean_precision_at_k = np.mean(precision_at_k)\n",
    "    mean_recall_at_k = np.mean(recall_at_k)\n",
    "    mean_ndcg_at_k = np.mean(ndcg_at_k)\n",
    "\n",
    "    return mean_precision_at_k, mean_recall_at_k, mean_ndcg_at_k"
   ]
  },
  {
   "cell_type": "code",
   "execution_count": 555,
   "id": "PJzLpeIm1eti",
   "metadata": {
    "id": "PJzLpeIm1eti"
   },
   "outputs": [
    {
     "name": "stdout",
     "output_type": "stream",
     "text": [
      "Precision@50: 0.0021\n",
      "Recall@50: 0.0111\n",
      "NDCG@50: 0.0055\n"
     ]
    }
   ],
   "source": [
    "# dot similarity metrics with mean correct\n",
    "k = 50\n",
    "relevance_threshold = 4.0  # consider rating >= 4.0 as relevant\n",
    "\n",
    "dot_mean_precision, dot_mean_recall, dot_mean_ndcg = calculate_metrics(dev_data, dot_user_recommendations, k, relevance_threshold)\n",
    "print(f\"Precision@{k}: {dot_mean_precision:.4f}\")\n",
    "print(f\"Recall@{k}: {dot_mean_recall:.4f}\")\n",
    "print(f\"NDCG@{k}: {dot_mean_ndcg:.4f}\")"
   ]
  },
  {
   "cell_type": "code",
   "execution_count": 584,
   "id": "9ff223a2",
   "metadata": {},
   "outputs": [
    {
     "name": "stdout",
     "output_type": "stream",
     "text": [
      "Precision@50: 0.0022\n",
      "Recall@50: 0.0135\n",
      "NDCG@50: 0.0061\n"
     ]
    }
   ],
   "source": [
    "# dot similarity metrics w/o mean correct\n",
    "k = 50\n",
    "relevance_threshold = 4.0  # consider rating >= 4.0 as relevant\n",
    "\n",
    "dot_mean_precision, dot_mean_recall, dot_mean_ndcg = calculate_metrics(dev_data, dot_2_user_recommendations, k, relevance_threshold)\n",
    "print(f\"Precision@{k}: {dot_mean_precision:.4f}\")\n",
    "print(f\"Recall@{k}: {dot_mean_recall:.4f}\")\n",
    "print(f\"NDCG@{k}: {dot_mean_ndcg:.4f}\")"
   ]
  },
  {
   "cell_type": "code",
   "execution_count": 507,
   "id": "32d63e2e",
   "metadata": {},
   "outputs": [
    {
     "name": "stdout",
     "output_type": "stream",
     "text": [
      "Precision@50: 0.0032\n",
      "Recall@50: 0.0216\n",
      "NDCG@50: 0.0087\n"
     ]
    }
   ],
   "source": [
    "# jaccard similarity metrics with mean correct\n",
    "k = 50\n",
    "relevance_threshold = 4.0  # consider rating >= 4.0 as relevant\n",
    "\n",
    "jacc_mean_precision, jacc_mean_recall, jacc_mean_ndcg = calculate_metrics(dev_data, jacc_user_recommendations, k, relevance_threshold)\n",
    "print(f\"Precision@{k}: {jacc_mean_precision:.4f}\")\n",
    "print(f\"Recall@{k}: {jacc_mean_recall:.4f}\")\n",
    "print(f\"NDCG@{k}: {jacc_mean_ndcg:.4f}\")"
   ]
  },
  {
   "cell_type": "code",
   "execution_count": 589,
   "id": "9516342e",
   "metadata": {},
   "outputs": [
    {
     "name": "stdout",
     "output_type": "stream",
     "text": [
      "Precision@50: 0.0023\n",
      "Recall@50: 0.0160\n",
      "NDCG@50: 0.0067\n"
     ]
    }
   ],
   "source": [
    "# jaccard similarity metrics w/o mean correct\n",
    "k = 50\n",
    "relevance_threshold = 4.0  # consider rating >= 4.0 as relevant\n",
    "\n",
    "jacc_mean_precision, jacc_mean_recall, jacc_mean_ndcg = calculate_metrics(dev_data, jacc_2_user_recommendations, k, relevance_threshold)\n",
    "print(f\"Precision@{k}: {jacc_mean_precision:.4f}\")\n",
    "print(f\"Recall@{k}: {jacc_mean_recall:.4f}\")\n",
    "print(f\"NDCG@{k}: {jacc_mean_ndcg:.4f}\")"
   ]
  },
  {
   "cell_type": "code",
   "execution_count": 531,
   "id": "832545ca",
   "metadata": {},
   "outputs": [
    {
     "name": "stdout",
     "output_type": "stream",
     "text": [
      "Precision@50: 0.0017\n",
      "Recall@50: 0.0092\n",
      "NDCG@50: 0.0042\n"
     ]
    }
   ],
   "source": [
    "# pearson similarity metrics with mean correct\n",
    "k = 50\n",
    "relevance_threshold = 4.0  # consider rating >= 4.0 as relevant\n",
    "\n",
    "pear_mean_precision, pear_mean_recall, pear_mean_ndcg = calculate_metrics(dev_data, pear_user_recommendations, k, relevance_threshold)\n",
    "print(f\"Precision@{k}: {pear_mean_precision:.4f}\")\n",
    "print(f\"Recall@{k}: {pear_mean_recall:.4f}\")\n",
    "print(f\"NDCG@{k}: {pear_mean_ndcg:.4f}\")"
   ]
  },
  {
   "cell_type": "code",
   "execution_count": 603,
   "id": "ae5e0bfc",
   "metadata": {},
   "outputs": [
    {
     "name": "stdout",
     "output_type": "stream",
     "text": [
      "Precision@50: 0.0018\n",
      "Recall@50: 0.0079\n",
      "NDCG@50: 0.0039\n"
     ]
    }
   ],
   "source": [
    "# pearson similarity metrics w/o mean correct\n",
    "k = 50\n",
    "relevance_threshold = 4.0  # consider rating >= 4.0 as relevant\n",
    "\n",
    "pear_mean_precision, pear_mean_recall, pear_mean_ndcg = calculate_metrics(dev_data, pear_2_user_recommendations, k, relevance_threshold)\n",
    "print(f\"Precision@{k}: {pear_mean_precision:.4f}\")\n",
    "print(f\"Recall@{k}: {pear_mean_recall:.4f}\")\n",
    "print(f\"NDCG@{k}: {pear_mean_ndcg:.4f}\")"
   ]
  },
  {
   "cell_type": "code",
   "execution_count": 537,
   "id": "c4210d48",
   "metadata": {},
   "outputs": [
    {
     "name": "stdout",
     "output_type": "stream",
     "text": [
      "Precision@50: 0.0021\n",
      "Recall@50: 0.0106\n",
      "NDCG@50: 0.0054\n"
     ]
    }
   ],
   "source": [
    "# pearson with reduction similarity metrics with mean correct\n",
    "k = 50\n",
    "relevance_threshold = 4.0  # consider rating >= 4.0 as relevant\n",
    "\n",
    "pear_red_mean_precision, pear_red_mean_recall, pear_red_mean_ndcg = calculate_metrics(dev_data, pear_red_user_recommendations, k, relevance_threshold)\n",
    "print(f\"Precision@{k}: {pear_red_mean_precision:.4f}\")\n",
    "print(f\"Recall@{k}: {pear_red_mean_recall:.4f}\")\n",
    "print(f\"NDCG@{k}: {pear_red_mean_ndcg:.4f}\")"
   ]
  },
  {
   "cell_type": "code",
   "execution_count": 609,
   "id": "b653bbe9",
   "metadata": {},
   "outputs": [
    {
     "name": "stdout",
     "output_type": "stream",
     "text": [
      "Precision@50: 0.0020\n",
      "Recall@50: 0.0107\n",
      "NDCG@50: 0.0054\n"
     ]
    }
   ],
   "source": [
    "# pearson with reduction similarity metrics w/o mean correct\n",
    "k = 50\n",
    "relevance_threshold = 4.0  # consider rating >= 4.0 as relevant\n",
    "\n",
    "pear_red_mean_precision, pear_red_mean_recall, pear_red_mean_ndcg = calculate_metrics(dev_data, pear_red_2_user_recommendations, k, relevance_threshold)\n",
    "print(f\"Precision@{k}: {pear_red_mean_precision:.4f}\")\n",
    "print(f\"Recall@{k}: {pear_red_mean_recall:.4f}\")\n",
    "print(f\"NDCG@{k}: {pear_red_mean_ndcg:.4f}\")"
   ]
  },
  {
   "cell_type": "markdown",
   "id": "1df02129",
   "metadata": {},
   "source": [
    "summary:\n",
    "1. the metrics are very low, i try to use both mean_correct true and false, and different neighbor_thres\n",
    "2. despite that, jaccard similarity is the most effective for this dataset\n",
    "3. mean_correct=True improve performance a little in each case"
   ]
  },
  {
   "cell_type": "markdown",
   "id": "9d7f2723-f02e-4845-be78-eeae810ae0fb",
   "metadata": {
    "id": "9d7f2723-f02e-4845-be78-eeae810ae0fb"
   },
   "source": [
    "# Task 4: Your favorite films\n",
    "\n",
    "1. Choose from 10 to 50 films rated by you (you can export it from IMDB or kinopoisk) which are presented in Movielens dataset. </br> Print them in human readable form (5 points)"
   ]
  },
  {
   "cell_type": "code",
   "execution_count": 643,
   "id": "f2d209e8",
   "metadata": {},
   "outputs": [],
   "source": [
    "my_user_id = max(train_data[:, 0]) + 1"
   ]
  },
  {
   "cell_type": "code",
   "execution_count": 644,
   "id": "996748a9-3144-4897-90f9-eb60b74c30cc",
   "metadata": {
    "id": "996748a9-3144-4897-90f9-eb60b74c30cc"
   },
   "outputs": [
    {
     "data": {
      "text/plain": [
       "23"
      ]
     },
     "execution_count": 644,
     "metadata": {},
     "output_type": "execute_result"
    }
   ],
   "source": [
    "my_ratings = np.array([\n",
    "    [my_user_id, 2, 4.5],\n",
    "    [my_user_id, 13, 4.0],\n",
    "    [my_user_id, 111, 5.0],\n",
    "    [my_user_id, 231, 1.0],\n",
    "    [my_user_id, 260, 5.0],\n",
    "    [my_user_id, 267, 5.0],\n",
    "    [my_user_id, 296, 5.0],\n",
    "    [my_user_id, 318, 5.0],\n",
    "    [my_user_id, 339, 2.0],\n",
    "    [my_user_id, 344, 3.5],\n",
    "    [my_user_id, 356, 4.5],\n",
    "    [my_user_id, 364, 4.5],\n",
    "    [my_user_id, 367, 3.5],\n",
    "    [my_user_id, 480, 4.0],\n",
    "    [my_user_id, 502, 3.0],\n",
    "    [my_user_id, 519, 2.0],\n",
    "    [my_user_id, 527, 5.0],\n",
    "    [my_user_id, 541, 5.0],\n",
    "    [my_user_id, 546, 2.0],\n",
    "    [my_user_id, 592, 4.5],\n",
    "    [my_user_id, 648, 4.0],\n",
    "    [my_user_id, 858, 5.0],\n",
    "    [my_user_id, 968, 1.0]\n",
    "])\n",
    "len(my_ratings)"
   ]
  },
  {
   "cell_type": "code",
   "execution_count": 645,
   "id": "32f836f3",
   "metadata": {},
   "outputs": [
    {
     "name": "stdout",
     "output_type": "stream",
     "text": [
      "4.5   Jumanji (1995), Adventure|Children|Fantasy\n",
      "4.0   Balto (1995), Adventure|Animation|Children\n",
      "5.0   Taxi Driver (1976), Crime|Drama|Thriller\n",
      "1.0   Dumb & Dumber (Dumb and Dumber) (1994), Adventure|Comedy\n",
      "5.0   Star Wars: Episode IV - A New Hope (1977), Action|Adventure|Sci-Fi\n",
      "5.0   Major Payne (1995), Comedy\n",
      "5.0   Pulp Fiction (1994), Comedy|Crime|Drama|Thriller\n",
      "5.0   Shawshank Redemption, The (1994), Crime|Drama\n",
      "2.0   While You Were Sleeping (1995), Comedy|Romance\n",
      "3.5   Ace Ventura: Pet Detective (1994), Comedy\n",
      "4.5   Forrest Gump (1994), Comedy|Drama|Romance|War\n",
      "4.5   Lion King, The (1994), Adventure|Animation|Children|Drama|Musical|IMAX\n",
      "3.5   Mask, The (1994), Action|Comedy|Crime|Fantasy\n",
      "4.0   Jurassic Park (1993), Action|Adventure|Sci-Fi|Thriller\n",
      "3.0   Next Karate Kid, The (1994), Action|Children|Romance\n",
      "2.0   RoboCop 3 (1993), Action|Crime|Drama|Sci-Fi|Thriller\n",
      "5.0   Schindler's List (1993), Drama|War\n",
      "5.0   Blade Runner (1982), Action|Sci-Fi|Thriller\n",
      "2.0   Super Mario Bros. (1993), Action|Adventure|Children|Comedy|Fantasy|Sci-Fi\n",
      "4.5   Batman (1989), Action|Crime|Thriller\n",
      "4.0   Mission: Impossible (1996), Action|Adventure|Mystery|Thriller\n",
      "5.0   Godfather, The (1972), Crime|Drama\n",
      "1.0   Night of the Living Dead (1968), Horror|Sci-Fi|Thriller\n"
     ]
    }
   ],
   "source": [
    "for movie_id, rating in my_ratings[:, 1:]:\n",
    "    print(f\"{rating}   {movies[movies[\"movieId\"] == movie_id].title.values[0]}, {movies[movies[\"movieId\"] == movie_id].genres.values[0]}\")"
   ]
  },
  {
   "cell_type": "markdown",
   "id": "b52d0683-0601-4e98-92fb-457891a17f77",
   "metadata": {
    "id": "b52d0683-0601-4e98-92fb-457891a17f77"
   },
   "source": [
    "2. Compute top 10 recomendations based on this films for each of 6 methods implemented. Print them in **human readable from** (5 points)"
   ]
  },
  {
   "cell_type": "code",
   "execution_count": 646,
   "id": "e8fdfaa6",
   "metadata": {},
   "outputs": [],
   "source": [
    "# add me at train dataset\n",
    "train_data_w_me = np.concatenate((train_data, my_ratings), axis=0)"
   ]
  },
  {
   "cell_type": "code",
   "execution_count": 647,
   "id": "752fb750",
   "metadata": {},
   "outputs": [],
   "source": [
    "n_recommendations = 10"
   ]
  },
  {
   "cell_type": "code",
   "execution_count": 648,
   "id": "f40b1f3e-8342-4564-8cf9-10766e65baea",
   "metadata": {
    "id": "f40b1f3e-8342-4564-8cf9-10766e65baea"
   },
   "outputs": [
    {
     "data": {
      "application/vnd.jupyter.widget-view+json": {
       "model_id": "501363b4b3e944ecaa571dc2d906db4e",
       "version_major": 2,
       "version_minor": 0
      },
      "text/plain": [
       "  0%|          | 0/611 [00:00<?, ?it/s]"
      ]
     },
     "metadata": {},
     "output_type": "display_data"
    }
   ],
   "source": [
    "# dot product similarity with mean correct\n",
    "ubcf_dot = UserBasedCf(sim_fn=sim_dot, mean_correct=True)\n",
    "ubcf_dot.calc_sim_matrix(train_data_w_me)\n",
    "\n",
    "dot_my_rec = ubcf_dot.recommend(user=int(my_user_id), \n",
    "                                n=n_recommendations, \n",
    "                                neighboar_thres=dot_neighboar_thres)\n",
    "recommended_movie_ids = menc.inverse_transform(dot_my_rec)"
   ]
  },
  {
   "cell_type": "code",
   "execution_count": 650,
   "id": "cb6669cb",
   "metadata": {},
   "outputs": [
    {
     "data": {
      "text/html": [
       "<div>\n",
       "<style scoped>\n",
       "    .dataframe tbody tr th:only-of-type {\n",
       "        vertical-align: middle;\n",
       "    }\n",
       "\n",
       "    .dataframe tbody tr th {\n",
       "        vertical-align: top;\n",
       "    }\n",
       "\n",
       "    .dataframe thead th {\n",
       "        text-align: right;\n",
       "    }\n",
       "</style>\n",
       "<table border=\"1\" class=\"dataframe\">\n",
       "  <thead>\n",
       "    <tr style=\"text-align: right;\">\n",
       "      <th></th>\n",
       "      <th>title</th>\n",
       "      <th>genres</th>\n",
       "    </tr>\n",
       "  </thead>\n",
       "  <tbody>\n",
       "    <tr>\n",
       "      <th>318</th>\n",
       "      <td>I Love Trouble (1994)</td>\n",
       "      <td>Action|Comedy</td>\n",
       "    </tr>\n",
       "    <tr>\n",
       "      <th>260</th>\n",
       "      <td>Quiz Show (1994)</td>\n",
       "      <td>Drama</td>\n",
       "    </tr>\n",
       "    <tr>\n",
       "      <th>593</th>\n",
       "      <td>Cemetery Man (Dellamorte Dellamore) (1994)</td>\n",
       "      <td>Horror</td>\n",
       "    </tr>\n",
       "    <tr>\n",
       "      <th>1197</th>\n",
       "      <td>In the Company of Men (1997)</td>\n",
       "      <td>Comedy|Drama</td>\n",
       "    </tr>\n",
       "    <tr>\n",
       "      <th>2959</th>\n",
       "      <td>Billy Elliot (2000)</td>\n",
       "      <td>Drama</td>\n",
       "    </tr>\n",
       "    <tr>\n",
       "      <th>2858</th>\n",
       "      <td>Autumn in New York (2000)</td>\n",
       "      <td>Drama|Romance</td>\n",
       "    </tr>\n",
       "    <tr>\n",
       "      <th>1193</th>\n",
       "      <td>Event Horizon (1997)</td>\n",
       "      <td>Horror|Sci-Fi|Thriller</td>\n",
       "    </tr>\n",
       "    <tr>\n",
       "      <th>356</th>\n",
       "      <td>Age of Innocence, The (1993)</td>\n",
       "      <td>Drama</td>\n",
       "    </tr>\n",
       "    <tr>\n",
       "      <th>527</th>\n",
       "      <td>Aristocats, The (1970)</td>\n",
       "      <td>Animation|Children</td>\n",
       "    </tr>\n",
       "    <tr>\n",
       "      <th>1</th>\n",
       "      <td>Jumanji (1995)</td>\n",
       "      <td>Adventure|Children|Fantasy</td>\n",
       "    </tr>\n",
       "  </tbody>\n",
       "</table>\n",
       "</div>"
      ],
      "text/plain": [
       "                                           title                      genres\n",
       "318                        I Love Trouble (1994)               Action|Comedy\n",
       "260                             Quiz Show (1994)                       Drama\n",
       "593   Cemetery Man (Dellamorte Dellamore) (1994)                      Horror\n",
       "1197                In the Company of Men (1997)                Comedy|Drama\n",
       "2959                         Billy Elliot (2000)                       Drama\n",
       "2858                   Autumn in New York (2000)               Drama|Romance\n",
       "1193                        Event Horizon (1997)      Horror|Sci-Fi|Thriller\n",
       "356                 Age of Innocence, The (1993)                       Drama\n",
       "527                       Aristocats, The (1970)          Animation|Children\n",
       "1                                 Jumanji (1995)  Adventure|Children|Fantasy"
      ]
     },
     "execution_count": 650,
     "metadata": {},
     "output_type": "execute_result"
    }
   ],
   "source": [
    "movies.loc[recommended_movie_ids, [\"title\", \"genres\"]]"
   ]
  },
  {
   "cell_type": "code",
   "execution_count": 652,
   "id": "85c75ef9",
   "metadata": {},
   "outputs": [
    {
     "data": {
      "application/vnd.jupyter.widget-view+json": {
       "model_id": "19b9695983c94a6fb10c29f519f9b629",
       "version_major": 2,
       "version_minor": 0
      },
      "text/plain": [
       "  0%|          | 0/611 [00:00<?, ?it/s]"
      ]
     },
     "metadata": {},
     "output_type": "display_data"
    },
    {
     "data": {
      "text/html": [
       "<div>\n",
       "<style scoped>\n",
       "    .dataframe tbody tr th:only-of-type {\n",
       "        vertical-align: middle;\n",
       "    }\n",
       "\n",
       "    .dataframe tbody tr th {\n",
       "        vertical-align: top;\n",
       "    }\n",
       "\n",
       "    .dataframe thead th {\n",
       "        text-align: right;\n",
       "    }\n",
       "</style>\n",
       "<table border=\"1\" class=\"dataframe\">\n",
       "  <thead>\n",
       "    <tr style=\"text-align: right;\">\n",
       "      <th></th>\n",
       "      <th>title</th>\n",
       "      <th>genres</th>\n",
       "    </tr>\n",
       "  </thead>\n",
       "  <tbody>\n",
       "    <tr>\n",
       "      <th>318</th>\n",
       "      <td>I Love Trouble (1994)</td>\n",
       "      <td>Action|Comedy</td>\n",
       "    </tr>\n",
       "    <tr>\n",
       "      <th>356</th>\n",
       "      <td>Age of Innocence, The (1993)</td>\n",
       "      <td>Drama</td>\n",
       "    </tr>\n",
       "    <tr>\n",
       "      <th>110</th>\n",
       "      <td>Jupiter's Wife (1994)</td>\n",
       "      <td>Documentary</td>\n",
       "    </tr>\n",
       "    <tr>\n",
       "      <th>457</th>\n",
       "      <td>Romper Stomper (1992)</td>\n",
       "      <td>Action|Drama</td>\n",
       "    </tr>\n",
       "    <tr>\n",
       "      <th>293</th>\n",
       "      <td>Underneath (1995)</td>\n",
       "      <td>Mystery|Thriller</td>\n",
       "    </tr>\n",
       "    <tr>\n",
       "      <th>589</th>\n",
       "      <td>Last Dance (1996)</td>\n",
       "      <td>Drama</td>\n",
       "    </tr>\n",
       "    <tr>\n",
       "      <th>480</th>\n",
       "      <td>Terminal Velocity (1994)</td>\n",
       "      <td>Action|Mystery|Thriller</td>\n",
       "    </tr>\n",
       "    <tr>\n",
       "      <th>32</th>\n",
       "      <td>Babe (1995)</td>\n",
       "      <td>Children|Drama</td>\n",
       "    </tr>\n",
       "    <tr>\n",
       "      <th>296</th>\n",
       "      <td>Virtuosity (1995)</td>\n",
       "      <td>Action|Sci-Fi|Thriller</td>\n",
       "    </tr>\n",
       "    <tr>\n",
       "      <th>353</th>\n",
       "      <td>8 Seconds (1994)</td>\n",
       "      <td>Drama</td>\n",
       "    </tr>\n",
       "  </tbody>\n",
       "</table>\n",
       "</div>"
      ],
      "text/plain": [
       "                            title                   genres\n",
       "318         I Love Trouble (1994)            Action|Comedy\n",
       "356  Age of Innocence, The (1993)                    Drama\n",
       "110         Jupiter's Wife (1994)              Documentary\n",
       "457         Romper Stomper (1992)             Action|Drama\n",
       "293             Underneath (1995)         Mystery|Thriller\n",
       "589             Last Dance (1996)                    Drama\n",
       "480      Terminal Velocity (1994)  Action|Mystery|Thriller\n",
       "32                    Babe (1995)           Children|Drama\n",
       "296             Virtuosity (1995)   Action|Sci-Fi|Thriller\n",
       "353              8 Seconds (1994)                    Drama"
      ]
     },
     "execution_count": 652,
     "metadata": {},
     "output_type": "execute_result"
    }
   ],
   "source": [
    "# dot product similarity w/o mean correct\n",
    "ubcf_dot_2 = UserBasedCf(sim_fn=sim_dot, mean_correct=False)\n",
    "ubcf_dot_2.calc_sim_matrix(train_data_w_me)\n",
    "\n",
    "dot_my_rec = ubcf_dot_2.recommend(user=int(my_user_id), \n",
    "                                n=n_recommendations, \n",
    "                                neighboar_thres=dot_2_neighboar_thres)\n",
    "recommended_movie_ids_2 = menc.inverse_transform(dot_my_rec)\n",
    "\n",
    "movies.loc[recommended_movie_ids_2, [\"title\", \"genres\"]]"
   ]
  },
  {
   "cell_type": "code",
   "execution_count": 653,
   "id": "d17786d6",
   "metadata": {},
   "outputs": [
    {
     "data": {
      "application/vnd.jupyter.widget-view+json": {
       "model_id": "3fd2f5a25e704c11862565127a36bfb4",
       "version_major": 2,
       "version_minor": 0
      },
      "text/plain": [
       "  0%|          | 0/611 [00:00<?, ?it/s]"
      ]
     },
     "metadata": {},
     "output_type": "display_data"
    },
    {
     "data": {
      "text/html": [
       "<div>\n",
       "<style scoped>\n",
       "    .dataframe tbody tr th:only-of-type {\n",
       "        vertical-align: middle;\n",
       "    }\n",
       "\n",
       "    .dataframe tbody tr th {\n",
       "        vertical-align: top;\n",
       "    }\n",
       "\n",
       "    .dataframe thead th {\n",
       "        text-align: right;\n",
       "    }\n",
       "</style>\n",
       "<table border=\"1\" class=\"dataframe\">\n",
       "  <thead>\n",
       "    <tr style=\"text-align: right;\">\n",
       "      <th></th>\n",
       "      <th>title</th>\n",
       "      <th>genres</th>\n",
       "    </tr>\n",
       "  </thead>\n",
       "  <tbody>\n",
       "    <tr>\n",
       "      <th>1356</th>\n",
       "      <td>Zero Effect (1998)</td>\n",
       "      <td>Comedy|Mystery|Thriller</td>\n",
       "    </tr>\n",
       "    <tr>\n",
       "      <th>780</th>\n",
       "      <td>Cinderella (1950)</td>\n",
       "      <td>Animation|Children|Fantasy|Musical|Romance</td>\n",
       "    </tr>\n",
       "    <tr>\n",
       "      <th>736</th>\n",
       "      <td>Penny Serenade (1941)</td>\n",
       "      <td>Drama|Romance</td>\n",
       "    </tr>\n",
       "    <tr>\n",
       "      <th>626</th>\n",
       "      <td>Daylight (1996)</td>\n",
       "      <td>Action|Adventure|Drama|Thriller</td>\n",
       "    </tr>\n",
       "    <tr>\n",
       "      <th>619</th>\n",
       "      <td>Cable Guy, The (1996)</td>\n",
       "      <td>Comedy|Thriller</td>\n",
       "    </tr>\n",
       "    <tr>\n",
       "      <th>116</th>\n",
       "      <td>Birdcage, The (1996)</td>\n",
       "      <td>Comedy</td>\n",
       "    </tr>\n",
       "    <tr>\n",
       "      <th>68</th>\n",
       "      <td>Screamers (1995)</td>\n",
       "      <td>Action|Sci-Fi|Thriller</td>\n",
       "    </tr>\n",
       "    <tr>\n",
       "      <th>62</th>\n",
       "      <td>From Dusk Till Dawn (1996)</td>\n",
       "      <td>Action|Comedy|Horror|Thriller</td>\n",
       "    </tr>\n",
       "    <tr>\n",
       "      <th>40</th>\n",
       "      <td>Mortal Kombat (1995)</td>\n",
       "      <td>Action|Adventure|Fantasy</td>\n",
       "    </tr>\n",
       "  </tbody>\n",
       "</table>\n",
       "</div>"
      ],
      "text/plain": [
       "                           title                                      genres\n",
       "1356          Zero Effect (1998)                     Comedy|Mystery|Thriller\n",
       "780            Cinderella (1950)  Animation|Children|Fantasy|Musical|Romance\n",
       "736        Penny Serenade (1941)                               Drama|Romance\n",
       "626              Daylight (1996)             Action|Adventure|Drama|Thriller\n",
       "619        Cable Guy, The (1996)                             Comedy|Thriller\n",
       "116         Birdcage, The (1996)                                      Comedy\n",
       "68              Screamers (1995)                      Action|Sci-Fi|Thriller\n",
       "62    From Dusk Till Dawn (1996)               Action|Comedy|Horror|Thriller\n",
       "40          Mortal Kombat (1995)                    Action|Adventure|Fantasy"
      ]
     },
     "execution_count": 653,
     "metadata": {},
     "output_type": "execute_result"
    }
   ],
   "source": [
    "# jaccard similarity with mean correct\n",
    "ubcf_jacc = UserBasedCf(sim_fn=sim_jacc, mean_correct=True)\n",
    "ubcf_jacc.calc_sim_matrix(train_data_w_me)\n",
    "\n",
    "dot_my_rec = ubcf_jacc.recommend(user=int(my_user_id), \n",
    "                                n=n_recommendations, \n",
    "                                neighboar_thres=jacc_neighboar_thres)\n",
    "recommended_movie_ids_3 = menc.inverse_transform(dot_my_rec)\n",
    "\n",
    "movies.loc[recommended_movie_ids_3, [\"title\", \"genres\"]]"
   ]
  },
  {
   "cell_type": "code",
   "execution_count": 656,
   "id": "238ca09a",
   "metadata": {},
   "outputs": [
    {
     "data": {
      "application/vnd.jupyter.widget-view+json": {
       "model_id": "dfbaa96ec8df48bdb6194e2f37374f1f",
       "version_major": 2,
       "version_minor": 0
      },
      "text/plain": [
       "  0%|          | 0/611 [00:00<?, ?it/s]"
      ]
     },
     "metadata": {},
     "output_type": "display_data"
    },
    {
     "data": {
      "text/html": [
       "<div>\n",
       "<style scoped>\n",
       "    .dataframe tbody tr th:only-of-type {\n",
       "        vertical-align: middle;\n",
       "    }\n",
       "\n",
       "    .dataframe tbody tr th {\n",
       "        vertical-align: top;\n",
       "    }\n",
       "\n",
       "    .dataframe thead th {\n",
       "        text-align: right;\n",
       "    }\n",
       "</style>\n",
       "<table border=\"1\" class=\"dataframe\">\n",
       "  <thead>\n",
       "    <tr style=\"text-align: right;\">\n",
       "      <th></th>\n",
       "      <th>title</th>\n",
       "      <th>genres</th>\n",
       "    </tr>\n",
       "  </thead>\n",
       "  <tbody>\n",
       "    <tr>\n",
       "      <th>1356</th>\n",
       "      <td>Zero Effect (1998)</td>\n",
       "      <td>Comedy|Mystery|Thriller</td>\n",
       "    </tr>\n",
       "    <tr>\n",
       "      <th>780</th>\n",
       "      <td>Cinderella (1950)</td>\n",
       "      <td>Animation|Children|Fantasy|Musical|Romance</td>\n",
       "    </tr>\n",
       "    <tr>\n",
       "      <th>736</th>\n",
       "      <td>Penny Serenade (1941)</td>\n",
       "      <td>Drama|Romance</td>\n",
       "    </tr>\n",
       "    <tr>\n",
       "      <th>626</th>\n",
       "      <td>Daylight (1996)</td>\n",
       "      <td>Action|Adventure|Drama|Thriller</td>\n",
       "    </tr>\n",
       "    <tr>\n",
       "      <th>619</th>\n",
       "      <td>Cable Guy, The (1996)</td>\n",
       "      <td>Comedy|Thriller</td>\n",
       "    </tr>\n",
       "    <tr>\n",
       "      <th>116</th>\n",
       "      <td>Birdcage, The (1996)</td>\n",
       "      <td>Comedy</td>\n",
       "    </tr>\n",
       "    <tr>\n",
       "      <th>68</th>\n",
       "      <td>Screamers (1995)</td>\n",
       "      <td>Action|Sci-Fi|Thriller</td>\n",
       "    </tr>\n",
       "    <tr>\n",
       "      <th>62</th>\n",
       "      <td>From Dusk Till Dawn (1996)</td>\n",
       "      <td>Action|Comedy|Horror|Thriller</td>\n",
       "    </tr>\n",
       "    <tr>\n",
       "      <th>40</th>\n",
       "      <td>Mortal Kombat (1995)</td>\n",
       "      <td>Action|Adventure|Fantasy</td>\n",
       "    </tr>\n",
       "    <tr>\n",
       "      <th>648</th>\n",
       "      <td>Chain Reaction (1996)</td>\n",
       "      <td>Action|Adventure|Thriller</td>\n",
       "    </tr>\n",
       "  </tbody>\n",
       "</table>\n",
       "</div>"
      ],
      "text/plain": [
       "                           title                                      genres\n",
       "1356          Zero Effect (1998)                     Comedy|Mystery|Thriller\n",
       "780            Cinderella (1950)  Animation|Children|Fantasy|Musical|Romance\n",
       "736        Penny Serenade (1941)                               Drama|Romance\n",
       "626              Daylight (1996)             Action|Adventure|Drama|Thriller\n",
       "619        Cable Guy, The (1996)                             Comedy|Thriller\n",
       "116         Birdcage, The (1996)                                      Comedy\n",
       "68              Screamers (1995)                      Action|Sci-Fi|Thriller\n",
       "62    From Dusk Till Dawn (1996)               Action|Comedy|Horror|Thriller\n",
       "40          Mortal Kombat (1995)                    Action|Adventure|Fantasy\n",
       "648        Chain Reaction (1996)                   Action|Adventure|Thriller"
      ]
     },
     "execution_count": 656,
     "metadata": {},
     "output_type": "execute_result"
    }
   ],
   "source": [
    "# jaccard similarity w/o mean correct\n",
    "ubcf_jacc_2 = UserBasedCf(sim_fn=sim_jacc, mean_correct=False)\n",
    "ubcf_jacc_2.calc_sim_matrix(train_data_w_me)\n",
    "\n",
    "dot_my_rec = ubcf_jacc_2.recommend(user=int(my_user_id), \n",
    "                                n=n_recommendations, \n",
    "                                neighboar_thres=0.1)\n",
    "recommended_movie_ids_4 = menc.inverse_transform(dot_my_rec)\n",
    "\n",
    "movies.loc[recommended_movie_ids_4, [\"title\", \"genres\"]]"
   ]
  },
  {
   "cell_type": "code",
   "execution_count": 658,
   "id": "8cba91ad",
   "metadata": {},
   "outputs": [
    {
     "data": {
      "application/vnd.jupyter.widget-view+json": {
       "model_id": "be48bde6a983420baba3a800a0071225",
       "version_major": 2,
       "version_minor": 0
      },
      "text/plain": [
       "  0%|          | 0/611 [00:00<?, ?it/s]"
      ]
     },
     "metadata": {},
     "output_type": "display_data"
    },
    {
     "name": "stderr",
     "output_type": "stream",
     "text": [
      "/tmp/ipykernel_19386/3063891843.py:16: ConstantInputWarning: An input array is constant; the correlation coefficient is not defined.\n",
      "  sim = pearsonr(left, right)[0]\n"
     ]
    },
    {
     "data": {
      "text/html": [
       "<div>\n",
       "<style scoped>\n",
       "    .dataframe tbody tr th:only-of-type {\n",
       "        vertical-align: middle;\n",
       "    }\n",
       "\n",
       "    .dataframe tbody tr th {\n",
       "        vertical-align: top;\n",
       "    }\n",
       "\n",
       "    .dataframe thead th {\n",
       "        text-align: right;\n",
       "    }\n",
       "</style>\n",
       "<table border=\"1\" class=\"dataframe\">\n",
       "  <thead>\n",
       "    <tr style=\"text-align: right;\">\n",
       "      <th></th>\n",
       "      <th>title</th>\n",
       "      <th>genres</th>\n",
       "    </tr>\n",
       "  </thead>\n",
       "  <tbody>\n",
       "    <tr>\n",
       "      <th>318</th>\n",
       "      <td>I Love Trouble (1994)</td>\n",
       "      <td>Action|Comedy</td>\n",
       "    </tr>\n",
       "    <tr>\n",
       "      <th>356</th>\n",
       "      <td>Age of Innocence, The (1993)</td>\n",
       "      <td>Drama</td>\n",
       "    </tr>\n",
       "    <tr>\n",
       "      <th>110</th>\n",
       "      <td>Jupiter's Wife (1994)</td>\n",
       "      <td>Documentary</td>\n",
       "    </tr>\n",
       "    <tr>\n",
       "      <th>1</th>\n",
       "      <td>Jumanji (1995)</td>\n",
       "      <td>Adventure|Children|Fantasy</td>\n",
       "    </tr>\n",
       "    <tr>\n",
       "      <th>593</th>\n",
       "      <td>Cemetery Man (Dellamorte Dellamore) (1994)</td>\n",
       "      <td>Horror</td>\n",
       "    </tr>\n",
       "    <tr>\n",
       "      <th>1197</th>\n",
       "      <td>In the Company of Men (1997)</td>\n",
       "      <td>Comedy|Drama</td>\n",
       "    </tr>\n",
       "    <tr>\n",
       "      <th>608</th>\n",
       "      <td>Heavy (1995)</td>\n",
       "      <td>Drama|Romance</td>\n",
       "    </tr>\n",
       "    <tr>\n",
       "      <th>1265</th>\n",
       "      <td>Sliding Doors (1998)</td>\n",
       "      <td>Drama|Romance</td>\n",
       "    </tr>\n",
       "    <tr>\n",
       "      <th>2571</th>\n",
       "      <td>Teenage Mutant Ninja Turtles II: The Secret of...</td>\n",
       "      <td>Action|Children|Fantasy</td>\n",
       "    </tr>\n",
       "    <tr>\n",
       "      <th>2858</th>\n",
       "      <td>Autumn in New York (2000)</td>\n",
       "      <td>Drama|Romance</td>\n",
       "    </tr>\n",
       "  </tbody>\n",
       "</table>\n",
       "</div>"
      ],
      "text/plain": [
       "                                                  title  \\\n",
       "318                               I Love Trouble (1994)   \n",
       "356                        Age of Innocence, The (1993)   \n",
       "110                               Jupiter's Wife (1994)   \n",
       "1                                        Jumanji (1995)   \n",
       "593          Cemetery Man (Dellamorte Dellamore) (1994)   \n",
       "1197                       In the Company of Men (1997)   \n",
       "608                                        Heavy (1995)   \n",
       "1265                               Sliding Doors (1998)   \n",
       "2571  Teenage Mutant Ninja Turtles II: The Secret of...   \n",
       "2858                          Autumn in New York (2000)   \n",
       "\n",
       "                          genres  \n",
       "318                Action|Comedy  \n",
       "356                        Drama  \n",
       "110                  Documentary  \n",
       "1     Adventure|Children|Fantasy  \n",
       "593                       Horror  \n",
       "1197                Comedy|Drama  \n",
       "608                Drama|Romance  \n",
       "1265               Drama|Romance  \n",
       "2571     Action|Children|Fantasy  \n",
       "2858               Drama|Romance  "
      ]
     },
     "execution_count": 658,
     "metadata": {},
     "output_type": "execute_result"
    }
   ],
   "source": [
    "# pearson correlation with mean correct\n",
    "ubcf_pear = UserBasedCf(sim_fn=sim_pearson, mean_correct=True)\n",
    "ubcf_pear.calc_sim_matrix(train_data_w_me)\n",
    "ubcf_pear.sim_matrix = np.nan_to_num(ubcf_pear.sim_matrix)\n",
    "\n",
    "dot_my_rec = ubcf_pear.recommend(user=int(my_user_id), \n",
    "                                n=n_recommendations, \n",
    "                                neighboar_thres=pear_neighboar_thres)\n",
    "recommended_movie_ids_5 = menc.inverse_transform(dot_my_rec)\n",
    "\n",
    "movies.loc[recommended_movie_ids_5, [\"title\", \"genres\"]]"
   ]
  },
  {
   "cell_type": "code",
   "execution_count": 660,
   "id": "11535b52",
   "metadata": {},
   "outputs": [
    {
     "data": {
      "application/vnd.jupyter.widget-view+json": {
       "model_id": "f52999ab0d9f462f91f3800bcb2e0b17",
       "version_major": 2,
       "version_minor": 0
      },
      "text/plain": [
       "  0%|          | 0/611 [00:00<?, ?it/s]"
      ]
     },
     "metadata": {},
     "output_type": "display_data"
    },
    {
     "name": "stderr",
     "output_type": "stream",
     "text": [
      "/tmp/ipykernel_19386/3063891843.py:16: ConstantInputWarning: An input array is constant; the correlation coefficient is not defined.\n",
      "  sim = pearsonr(left, right)[0]\n"
     ]
    },
    {
     "data": {
      "text/html": [
       "<div>\n",
       "<style scoped>\n",
       "    .dataframe tbody tr th:only-of-type {\n",
       "        vertical-align: middle;\n",
       "    }\n",
       "\n",
       "    .dataframe tbody tr th {\n",
       "        vertical-align: top;\n",
       "    }\n",
       "\n",
       "    .dataframe thead th {\n",
       "        text-align: right;\n",
       "    }\n",
       "</style>\n",
       "<table border=\"1\" class=\"dataframe\">\n",
       "  <thead>\n",
       "    <tr style=\"text-align: right;\">\n",
       "      <th></th>\n",
       "      <th>title</th>\n",
       "      <th>genres</th>\n",
       "    </tr>\n",
       "  </thead>\n",
       "  <tbody>\n",
       "    <tr>\n",
       "      <th>356</th>\n",
       "      <td>Age of Innocence, The (1993)</td>\n",
       "      <td>Drama</td>\n",
       "    </tr>\n",
       "    <tr>\n",
       "      <th>318</th>\n",
       "      <td>I Love Trouble (1994)</td>\n",
       "      <td>Action|Comedy</td>\n",
       "    </tr>\n",
       "    <tr>\n",
       "      <th>457</th>\n",
       "      <td>Romper Stomper (1992)</td>\n",
       "      <td>Action|Drama</td>\n",
       "    </tr>\n",
       "    <tr>\n",
       "      <th>480</th>\n",
       "      <td>Terminal Velocity (1994)</td>\n",
       "      <td>Action|Mystery|Thriller</td>\n",
       "    </tr>\n",
       "    <tr>\n",
       "      <th>110</th>\n",
       "      <td>Jupiter's Wife (1994)</td>\n",
       "      <td>Documentary</td>\n",
       "    </tr>\n",
       "    <tr>\n",
       "      <th>150</th>\n",
       "      <td>Love &amp; Human Remains (1993)</td>\n",
       "      <td>Comedy|Drama</td>\n",
       "    </tr>\n",
       "    <tr>\n",
       "      <th>593</th>\n",
       "      <td>Cemetery Man (Dellamorte Dellamore) (1994)</td>\n",
       "      <td>Horror</td>\n",
       "    </tr>\n",
       "    <tr>\n",
       "      <th>296</th>\n",
       "      <td>Virtuosity (1995)</td>\n",
       "      <td>Action|Sci-Fi|Thriller</td>\n",
       "    </tr>\n",
       "    <tr>\n",
       "      <th>380</th>\n",
       "      <td>Color of Night (1994)</td>\n",
       "      <td>Drama|Thriller</td>\n",
       "    </tr>\n",
       "    <tr>\n",
       "      <th>364</th>\n",
       "      <td>Beverly Hills Cop III (1994)</td>\n",
       "      <td>Action|Comedy|Crime|Thriller</td>\n",
       "    </tr>\n",
       "  </tbody>\n",
       "</table>\n",
       "</div>"
      ],
      "text/plain": [
       "                                          title                        genres\n",
       "356                Age of Innocence, The (1993)                         Drama\n",
       "318                       I Love Trouble (1994)                 Action|Comedy\n",
       "457                       Romper Stomper (1992)                  Action|Drama\n",
       "480                    Terminal Velocity (1994)       Action|Mystery|Thriller\n",
       "110                       Jupiter's Wife (1994)                   Documentary\n",
       "150                 Love & Human Remains (1993)                  Comedy|Drama\n",
       "593  Cemetery Man (Dellamorte Dellamore) (1994)                        Horror\n",
       "296                           Virtuosity (1995)        Action|Sci-Fi|Thriller\n",
       "380                       Color of Night (1994)                Drama|Thriller\n",
       "364                Beverly Hills Cop III (1994)  Action|Comedy|Crime|Thriller"
      ]
     },
     "execution_count": 660,
     "metadata": {},
     "output_type": "execute_result"
    }
   ],
   "source": [
    "# pearson correlation w/o mean correct\n",
    "ubcf_pear_2 = UserBasedCf(sim_fn=sim_pearson, mean_correct=False)\n",
    "ubcf_pear_2.calc_sim_matrix(train_data_w_me)\n",
    "ubcf_pear_2.sim_matrix = np.nan_to_num(ubcf_pear_2.sim_matrix)\n",
    "\n",
    "dot_my_rec = ubcf_pear_2.recommend(user=int(my_user_id), \n",
    "                                n=n_recommendations, \n",
    "                                neighboar_thres=pear_2_neighboar_thres)\n",
    "recommended_movie_ids_6 = menc.inverse_transform(dot_my_rec)\n",
    "\n",
    "movies.loc[recommended_movie_ids_6, [\"title\", \"genres\"]]"
   ]
  },
  {
   "cell_type": "code",
   "execution_count": 661,
   "id": "a8a73e1f",
   "metadata": {},
   "outputs": [
    {
     "data": {
      "application/vnd.jupyter.widget-view+json": {
       "model_id": "8c2119b44e284c8586b8c6a68503adfb",
       "version_major": 2,
       "version_minor": 0
      },
      "text/plain": [
       "  0%|          | 0/611 [00:00<?, ?it/s]"
      ]
     },
     "metadata": {},
     "output_type": "display_data"
    },
    {
     "name": "stderr",
     "output_type": "stream",
     "text": [
      "/tmp/ipykernel_19386/3703500813.py:15: ConstantInputWarning: An input array is constant; the correlation coefficient is not defined.\n",
      "  sim = coef * pearsonr(left, right)[0]\n"
     ]
    },
    {
     "data": {
      "text/html": [
       "<div>\n",
       "<style scoped>\n",
       "    .dataframe tbody tr th:only-of-type {\n",
       "        vertical-align: middle;\n",
       "    }\n",
       "\n",
       "    .dataframe tbody tr th {\n",
       "        vertical-align: top;\n",
       "    }\n",
       "\n",
       "    .dataframe thead th {\n",
       "        text-align: right;\n",
       "    }\n",
       "</style>\n",
       "<table border=\"1\" class=\"dataframe\">\n",
       "  <thead>\n",
       "    <tr style=\"text-align: right;\">\n",
       "      <th></th>\n",
       "      <th>title</th>\n",
       "      <th>genres</th>\n",
       "    </tr>\n",
       "  </thead>\n",
       "  <tbody>\n",
       "    <tr>\n",
       "      <th>1197</th>\n",
       "      <td>In the Company of Men (1997)</td>\n",
       "      <td>Comedy|Drama</td>\n",
       "    </tr>\n",
       "    <tr>\n",
       "      <th>1079</th>\n",
       "      <td>Marvin's Room (1996)</td>\n",
       "      <td>Drama</td>\n",
       "    </tr>\n",
       "    <tr>\n",
       "      <th>1527</th>\n",
       "      <td>Parent Trap, The (1998)</td>\n",
       "      <td>Children|Comedy|Romance</td>\n",
       "    </tr>\n",
       "    <tr>\n",
       "      <th>2959</th>\n",
       "      <td>Billy Elliot (2000)</td>\n",
       "      <td>Drama</td>\n",
       "    </tr>\n",
       "    <tr>\n",
       "      <th>2968</th>\n",
       "      <td>Little Nicky (2000)</td>\n",
       "      <td>Comedy</td>\n",
       "    </tr>\n",
       "    <tr>\n",
       "      <th>2987</th>\n",
       "      <td>Bounty, The (1984)</td>\n",
       "      <td>Adventure|Drama</td>\n",
       "    </tr>\n",
       "    <tr>\n",
       "      <th>2723</th>\n",
       "      <td>Blow-Out (La grande bouffe) (1973)</td>\n",
       "      <td>Drama</td>\n",
       "    </tr>\n",
       "    <tr>\n",
       "      <th>3070</th>\n",
       "      <td>Ishtar (1987)</td>\n",
       "      <td>Comedy</td>\n",
       "    </tr>\n",
       "    <tr>\n",
       "      <th>3358</th>\n",
       "      <td>Without a Clue (1988)</td>\n",
       "      <td>Comedy|Mystery</td>\n",
       "    </tr>\n",
       "    <tr>\n",
       "      <th>1285</th>\n",
       "      <td>Home Alone 3 (1997)</td>\n",
       "      <td>Children|Comedy</td>\n",
       "    </tr>\n",
       "  </tbody>\n",
       "</table>\n",
       "</div>"
      ],
      "text/plain": [
       "                                   title                   genres\n",
       "1197        In the Company of Men (1997)             Comedy|Drama\n",
       "1079                Marvin's Room (1996)                    Drama\n",
       "1527             Parent Trap, The (1998)  Children|Comedy|Romance\n",
       "2959                 Billy Elliot (2000)                    Drama\n",
       "2968                 Little Nicky (2000)                   Comedy\n",
       "2987                  Bounty, The (1984)          Adventure|Drama\n",
       "2723  Blow-Out (La grande bouffe) (1973)                    Drama\n",
       "3070                       Ishtar (1987)                   Comedy\n",
       "3358               Without a Clue (1988)           Comedy|Mystery\n",
       "1285                 Home Alone 3 (1997)          Children|Comedy"
      ]
     },
     "execution_count": 661,
     "metadata": {},
     "output_type": "execute_result"
    }
   ],
   "source": [
    "# pearson correlation with reduction with mean correct\n",
    "ubcf_pear_red = UserBasedCf(sim_fn=sim_pearson_decreasing, mean_correct=True)\n",
    "ubcf_pear_red.calc_sim_matrix(train_data_w_me)\n",
    "ubcf_pear_red.sim_matrix = np.nan_to_num(ubcf_pear_red.sim_matrix)\n",
    "\n",
    "dot_my_rec = ubcf_pear_red.recommend(user=int(my_user_id), \n",
    "                                n=n_recommendations, \n",
    "                                neighboar_thres=pear_red_neighboar_thres)\n",
    "recommended_movie_ids_7 = menc.inverse_transform(dot_my_rec)\n",
    "\n",
    "movies.loc[recommended_movie_ids_7, [\"title\", \"genres\"]]"
   ]
  },
  {
   "cell_type": "code",
   "execution_count": 662,
   "id": "b8263f20",
   "metadata": {},
   "outputs": [
    {
     "data": {
      "application/vnd.jupyter.widget-view+json": {
       "model_id": "50a8ce5e3a244bc3b208878a800f9a53",
       "version_major": 2,
       "version_minor": 0
      },
      "text/plain": [
       "  0%|          | 0/611 [00:00<?, ?it/s]"
      ]
     },
     "metadata": {},
     "output_type": "display_data"
    },
    {
     "name": "stderr",
     "output_type": "stream",
     "text": [
      "/tmp/ipykernel_19386/3703500813.py:15: ConstantInputWarning: An input array is constant; the correlation coefficient is not defined.\n",
      "  sim = coef * pearsonr(left, right)[0]\n"
     ]
    },
    {
     "data": {
      "text/html": [
       "<div>\n",
       "<style scoped>\n",
       "    .dataframe tbody tr th:only-of-type {\n",
       "        vertical-align: middle;\n",
       "    }\n",
       "\n",
       "    .dataframe tbody tr th {\n",
       "        vertical-align: top;\n",
       "    }\n",
       "\n",
       "    .dataframe thead th {\n",
       "        text-align: right;\n",
       "    }\n",
       "</style>\n",
       "<table border=\"1\" class=\"dataframe\">\n",
       "  <thead>\n",
       "    <tr style=\"text-align: right;\">\n",
       "      <th></th>\n",
       "      <th>title</th>\n",
       "      <th>genres</th>\n",
       "    </tr>\n",
       "  </thead>\n",
       "  <tbody>\n",
       "  </tbody>\n",
       "</table>\n",
       "</div>"
      ],
      "text/plain": [
       "Empty DataFrame\n",
       "Columns: [title, genres]\n",
       "Index: []"
      ]
     },
     "execution_count": 662,
     "metadata": {},
     "output_type": "execute_result"
    }
   ],
   "source": [
    "# pearson correlation with reduction w/o mean correct\n",
    "ubcf_pear_red_2 = UserBasedCf(sim_fn=sim_pearson_decreasing, mean_correct=False)\n",
    "ubcf_pear_red_2.calc_sim_matrix(train_data_w_me)\n",
    "ubcf_pear_red_2.sim_matrix = np.nan_to_num(ubcf_pear_red_2.sim_matrix)"
   ]
  },
  {
   "cell_type": "code",
   "execution_count": 663,
   "id": "701e88bc",
   "metadata": {},
   "outputs": [
    {
     "data": {
      "text/html": [
       "<div>\n",
       "<style scoped>\n",
       "    .dataframe tbody tr th:only-of-type {\n",
       "        vertical-align: middle;\n",
       "    }\n",
       "\n",
       "    .dataframe tbody tr th {\n",
       "        vertical-align: top;\n",
       "    }\n",
       "\n",
       "    .dataframe thead th {\n",
       "        text-align: right;\n",
       "    }\n",
       "</style>\n",
       "<table border=\"1\" class=\"dataframe\">\n",
       "  <thead>\n",
       "    <tr style=\"text-align: right;\">\n",
       "      <th></th>\n",
       "      <th>title</th>\n",
       "      <th>genres</th>\n",
       "    </tr>\n",
       "  </thead>\n",
       "  <tbody>\n",
       "    <tr>\n",
       "      <th>1197</th>\n",
       "      <td>In the Company of Men (1997)</td>\n",
       "      <td>Comedy|Drama</td>\n",
       "    </tr>\n",
       "    <tr>\n",
       "      <th>1079</th>\n",
       "      <td>Marvin's Room (1996)</td>\n",
       "      <td>Drama</td>\n",
       "    </tr>\n",
       "    <tr>\n",
       "      <th>551</th>\n",
       "      <td>James and the Giant Peach (1996)</td>\n",
       "      <td>Adventure|Animation|Children|Fantasy|Musical</td>\n",
       "    </tr>\n",
       "    <tr>\n",
       "      <th>1097</th>\n",
       "      <td>Zeus and Roxanne (1997)</td>\n",
       "      <td>Children</td>\n",
       "    </tr>\n",
       "    <tr>\n",
       "      <th>1291</th>\n",
       "      <td>Titanic (1997)</td>\n",
       "      <td>Drama|Romance</td>\n",
       "    </tr>\n",
       "    <tr>\n",
       "      <th>260</th>\n",
       "      <td>Quiz Show (1994)</td>\n",
       "      <td>Drama</td>\n",
       "    </tr>\n",
       "    <tr>\n",
       "      <th>1269</th>\n",
       "      <td>Mrs. Dalloway (1997)</td>\n",
       "      <td>Drama|Romance</td>\n",
       "    </tr>\n",
       "    <tr>\n",
       "      <th>1193</th>\n",
       "      <td>Event Horizon (1997)</td>\n",
       "      <td>Horror|Sci-Fi|Thriller</td>\n",
       "    </tr>\n",
       "    <tr>\n",
       "      <th>1219</th>\n",
       "      <td>Seven Years in Tibet (1997)</td>\n",
       "      <td>Adventure|Drama|War</td>\n",
       "    </tr>\n",
       "    <tr>\n",
       "      <th>1234</th>\n",
       "      <td>Mrs. Brown (a.k.a. Her Majesty, Mrs. Brown) (1...</td>\n",
       "      <td>Drama|Romance</td>\n",
       "    </tr>\n",
       "  </tbody>\n",
       "</table>\n",
       "</div>"
      ],
      "text/plain": [
       "                                                  title  \\\n",
       "1197                       In the Company of Men (1997)   \n",
       "1079                               Marvin's Room (1996)   \n",
       "551                    James and the Giant Peach (1996)   \n",
       "1097                            Zeus and Roxanne (1997)   \n",
       "1291                                     Titanic (1997)   \n",
       "260                                    Quiz Show (1994)   \n",
       "1269                               Mrs. Dalloway (1997)   \n",
       "1193                               Event Horizon (1997)   \n",
       "1219                        Seven Years in Tibet (1997)   \n",
       "1234  Mrs. Brown (a.k.a. Her Majesty, Mrs. Brown) (1...   \n",
       "\n",
       "                                            genres  \n",
       "1197                                  Comedy|Drama  \n",
       "1079                                         Drama  \n",
       "551   Adventure|Animation|Children|Fantasy|Musical  \n",
       "1097                                      Children  \n",
       "1291                                 Drama|Romance  \n",
       "260                                          Drama  \n",
       "1269                                 Drama|Romance  \n",
       "1193                        Horror|Sci-Fi|Thriller  \n",
       "1219                           Adventure|Drama|War  \n",
       "1234                                 Drama|Romance  "
      ]
     },
     "execution_count": 663,
     "metadata": {},
     "output_type": "execute_result"
    }
   ],
   "source": [
    "dot_my_rec = ubcf_pear_red_2.recommend(user=int(my_user_id), \n",
    "                                n=n_recommendations, \n",
    "                                neighboar_thres=0.1)\n",
    "recommended_movie_ids_8 = menc.inverse_transform(dot_my_rec)\n",
    "\n",
    "movies.loc[recommended_movie_ids_8, [\"title\", \"genres\"]]"
   ]
  },
  {
   "cell_type": "markdown",
   "id": "1440e7d2-c9de-4ff3-9358-ad5783734d0e",
   "metadata": {
    "id": "1440e7d2-c9de-4ff3-9358-ad5783734d0e"
   },
   "source": [
    "3. Rate films that was recommended in previous step (by title, description, trailer). For each algorithm compute metrics based on ratings you put."
   ]
  },
  {
   "cell_type": "code",
   "execution_count": 666,
   "id": "44086fb4",
   "metadata": {},
   "outputs": [
    {
     "name": "stdout",
     "output_type": "stream",
     "text": [
      "Precision@10: 0.6000\n",
      "Recall@10: 1.0000\n",
      "NDCG@10: 0.8653\n"
     ]
    }
   ],
   "source": [
    "# i choose rec list from method based on pearson correlation similarity  \n",
    "# with decreasing factor on small intersection with mean_correct=True\n",
    "my_ratings_on_rec_films = np.array([\n",
    "    [my_user_id, 1197, 4.5],\n",
    "    [my_user_id, 1079, 3.0],\n",
    "    [my_user_id, 551, 4.0],\n",
    "    [my_user_id, 1097, 3.5],\n",
    "    [my_user_id, 1291, 5.0],\n",
    "    [my_user_id, 260, 4.0],\n",
    "    [my_user_id, 1269, 1.0],\n",
    "    [my_user_id, 1193, 5.0],\n",
    "    [my_user_id, 1219, 4.5],\n",
    "    [my_user_id, 1234, 2.0],\n",
    "])\n",
    "\n",
    "k = 10\n",
    "# compute metrics\n",
    "prec, rec, ndcg = calculate_metrics(my_ratings_on_rec_films, \n",
    "                                  {my_user_id: recommended_movie_ids_8}, \n",
    "                                  k, \n",
    "                                  relevance_threshold=4.0)\n",
    "print(f\"Precision@{k}: {prec:.4f}\")\n",
    "print(f\"Recall@{k}: {rec:.4f}\")\n",
    "print(f\"NDCG@{k}: {ndcg:.4f}\")"
   ]
  },
  {
   "cell_type": "markdown",
   "id": "29d5df2f-5e2e-4bc1-ba83-7f76080947bb",
   "metadata": {
    "id": "29d5df2f-5e2e-4bc1-ba83-7f76080947bb"
   },
   "source": [
    "# Task 5: Conclusion (10 points)\n",
    "\n",
    "Compare all methods based on both dataset (metrics) and your personal recomendations.\n",
    "\n",
    "Which algorithm is the best? Why?\n",
    "\n",
    "Was recommedations different? Which set of recomendations you like the most?\n",
    "\n",
    "What differences in algorithms have you noted?"
   ]
  },
  {
   "cell_type": "markdown",
   "id": "-hEqi-TH-fiG",
   "metadata": {
    "id": "-hEqi-TH-fiG"
   },
   "source": [
    "On dataset i have low perfornamce metrics on all methods. But the method based on Jaccard similarity have the biggest metrics. \n",
    "\n",
    "On my personal recommendation the method based on Pearson correlation similarity with decreasing factor is the best. And the recommended movies are quite good and matches with me, also the recommended movie's genres is quite good matches with what i set as my user vector.\n",
    "\n",
    "For user2user rec systems, for the methods i consider in this HW:\n",
    "1. Pearson correlation is the most effective, as it adjusts for individual user biases and captures similarity in rating trends. \n",
    "2. Jaccard similarity i think have limitation with type of targets it's working and it is probably best for binary data (f.e. seen\\don't seen). \n",
    "3. Dot product is very fast to calculate (compare to perason correlation) but it has some issues with dependancies at popularity of items or most active users. In this cases the magnitudes of vectors will be much greater - and the whole system will be tend to predict the most popular movies or predict movies which watched the most active users. And it will be hard to recommend some new, unique content. \n",
    "\n",
    "Additionally, i should be try cosine similarity because it measures angle-based similarity in high-dimensional spaces and it effectively captures the direction, not considering the magnitude differences. And in high-dim spaces the direction is frequently explain the semantic meaning, while the magnitude - the popularity."
   ]
  }
 ],
 "metadata": {
  "colab": {
   "provenance": []
  },
  "kernelspec": {
   "display_name": "rec-sys",
   "language": "python",
   "name": "python3"
  },
  "language_info": {
   "codemirror_mode": {
    "name": "ipython",
    "version": 3
   },
   "file_extension": ".py",
   "mimetype": "text/x-python",
   "name": "python",
   "nbconvert_exporter": "python",
   "pygments_lexer": "ipython3",
   "version": "3.12.7"
  }
 },
 "nbformat": 4,
 "nbformat_minor": 5
}

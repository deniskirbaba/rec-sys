{
 "cells": [
  {
   "cell_type": "markdown",
   "metadata": {
    "cellId": "n2nirnt4f5jsdvrilebmp",
    "id": "XJw50plyv1bR"
   },
   "source": [
    "# Collaborative filtering on Movielens"
   ]
  },
  {
   "cell_type": "markdown",
   "metadata": {
    "cellId": "2p3yhx2iuo4pnd523k99",
    "id": "80StAkPXv1bT"
   },
   "source": [
    "## Item-to-item collaborative filtering\n",
    "\n",
    "$$\n",
    "         w(i, j) = \\frac{\\sum_{u\\in U_i \\cap U_j}(r_{u,i}-\\bar{r}_u)(r_{u,j}-\\bar{r}_u)}{\\sqrt{\\sum_{u\\in U_i \\cap U_j} (r_{u,i}-\\bar{r}_u)^2}\\sqrt{\\sum_{u\\in U_i \\cap U_j} (r_{u,j}-\\bar{r}_u)^2}}.\n",
    "$$\n",
    "\n",
    "\\begin{equation}\n",
    " w(c,I_u) = \\sum_{i\\in I_u} w_{c,i}.\n",
    "\\end{equation}\n"
   ]
  },
  {
   "cell_type": "markdown",
   "metadata": {
    "cellId": "tmnyods6w1zik992944cn",
    "id": "Xd0esHr4v1bU"
   },
   "source": [
    "### Import useful requirements"
   ]
  },
  {
   "cell_type": "code",
   "execution_count": 1,
   "metadata": {
    "ExecuteTime": {
     "end_time": "2023-10-25T02:39:42.049147Z",
     "start_time": "2023-10-25T02:39:37.606213Z"
    },
    "cellId": "bkx1484jcydeaw0zk2m9hd",
    "colab": {
     "base_uri": "https://localhost:8080/"
    },
    "id": "jHF2QTeIv1bU",
    "outputId": "d2ddb618-a5a6-4fff-ca1c-2affe84ac12c"
   },
   "outputs": [],
   "source": [
    "import os\n",
    "\n",
    "if not (os.path.exists(\"recsys.zip\") or os.path.exists(\"recsys\")):\n",
    "    !wget https://github.com/nzhinusoftcm/review-on-collaborative-filtering/raw/master/recsys.zip\n",
    "    !unzip recsys.zip"
   ]
  },
  {
   "cell_type": "markdown",
   "metadata": {
    "cellId": "4qr1lxrgubyc11isxuduk6",
    "id": "MOML3eq_v1bW"
   },
   "source": [
    "### Import requirements"
   ]
  },
  {
   "cell_type": "code",
   "execution_count": 2,
   "metadata": {
    "ExecuteTime": {
     "end_time": "2023-10-25T02:40:08.955181Z",
     "start_time": "2023-10-25T02:40:07.136568Z"
    },
    "cellId": "p0ltx0obd6ouwa94dtend",
    "id": "3DsS6bkwv1bW"
   },
   "outputs": [],
   "source": [
    "import typing as tp\n",
    "\n",
    "import numpy as np\n",
    "import pandas as pd\n",
    "import tqdm.notebook\n",
    "from recsys.datasets import ml100k\n",
    "from sklearn.preprocessing import LabelEncoder"
   ]
  },
  {
   "cell_type": "markdown",
   "metadata": {
    "cellId": "9uylwuwzrjree6751a94ke",
    "id": "IVifyiz-v1bX"
   },
   "source": [
    "### Dataset upload"
   ]
  },
  {
   "cell_type": "code",
   "execution_count": 3,
   "metadata": {
    "ExecuteTime": {
     "end_time": "2023-10-25T02:46:01.240618Z",
     "start_time": "2023-10-25T02:46:01.215727Z"
    },
    "cellId": "53zbuzaj5wg3e4zlyfo9g",
    "colab": {
     "base_uri": "https://localhost:8080/"
    },
    "id": "HSdGrD44v1bX",
    "outputId": "19fd85ce-cdc2-4e90-fc9e-88c06de459bf"
   },
   "outputs": [],
   "source": [
    "%load_ext autoreload\n",
    "%autoreload 2"
   ]
  },
  {
   "cell_type": "markdown",
   "metadata": {
    "id": "ei8jN45Rr8dw"
   },
   "source": [
    "Will use movielens dataset"
   ]
  },
  {
   "cell_type": "code",
   "execution_count": 4,
   "metadata": {
    "ExecuteTime": {
     "end_time": "2023-10-25T02:49:10.663171Z",
     "start_time": "2023-10-25T02:49:01.745056Z"
    },
    "id": "wPWXnM8Uv1bX"
   },
   "outputs": [],
   "source": [
    "ratings, movies = ml100k.load()"
   ]
  },
  {
   "cell_type": "code",
   "execution_count": 5,
   "metadata": {},
   "outputs": [
    {
     "data": {
      "text/plain": [
       "(100000, 1682)"
      ]
     },
     "execution_count": 5,
     "metadata": {},
     "output_type": "execute_result"
    }
   ],
   "source": [
    "len(ratings), len(movies)"
   ]
  },
  {
   "cell_type": "code",
   "execution_count": 6,
   "metadata": {
    "ExecuteTime": {
     "end_time": "2023-10-25T02:49:13.144076Z",
     "start_time": "2023-10-25T02:49:13.113553Z"
    },
    "colab": {
     "base_uri": "https://localhost:8080/",
     "height": 206
    },
    "id": "oLg6QFinsZFM",
    "outputId": "7c52d8e4-126d-40bd-db42-74ba7af711d8"
   },
   "outputs": [
    {
     "data": {
      "text/html": [
       "<div>\n",
       "<style scoped>\n",
       "    .dataframe tbody tr th:only-of-type {\n",
       "        vertical-align: middle;\n",
       "    }\n",
       "\n",
       "    .dataframe tbody tr th {\n",
       "        vertical-align: top;\n",
       "    }\n",
       "\n",
       "    .dataframe thead th {\n",
       "        text-align: right;\n",
       "    }\n",
       "</style>\n",
       "<table border=\"1\" class=\"dataframe\">\n",
       "  <thead>\n",
       "    <tr style=\"text-align: right;\">\n",
       "      <th></th>\n",
       "      <th>userid</th>\n",
       "      <th>itemid</th>\n",
       "      <th>rating</th>\n",
       "    </tr>\n",
       "  </thead>\n",
       "  <tbody>\n",
       "    <tr>\n",
       "      <th>0</th>\n",
       "      <td>1</td>\n",
       "      <td>1</td>\n",
       "      <td>5</td>\n",
       "    </tr>\n",
       "    <tr>\n",
       "      <th>1</th>\n",
       "      <td>1</td>\n",
       "      <td>2</td>\n",
       "      <td>3</td>\n",
       "    </tr>\n",
       "    <tr>\n",
       "      <th>2</th>\n",
       "      <td>1</td>\n",
       "      <td>3</td>\n",
       "      <td>4</td>\n",
       "    </tr>\n",
       "    <tr>\n",
       "      <th>3</th>\n",
       "      <td>1</td>\n",
       "      <td>4</td>\n",
       "      <td>3</td>\n",
       "    </tr>\n",
       "    <tr>\n",
       "      <th>4</th>\n",
       "      <td>1</td>\n",
       "      <td>5</td>\n",
       "      <td>3</td>\n",
       "    </tr>\n",
       "  </tbody>\n",
       "</table>\n",
       "</div>"
      ],
      "text/plain": [
       "   userid  itemid  rating\n",
       "0       1       1       5\n",
       "1       1       2       3\n",
       "2       1       3       4\n",
       "3       1       4       3\n",
       "4       1       5       3"
      ]
     },
     "execution_count": 6,
     "metadata": {},
     "output_type": "execute_result"
    }
   ],
   "source": [
    "ratings.head()"
   ]
  },
  {
   "cell_type": "code",
   "execution_count": 7,
   "metadata": {
    "ExecuteTime": {
     "end_time": "2023-10-25T02:50:04.164689Z",
     "start_time": "2023-10-25T02:50:04.138005Z"
    },
    "colab": {
     "base_uri": "https://localhost:8080/",
     "height": 206
    },
    "id": "plbJAU3FV12n",
    "outputId": "57331070-5a15-418d-c2b0-49c2291749b6"
   },
   "outputs": [
    {
     "data": {
      "text/html": [
       "<div>\n",
       "<style scoped>\n",
       "    .dataframe tbody tr th:only-of-type {\n",
       "        vertical-align: middle;\n",
       "    }\n",
       "\n",
       "    .dataframe tbody tr th {\n",
       "        vertical-align: top;\n",
       "    }\n",
       "\n",
       "    .dataframe thead th {\n",
       "        text-align: right;\n",
       "    }\n",
       "</style>\n",
       "<table border=\"1\" class=\"dataframe\">\n",
       "  <thead>\n",
       "    <tr style=\"text-align: right;\">\n",
       "      <th></th>\n",
       "      <th>itemid</th>\n",
       "      <th>title</th>\n",
       "    </tr>\n",
       "  </thead>\n",
       "  <tbody>\n",
       "    <tr>\n",
       "      <th>0</th>\n",
       "      <td>1</td>\n",
       "      <td>Toy Story (1995)</td>\n",
       "    </tr>\n",
       "    <tr>\n",
       "      <th>1</th>\n",
       "      <td>2</td>\n",
       "      <td>GoldenEye (1995)</td>\n",
       "    </tr>\n",
       "    <tr>\n",
       "      <th>2</th>\n",
       "      <td>3</td>\n",
       "      <td>Four Rooms (1995)</td>\n",
       "    </tr>\n",
       "    <tr>\n",
       "      <th>3</th>\n",
       "      <td>4</td>\n",
       "      <td>Get Shorty (1995)</td>\n",
       "    </tr>\n",
       "    <tr>\n",
       "      <th>4</th>\n",
       "      <td>5</td>\n",
       "      <td>Copycat (1995)</td>\n",
       "    </tr>\n",
       "  </tbody>\n",
       "</table>\n",
       "</div>"
      ],
      "text/plain": [
       "   itemid              title\n",
       "0       1   Toy Story (1995)\n",
       "1       2   GoldenEye (1995)\n",
       "2       3  Four Rooms (1995)\n",
       "3       4  Get Shorty (1995)\n",
       "4       5     Copycat (1995)"
      ]
     },
     "execution_count": 7,
     "metadata": {},
     "output_type": "execute_result"
    }
   ],
   "source": [
    "movies.head()"
   ]
  },
  {
   "cell_type": "markdown",
   "metadata": {
    "cellId": "72xbmj2k4qqz2ybj3odc",
    "id": "yruhwBKkv1bX"
   },
   "source": [
    "### Preprocessing"
   ]
  },
  {
   "cell_type": "code",
   "execution_count": 8,
   "metadata": {
    "ExecuteTime": {
     "end_time": "2023-10-25T02:52:37.467427Z",
     "start_time": "2023-10-25T02:52:37.430072Z"
    },
    "cellId": "62d8v8iu69h4uze9odubav",
    "id": "4GXx4kVWv1bX"
   },
   "outputs": [],
   "source": [
    "def ids_encoder(ratings: pd.DataFrame) -> tuple[pd.DataFrame, LabelEncoder, LabelEncoder]:\n",
    "    users = sorted(ratings[\"userid\"].unique())\n",
    "    items = sorted(ratings[\"itemid\"].unique())\n",
    "\n",
    "    # create users and items encoders\n",
    "    uencoder = LabelEncoder()\n",
    "    iencoder = LabelEncoder()\n",
    "\n",
    "    # fit users and items ids to the corresponding encoder\n",
    "    uencoder.fit(users)\n",
    "    iencoder.fit(items)\n",
    "\n",
    "    # encode userids and itemids\n",
    "    ratings.userid = uencoder.transform(ratings.userid.tolist())\n",
    "    ratings.itemid = iencoder.transform(ratings.itemid.tolist())\n",
    "\n",
    "    return ratings, uencoder, iencoder"
   ]
  },
  {
   "cell_type": "code",
   "execution_count": 9,
   "metadata": {
    "ExecuteTime": {
     "end_time": "2023-10-25T02:52:39.631401Z",
     "start_time": "2023-10-25T02:52:39.575624Z"
    },
    "cellId": "pbcolehyqc90qf4r6u6n9",
    "id": "tLmj2sWuv1bY"
   },
   "outputs": [],
   "source": [
    "# create the encoder\n",
    "ratings, uencoder, iencoder = ids_encoder(ratings)"
   ]
  },
  {
   "cell_type": "markdown",
   "metadata": {
    "cellId": "xs72r2xxg2j9vcam9ezl8",
    "id": "da46j6zMv1bY"
   },
   "source": [
    "## Implementation"
   ]
  },
  {
   "cell_type": "markdown",
   "metadata": {
    "cellId": "hseep36n118brjb0uuee4b",
    "id": "8-IZJfnWv1bZ"
   },
   "source": [
    "### Part 1. Similarities"
   ]
  },
  {
   "cell_type": "markdown",
   "metadata": {
    "cellId": "wfd7z0lf61z0i6ur83d2",
    "id": "-2OkygNZv1bb"
   },
   "source": [
    "\\begin{equation}\n",
    " w_{i,j}= \\frac{\\sum_{u\\in U}(r_{u,i}-\\bar{r}_u)(r_{u,j}-\\bar{r}_u)}{\\sqrt{\\sum_{u\\in U} (r_{u,i}-\\bar{r}_u)^2}\\sqrt{\\sum_{u\\in U} (r_{u,j}-\\bar{r}_u)^2}}.\n",
    "\\end{equation}"
   ]
  },
  {
   "cell_type": "code",
   "execution_count": 10,
   "metadata": {
    "ExecuteTime": {
     "end_time": "2023-10-25T02:55:04.910052Z",
     "start_time": "2023-10-25T02:55:04.883852Z"
    },
    "cellId": "9ipkwjqjb6fvn2pp6wb5fq",
    "id": "e325DrNhv1bZ"
   },
   "outputs": [],
   "source": [
    "def normalize(ratings: pd.DataFrame) -> pd.DataFrame:\n",
    "    \"\"\"Normalize ratings by user\"\"\"\n",
    "    # calculate mean for every user\n",
    "    mean = ratings.groupby(by=\"userid\", as_index=False)[\"rating\"].mean()\n",
    "    norm_ratings = pd.merge(ratings, mean, suffixes=(\"\", \"_mean\"), on=\"userid\")\n",
    "\n",
    "    # normalize each rating by substracting the mean rating of the corresponding user\n",
    "    norm_ratings[\"norm_rating\"] = norm_ratings[\"rating\"] - norm_ratings[\"rating_mean\"]\n",
    "\n",
    "    return norm_ratings[ratings.columns.tolist() + [\"norm_rating\"]]"
   ]
  },
  {
   "cell_type": "code",
   "execution_count": 11,
   "metadata": {
    "ExecuteTime": {
     "end_time": "2023-10-25T02:55:16.311601Z",
     "start_time": "2023-10-25T02:55:16.281424Z"
    },
    "id": "isTOB7asv1ba"
   },
   "outputs": [],
   "source": [
    "def test_normalize():\n",
    "    test_df = pd.DataFrame(\n",
    "        {\n",
    "            \"userid\": [0, 0, 0, 1, 1],\n",
    "            \"itemid\": [0, 1, 2, 1, 3],\n",
    "            \"rating\": [2, 2, 5, 5, 5],\n",
    "        }\n",
    "    )\n",
    "\n",
    "    expected = pd.DataFrame(\n",
    "        {\n",
    "            \"userid\": [0, 0, 0, 1, 1],\n",
    "            \"itemid\": [0, 1, 2, 1, 3],\n",
    "            \"rating\": [2, 2, 5, 5, 5],\n",
    "            \"norm_rating\": [-1, -1, 2, 0, 0],\n",
    "        }\n",
    "    )\n",
    "\n",
    "    assert (\n",
    "        test_df.shape[0] == expected.shape[0]\n",
    "    ), \"Number of user-item interactions is different\"\n",
    "    assert test_df.shape[1] + 1 == expected.shape[1], \"Number of columns is incorrect\"\n",
    "    assert (normalize(test_df) == expected).all().all(), \"Result is incorrect\"\n",
    "\n",
    "\n",
    "test_normalize()"
   ]
  },
  {
   "cell_type": "code",
   "execution_count": 12,
   "metadata": {
    "ExecuteTime": {
     "end_time": "2023-10-25T02:55:20.127270Z",
     "start_time": "2023-10-25T02:55:20.093727Z"
    },
    "cellId": "py2xe668c2bq26cxnvlqhn",
    "colab": {
     "base_uri": "https://localhost:8080/",
     "height": 206
    },
    "id": "7l7BkAB9v1ba",
    "outputId": "e54b64a6-76a3-4d3a-978c-f8fa50a6cc0f"
   },
   "outputs": [
    {
     "data": {
      "text/html": [
       "<div>\n",
       "<style scoped>\n",
       "    .dataframe tbody tr th:only-of-type {\n",
       "        vertical-align: middle;\n",
       "    }\n",
       "\n",
       "    .dataframe tbody tr th {\n",
       "        vertical-align: top;\n",
       "    }\n",
       "\n",
       "    .dataframe thead th {\n",
       "        text-align: right;\n",
       "    }\n",
       "</style>\n",
       "<table border=\"1\" class=\"dataframe\">\n",
       "  <thead>\n",
       "    <tr style=\"text-align: right;\">\n",
       "      <th></th>\n",
       "      <th>userid</th>\n",
       "      <th>itemid</th>\n",
       "      <th>rating</th>\n",
       "      <th>norm_rating</th>\n",
       "    </tr>\n",
       "  </thead>\n",
       "  <tbody>\n",
       "    <tr>\n",
       "      <th>0</th>\n",
       "      <td>0</td>\n",
       "      <td>0</td>\n",
       "      <td>5</td>\n",
       "      <td>1.389706</td>\n",
       "    </tr>\n",
       "    <tr>\n",
       "      <th>1</th>\n",
       "      <td>0</td>\n",
       "      <td>1</td>\n",
       "      <td>3</td>\n",
       "      <td>-0.610294</td>\n",
       "    </tr>\n",
       "    <tr>\n",
       "      <th>2</th>\n",
       "      <td>0</td>\n",
       "      <td>2</td>\n",
       "      <td>4</td>\n",
       "      <td>0.389706</td>\n",
       "    </tr>\n",
       "    <tr>\n",
       "      <th>3</th>\n",
       "      <td>0</td>\n",
       "      <td>3</td>\n",
       "      <td>3</td>\n",
       "      <td>-0.610294</td>\n",
       "    </tr>\n",
       "    <tr>\n",
       "      <th>4</th>\n",
       "      <td>0</td>\n",
       "      <td>4</td>\n",
       "      <td>3</td>\n",
       "      <td>-0.610294</td>\n",
       "    </tr>\n",
       "  </tbody>\n",
       "</table>\n",
       "</div>"
      ],
      "text/plain": [
       "   userid  itemid  rating  norm_rating\n",
       "0       0       0       5     1.389706\n",
       "1       0       1       3    -0.610294\n",
       "2       0       2       4     0.389706\n",
       "3       0       3       3    -0.610294\n",
       "4       0       4       3    -0.610294"
      ]
     },
     "execution_count": 12,
     "metadata": {},
     "output_type": "execute_result"
    }
   ],
   "source": [
    "norm_ratings = normalize(ratings)\n",
    "np_ratings = norm_ratings.to_numpy()\n",
    "norm_ratings.head()"
   ]
  },
  {
   "cell_type": "code",
   "execution_count": 13,
   "metadata": {
    "ExecuteTime": {
     "end_time": "2023-10-25T02:56:52.928305Z",
     "start_time": "2023-10-25T02:56:52.902217Z"
    },
    "id": "SpjOat_l5DXI"
   },
   "outputs": [],
   "source": [
    "def cosine(x: np.ndarray, y: np.ndarray) -> float:\n",
    "    if np.linalg.norm(x) == 0 or np.linalg.norm(y) == 0:\n",
    "        return 0\n",
    "\n",
    "    return np.dot(x, y) / (np.linalg.norm(x) * np.linalg.norm(y))"
   ]
  },
  {
   "cell_type": "code",
   "execution_count": 48,
   "metadata": {
    "ExecuteTime": {
     "end_time": "2023-10-25T03:40:24.947707Z",
     "start_time": "2023-10-25T03:40:24.915804Z"
    },
    "id": "LHykuwc7v1bb"
   },
   "outputs": [],
   "source": [
    "from functools import lru_cache\n",
    "\n",
    "\n",
    "@lru_cache(2000)\n",
    "def ratings_for_item(i):\n",
    "    return np_ratings[np_ratings[:, 1] == i]\n",
    "\n",
    "\n",
    "def calculate_similarity_between_two(i: int, j: int) -> float:\n",
    "    \"\"\"\n",
    "    i: index of the first item\n",
    "    j: index of the second item\n",
    "\n",
    "    Returns:\n",
    "        cosine similarity between i and j\n",
    "    \"\"\"\n",
    "    if i == j:\n",
    "        return 1.0\n",
    "\n",
    "    ratings_i, ratings_j = ratings_for_item(i), ratings_for_item(j)\n",
    "\n",
    "    common_users = np.intersect1d(ratings_i[:, 0], ratings_j[:, 0])\n",
    "\n",
    "    if len(common_users) == 0:\n",
    "        return -1.0\n",
    "\n",
    "    common_ratings_i = ratings_i[np.isin(ratings_i[:, 0], common_users)]\n",
    "    common_ratings_j = ratings_j[np.isin(ratings_j[:, 0], common_users)]\n",
    "\n",
    "    assert sorted(common_ratings_i[:, 0]) == sorted(common_ratings_j[:, 0])\n",
    "\n",
    "    x = common_ratings_i[:, 3]\n",
    "    y = common_ratings_j[:, 3]\n",
    "    return cosine(x, y)"
   ]
  },
  {
   "cell_type": "code",
   "execution_count": 49,
   "metadata": {
    "ExecuteTime": {
     "end_time": "2023-10-25T04:14:02.174140Z",
     "start_time": "2023-10-25T04:14:02.139882Z"
    },
    "id": "od1s7H5h5d7s"
   },
   "outputs": [],
   "source": [
    "assert np.isclose(calculate_similarity_between_two(0, 0), 1.0)\n",
    "assert np.isclose(calculate_similarity_between_two(1, 2), 0.1069226)\n",
    "assert np.isclose(calculate_similarity_between_two(1, 3), 0.0555092)\n",
    "assert np.isclose(calculate_similarity_between_two(1, 5), -0.125509)\n",
    "assert np.isclose(calculate_similarity_between_two(1, 1431), 1.0)\n",
    "assert np.isclose(calculate_similarity_between_two(4, 1123), 0.0)"
   ]
  },
  {
   "cell_type": "code",
   "execution_count": 60,
   "metadata": {
    "ExecuteTime": {
     "end_time": "2023-10-25T04:14:17.317802Z",
     "start_time": "2023-10-25T04:14:17.289761Z"
    },
    "id": "b2u4kRh85LLK"
   },
   "outputs": [],
   "source": [
    "def adjusted_cosine(\n",
    "    np_ratings: np.ndarray, similarity_between_two\n",
    ") -> tp.Tuple[np.ndarray, np.ndarray]:\n",
    "    \"\"\"Computes cosine similarity for all pairs\n",
    "\n",
    "    np_ratings: array containing: (user_id, item_id, rating, rating_mean, norm_rating)\n",
    "    similarity_between_two: function to calculate similarity\n",
    "    \"\"\"\n",
    "    n_items = np.unique(np_ratings[:, 1]).size\n",
    "    similarities = np.full((n_items, n_items), -1, dtype=np.float32)\n",
    "    np.fill_diagonal(similarities, 1)\n",
    "\n",
    "    items = sorted(set(map(int, np_ratings[:, 1])))\n",
    "\n",
    "    with tqdm.notebook.tqdm(total=len(items) * (len(items) - 1) // 2) as pbar:\n",
    "        for i in range(len(items)):\n",
    "            for j in range(i + 1, len(items)):\n",
    "                sim = similarity_between_two(items[i], items[j])\n",
    "                similarities[items[i], items[j]] = sim\n",
    "                similarities[items[j], items[i]] = sim\n",
    "                pbar.update()\n",
    "\n",
    "    assert np.all(\n",
    "        similarities.T == similarities\n",
    "    ), \"Similarity matrix should be symmetrical\"\n",
    "    assert np.allclose(\n",
    "        np.diag(similarities), 1.0\n",
    "    ), \"Similarities of items with themselves should be 1\"\n",
    "\n",
    "    # get neighbors by their neighbors in decreasing order of similarities\n",
    "    neighbors = np.flip(np.argsort(similarities), axis=1)\n",
    "\n",
    "    # sort similarities in decreasing order\n",
    "    similarities = np.flip(np.sort(similarities), axis=1)\n",
    "\n",
    "    return similarities, neighbors\n"
   ]
  },
  {
   "cell_type": "code",
   "execution_count": 61,
   "metadata": {
    "ExecuteTime": {
     "end_time": "2023-10-25T04:15:02.499570Z",
     "start_time": "2023-10-25T04:14:18.220345Z"
    },
    "cellId": "05t1irayiuvmhd88eg6y6c",
    "colab": {
     "base_uri": "https://localhost:8080/",
     "height": 49,
     "referenced_widgets": [
      "e42a5f835d9f49b4be79fca3aa71917c",
      "848b5029a0fa4b2d8af6a7f508aed7c4",
      "c59160239e154614858874d66169f669",
      "e74909bd09df48e082718a2dfb2bf5f1",
      "318cee5b04bc4704b147a083af2d3bbf",
      "6f1257578f1b467f9c3350451aefdbee",
      "8b6b1020c34c4e7ebcda30bd974d8f5f",
      "9f5ceebfd2f0460c82fe37bbd2ea585a",
      "8708ab4c91ca466181e412f3ef8b18b2",
      "99d87016b3db4bbdb088d04948b1a500",
      "31aa84b262eb43babadc068e7dc19b90"
     ]
    },
    "id": "l3wKNAwLv1bc",
    "outputId": "a470d717-2ced-42b4-a2b8-d45ef6a34ff2"
   },
   "outputs": [
    {
     "data": {
      "application/vnd.jupyter.widget-view+json": {
       "model_id": "264cfd150c6c40288916f162ee474e2d",
       "version_major": 2,
       "version_minor": 0
      },
      "text/plain": [
       "  0%|          | 0/1413721 [00:00<?, ?it/s]"
      ]
     },
     "metadata": {},
     "output_type": "display_data"
    }
   ],
   "source": [
    "similarities, neighbors = adjusted_cosine(np_ratings, calculate_similarity_between_two)"
   ]
  },
  {
   "cell_type": "code",
   "execution_count": 62,
   "metadata": {
    "ExecuteTime": {
     "end_time": "2023-10-25T04:05:48.776219Z",
     "start_time": "2023-10-25T04:05:48.729402Z"
    },
    "id": "g0j0C9p-v1bd"
   },
   "outputs": [],
   "source": [
    "def neighbours_viz(\n",
    "    item_id: int,\n",
    "    movies: pd.DataFrame,\n",
    "    similarities: np.ndarray,\n",
    "    k=5,\n",
    "):\n",
    "    orig_index = iencoder.inverse_transform([item_id])[0]\n",
    "    film_name = movies[movies.itemid == orig_index].title.values[0]\n",
    "    similar_films = (\n",
    "        (\n",
    "            neighbor_id,\n",
    "            movies[\n",
    "                movies.itemid == iencoder.inverse_transform([neighbor_id])[0]\n",
    "            ].title.values[0],\n",
    "            similarity,\n",
    "        )\n",
    "        for neighbor_id, similarity in zip(\n",
    "            neighbors[item_id][:k], similarities[item_id][:k]\n",
    "        )\n",
    "    )\n",
    "    display(\n",
    "        pd.DataFrame(\n",
    "            dict(zip((\"item_id\", film_name, \"Similarity\"), zip(*similar_films)))\n",
    "        )\n",
    "    )\n",
    "    print(\"\\n\")"
   ]
  },
  {
   "cell_type": "code",
   "execution_count": 63,
   "metadata": {
    "ExecuteTime": {
     "end_time": "2023-10-25T04:10:24.030235Z",
     "start_time": "2023-10-25T04:10:23.976947Z"
    },
    "colab": {
     "base_uri": "https://localhost:8080/",
     "height": 913
    },
    "id": "OHlDuu-f9G5g",
    "outputId": "008bff09-f2ba-4a2a-ef05-bc2838420774"
   },
   "outputs": [
    {
     "data": {
      "text/html": [
       "<div>\n",
       "<style scoped>\n",
       "    .dataframe tbody tr th:only-of-type {\n",
       "        vertical-align: middle;\n",
       "    }\n",
       "\n",
       "    .dataframe tbody tr th {\n",
       "        vertical-align: top;\n",
       "    }\n",
       "\n",
       "    .dataframe thead th {\n",
       "        text-align: right;\n",
       "    }\n",
       "</style>\n",
       "<table border=\"1\" class=\"dataframe\">\n",
       "  <thead>\n",
       "    <tr style=\"text-align: right;\">\n",
       "      <th></th>\n",
       "      <th>item_id</th>\n",
       "      <th>Star Wars (1977)</th>\n",
       "      <th>Similarity</th>\n",
       "    </tr>\n",
       "  </thead>\n",
       "  <tbody>\n",
       "    <tr>\n",
       "      <th>0</th>\n",
       "      <td>1326</td>\n",
       "      <td>Captives (1994)</td>\n",
       "      <td>1.0</td>\n",
       "    </tr>\n",
       "    <tr>\n",
       "      <th>1</th>\n",
       "      <td>1645</td>\n",
       "      <td>Men With Guns (1997)</td>\n",
       "      <td>1.0</td>\n",
       "    </tr>\n",
       "    <tr>\n",
       "      <th>2</th>\n",
       "      <td>1485</td>\n",
       "      <td>Girl in the Cadillac (1995)</td>\n",
       "      <td>1.0</td>\n",
       "    </tr>\n",
       "    <tr>\n",
       "      <th>3</th>\n",
       "      <td>1629</td>\n",
       "      <td>Silence of the Palace, The (Saimt el Qusur) (1...</td>\n",
       "      <td>1.0</td>\n",
       "    </tr>\n",
       "    <tr>\n",
       "      <th>4</th>\n",
       "      <td>1242</td>\n",
       "      <td>Night Flier (1997)</td>\n",
       "      <td>1.0</td>\n",
       "    </tr>\n",
       "  </tbody>\n",
       "</table>\n",
       "</div>"
      ],
      "text/plain": [
       "   item_id                                   Star Wars (1977)  Similarity\n",
       "0     1326                                    Captives (1994)         1.0\n",
       "1     1645                               Men With Guns (1997)         1.0\n",
       "2     1485                        Girl in the Cadillac (1995)         1.0\n",
       "3     1629  Silence of the Palace, The (Saimt el Qusur) (1...         1.0\n",
       "4     1242                                 Night Flier (1997)         1.0"
      ]
     },
     "metadata": {},
     "output_type": "display_data"
    },
    {
     "name": "stdout",
     "output_type": "stream",
     "text": [
      "\n",
      "\n"
     ]
    },
    {
     "data": {
      "text/html": [
       "<div>\n",
       "<style scoped>\n",
       "    .dataframe tbody tr th:only-of-type {\n",
       "        vertical-align: middle;\n",
       "    }\n",
       "\n",
       "    .dataframe tbody tr th {\n",
       "        vertical-align: top;\n",
       "    }\n",
       "\n",
       "    .dataframe thead th {\n",
       "        text-align: right;\n",
       "    }\n",
       "</style>\n",
       "<table border=\"1\" class=\"dataframe\">\n",
       "  <thead>\n",
       "    <tr style=\"text-align: right;\">\n",
       "      <th></th>\n",
       "      <th>item_id</th>\n",
       "      <th>Forrest Gump (1994)</th>\n",
       "      <th>Similarity</th>\n",
       "    </tr>\n",
       "  </thead>\n",
       "  <tbody>\n",
       "    <tr>\n",
       "      <th>0</th>\n",
       "      <td>991</td>\n",
       "      <td>Head Above Water (1996)</td>\n",
       "      <td>1.0</td>\n",
       "    </tr>\n",
       "    <tr>\n",
       "      <th>1</th>\n",
       "      <td>1629</td>\n",
       "      <td>Silence of the Palace, The (Saimt el Qusur) (1...</td>\n",
       "      <td>1.0</td>\n",
       "    </tr>\n",
       "    <tr>\n",
       "      <th>2</th>\n",
       "      <td>1593</td>\n",
       "      <td>Everest (1998)</td>\n",
       "      <td>1.0</td>\n",
       "    </tr>\n",
       "    <tr>\n",
       "      <th>3</th>\n",
       "      <td>1388</td>\n",
       "      <td>Mondo (1996)</td>\n",
       "      <td>1.0</td>\n",
       "    </tr>\n",
       "    <tr>\n",
       "      <th>4</th>\n",
       "      <td>1326</td>\n",
       "      <td>Captives (1994)</td>\n",
       "      <td>1.0</td>\n",
       "    </tr>\n",
       "  </tbody>\n",
       "</table>\n",
       "</div>"
      ],
      "text/plain": [
       "   item_id                                Forrest Gump (1994)  Similarity\n",
       "0      991                            Head Above Water (1996)         1.0\n",
       "1     1629  Silence of the Palace, The (Saimt el Qusur) (1...         1.0\n",
       "2     1593                                     Everest (1998)         1.0\n",
       "3     1388                                       Mondo (1996)         1.0\n",
       "4     1326                                    Captives (1994)         1.0"
      ]
     },
     "metadata": {},
     "output_type": "display_data"
    },
    {
     "name": "stdout",
     "output_type": "stream",
     "text": [
      "\n",
      "\n"
     ]
    },
    {
     "data": {
      "text/html": [
       "<div>\n",
       "<style scoped>\n",
       "    .dataframe tbody tr th:only-of-type {\n",
       "        vertical-align: middle;\n",
       "    }\n",
       "\n",
       "    .dataframe tbody tr th {\n",
       "        vertical-align: top;\n",
       "    }\n",
       "\n",
       "    .dataframe thead th {\n",
       "        text-align: right;\n",
       "    }\n",
       "</style>\n",
       "<table border=\"1\" class=\"dataframe\">\n",
       "  <thead>\n",
       "    <tr style=\"text-align: right;\">\n",
       "      <th></th>\n",
       "      <th>item_id</th>\n",
       "      <th>Primary Colors (1998)</th>\n",
       "      <th>Similarity</th>\n",
       "    </tr>\n",
       "  </thead>\n",
       "  <tbody>\n",
       "    <tr>\n",
       "      <th>0</th>\n",
       "      <td>1175</td>\n",
       "      <td>Welcome To Sarajevo (1997)</td>\n",
       "      <td>1.0</td>\n",
       "    </tr>\n",
       "    <tr>\n",
       "      <th>1</th>\n",
       "      <td>1170</td>\n",
       "      <td>Wild Reeds (1994)</td>\n",
       "      <td>1.0</td>\n",
       "    </tr>\n",
       "    <tr>\n",
       "      <th>2</th>\n",
       "      <td>266</td>\n",
       "      <td>unknown</td>\n",
       "      <td>1.0</td>\n",
       "    </tr>\n",
       "    <tr>\n",
       "      <th>3</th>\n",
       "      <td>1194</td>\n",
       "      <td>Strawberry and Chocolate (Fresa y chocolate) (...</td>\n",
       "      <td>1.0</td>\n",
       "    </tr>\n",
       "    <tr>\n",
       "      <th>4</th>\n",
       "      <td>1195</td>\n",
       "      <td>Savage Nights (Nuits fauves, Les) (1992)</td>\n",
       "      <td>1.0</td>\n",
       "    </tr>\n",
       "  </tbody>\n",
       "</table>\n",
       "</div>"
      ],
      "text/plain": [
       "   item_id                              Primary Colors (1998)  Similarity\n",
       "0     1175                         Welcome To Sarajevo (1997)         1.0\n",
       "1     1170                                  Wild Reeds (1994)         1.0\n",
       "2      266                                            unknown         1.0\n",
       "3     1194  Strawberry and Chocolate (Fresa y chocolate) (...         1.0\n",
       "4     1195           Savage Nights (Nuits fauves, Les) (1992)         1.0"
      ]
     },
     "metadata": {},
     "output_type": "display_data"
    },
    {
     "name": "stdout",
     "output_type": "stream",
     "text": [
      "\n",
      "\n"
     ]
    },
    {
     "data": {
      "text/html": [
       "<div>\n",
       "<style scoped>\n",
       "    .dataframe tbody tr th:only-of-type {\n",
       "        vertical-align: middle;\n",
       "    }\n",
       "\n",
       "    .dataframe tbody tr th {\n",
       "        vertical-align: top;\n",
       "    }\n",
       "\n",
       "    .dataframe thead th {\n",
       "        text-align: right;\n",
       "    }\n",
       "</style>\n",
       "<table border=\"1\" class=\"dataframe\">\n",
       "  <thead>\n",
       "    <tr style=\"text-align: right;\">\n",
       "      <th></th>\n",
       "      <th>item_id</th>\n",
       "      <th>Paradise Lost: The Child Murders at Robin Hood Hills (1996)</th>\n",
       "      <th>Similarity</th>\n",
       "    </tr>\n",
       "  </thead>\n",
       "  <tbody>\n",
       "    <tr>\n",
       "      <th>0</th>\n",
       "      <td>1343</td>\n",
       "      <td>Story of Xinghua, The (1993)</td>\n",
       "      <td>1.0</td>\n",
       "    </tr>\n",
       "    <tr>\n",
       "      <th>1</th>\n",
       "      <td>806</td>\n",
       "      <td>Poetic Justice (1993)</td>\n",
       "      <td>1.0</td>\n",
       "    </tr>\n",
       "    <tr>\n",
       "      <th>2</th>\n",
       "      <td>1402</td>\n",
       "      <td>Caro Diario (Dear Diary) (1994)</td>\n",
       "      <td>1.0</td>\n",
       "    </tr>\n",
       "    <tr>\n",
       "      <th>3</th>\n",
       "      <td>1540</td>\n",
       "      <td>Beans of Egypt, Maine, The (1994)</td>\n",
       "      <td>1.0</td>\n",
       "    </tr>\n",
       "    <tr>\n",
       "      <th>4</th>\n",
       "      <td>1539</td>\n",
       "      <td>Amazing Panda Adventure, The (1995)</td>\n",
       "      <td>1.0</td>\n",
       "    </tr>\n",
       "  </tbody>\n",
       "</table>\n",
       "</div>"
      ],
      "text/plain": [
       "   item_id Paradise Lost: The Child Murders at Robin Hood Hills (1996)  \\\n",
       "0     1343                       Story of Xinghua, The (1993)            \n",
       "1      806                              Poetic Justice (1993)            \n",
       "2     1402                    Caro Diario (Dear Diary) (1994)            \n",
       "3     1540                  Beans of Egypt, Maine, The (1994)            \n",
       "4     1539                Amazing Panda Adventure, The (1995)            \n",
       "\n",
       "   Similarity  \n",
       "0         1.0  \n",
       "1         1.0  \n",
       "2         1.0  \n",
       "3         1.0  \n",
       "4         1.0  "
      ]
     },
     "metadata": {},
     "output_type": "display_data"
    },
    {
     "name": "stdout",
     "output_type": "stream",
     "text": [
      "\n",
      "\n"
     ]
    },
    {
     "data": {
      "text/html": [
       "<div>\n",
       "<style scoped>\n",
       "    .dataframe tbody tr th:only-of-type {\n",
       "        vertical-align: middle;\n",
       "    }\n",
       "\n",
       "    .dataframe tbody tr th {\n",
       "        vertical-align: top;\n",
       "    }\n",
       "\n",
       "    .dataframe thead th {\n",
       "        text-align: right;\n",
       "    }\n",
       "</style>\n",
       "<table border=\"1\" class=\"dataframe\">\n",
       "  <thead>\n",
       "    <tr style=\"text-align: right;\">\n",
       "      <th></th>\n",
       "      <th>item_id</th>\n",
       "      <th>Evil Dead II (1987)</th>\n",
       "      <th>Similarity</th>\n",
       "    </tr>\n",
       "  </thead>\n",
       "  <tbody>\n",
       "    <tr>\n",
       "      <th>0</th>\n",
       "      <td>888</td>\n",
       "      <td>Tango Lesson, The (1997)</td>\n",
       "      <td>1.0</td>\n",
       "    </tr>\n",
       "    <tr>\n",
       "      <th>1</th>\n",
       "      <td>1428</td>\n",
       "      <td>Sliding Doors (1998)</td>\n",
       "      <td>1.0</td>\n",
       "    </tr>\n",
       "    <tr>\n",
       "      <th>2</th>\n",
       "      <td>1560</td>\n",
       "      <td>Tigrero: A Film That Was Never Made (1994)</td>\n",
       "      <td>1.0</td>\n",
       "    </tr>\n",
       "    <tr>\n",
       "      <th>3</th>\n",
       "      <td>1559</td>\n",
       "      <td>Clean Slate (Coup de Torchon) (1981)</td>\n",
       "      <td>1.0</td>\n",
       "    </tr>\n",
       "    <tr>\n",
       "      <th>4</th>\n",
       "      <td>1558</td>\n",
       "      <td>Hostile Intentions (1994)</td>\n",
       "      <td>1.0</td>\n",
       "    </tr>\n",
       "  </tbody>\n",
       "</table>\n",
       "</div>"
      ],
      "text/plain": [
       "   item_id                         Evil Dead II (1987)  Similarity\n",
       "0      888                    Tango Lesson, The (1997)         1.0\n",
       "1     1428                        Sliding Doors (1998)         1.0\n",
       "2     1560  Tigrero: A Film That Was Never Made (1994)         1.0\n",
       "3     1559        Clean Slate (Coup de Torchon) (1981)         1.0\n",
       "4     1558                   Hostile Intentions (1994)         1.0"
      ]
     },
     "metadata": {},
     "output_type": "display_data"
    },
    {
     "name": "stdout",
     "output_type": "stream",
     "text": [
      "\n",
      "\n"
     ]
    }
   ],
   "source": [
    "neighbours_viz(49, movies, similarities)\n",
    "neighbours_viz(68, movies, similarities)\n",
    "neighbours_viz(914, movies, similarities)\n",
    "neighbours_viz(319, movies, similarities)\n",
    "neighbours_viz(200, movies, similarities)"
   ]
  },
  {
   "cell_type": "code",
   "execution_count": 64,
   "metadata": {
    "ExecuteTime": {
     "end_time": "2023-10-25T04:20:14.968843Z",
     "start_time": "2023-10-25T04:20:14.941080Z"
    },
    "id": "Y70IKhWnKw8b"
   },
   "outputs": [],
   "source": [
    "def calculate_similarity_between_two_with_threshold(\n",
    "    i: int, j: int\n",
    ") -> float:\n",
    "    if i == j:\n",
    "        return 1.0\n",
    "\n",
    "    ratings_i, ratings_j = ratings_for_item(i), ratings_for_item(j)\n",
    "    common_users = np.intersect1d(ratings_i[:, 0], ratings_j[:, 0])\n",
    "    common_ratings_i = ratings_i[np.isin(ratings_i[:, 0], common_users)]\n",
    "    common_ratings_j = ratings_j[np.isin(ratings_j[:, 0], common_users)]\n",
    "\n",
    "    if len(common_users) > 20:\n",
    "        assert sorted(common_ratings_i[:, 0]) == sorted(common_ratings_j[:, 0])\n",
    "        x = common_ratings_i[:, 3]\n",
    "        y = common_ratings_j[:, 3]\n",
    "        return cosine(x, y)\n",
    "    return -1.0"
   ]
  },
  {
   "cell_type": "code",
   "execution_count": 65,
   "metadata": {
    "ExecuteTime": {
     "end_time": "2023-10-25T04:20:16.414561Z",
     "start_time": "2023-10-25T04:20:16.385660Z"
    },
    "id": "0o_KjzkjrPJT"
   },
   "outputs": [],
   "source": [
    "assert np.isclose(\n",
    "    calculate_similarity_between_two_with_threshold(1, 1431), -1.0\n",
    ")\n",
    "assert np.isclose(\n",
    "    calculate_similarity_between_two_with_threshold(1, 17), -1.0\n",
    ")\n",
    "assert np.isclose(\n",
    "    calculate_similarity_between_two_with_threshold(4, 1123), -1.0\n",
    ")\n",
    "assert np.isclose(\n",
    "    calculate_similarity_between_two_with_threshold(914, 1681), -1.0\n",
    ")"
   ]
  },
  {
   "cell_type": "code",
   "execution_count": 66,
   "metadata": {
    "ExecuteTime": {
     "end_time": "2023-10-25T04:20:57.432065Z",
     "start_time": "2023-10-25T04:20:18.326685Z"
    },
    "colab": {
     "base_uri": "https://localhost:8080/",
     "height": 49,
     "referenced_widgets": [
      "6386244facc64b89ad546e07dd3d22fa",
      "12f06064f03a49229478c4f340e24020",
      "3d35f7ff9f58486fa9d7c92a1b5883e4",
      "7033ee3ee5bb4f93a9a42bd0dfb6722c",
      "6f18586bf3fb4f26b04bd943e218607e",
      "58373cde35744a84b7f5aa0f9485e797",
      "97944cf0fb1b46428038e441b088fd40",
      "f8a5744aa9924705b64af567c84645b6",
      "fa2c8f0a19a14c4e9c770c5906d7ac5d",
      "ee297849422941db8c0665ff88540f76",
      "446ee9d97f434e1ab9877410b496e8a8"
     ]
    },
    "id": "Kbx1ElEPLFF6",
    "outputId": "fa2d4d7a-574e-40b8-8460-2637b377181f"
   },
   "outputs": [
    {
     "data": {
      "application/vnd.jupyter.widget-view+json": {
       "model_id": "288cda571ed74be8a4d52382d7ec44af",
       "version_major": 2,
       "version_minor": 0
      },
      "text/plain": [
       "  0%|          | 0/1413721 [00:00<?, ?it/s]"
      ]
     },
     "metadata": {},
     "output_type": "display_data"
    }
   ],
   "source": [
    "similarities, neighbors = adjusted_cosine(\n",
    "    np_ratings, calculate_similarity_between_two_with_threshold\n",
    ")"
   ]
  },
  {
   "cell_type": "code",
   "execution_count": 67,
   "metadata": {
    "colab": {
     "base_uri": "https://localhost:8080/",
     "height": 913
    },
    "id": "Q6n8kbeg9nS9",
    "outputId": "5ca83562-fdcc-430e-a703-e16e61c6ac60"
   },
   "outputs": [
    {
     "data": {
      "text/html": [
       "<div>\n",
       "<style scoped>\n",
       "    .dataframe tbody tr th:only-of-type {\n",
       "        vertical-align: middle;\n",
       "    }\n",
       "\n",
       "    .dataframe tbody tr th {\n",
       "        vertical-align: top;\n",
       "    }\n",
       "\n",
       "    .dataframe thead th {\n",
       "        text-align: right;\n",
       "    }\n",
       "</style>\n",
       "<table border=\"1\" class=\"dataframe\">\n",
       "  <thead>\n",
       "    <tr style=\"text-align: right;\">\n",
       "      <th></th>\n",
       "      <th>item_id</th>\n",
       "      <th>Star Wars (1977)</th>\n",
       "      <th>Similarity</th>\n",
       "    </tr>\n",
       "  </thead>\n",
       "  <tbody>\n",
       "    <tr>\n",
       "      <th>0</th>\n",
       "      <td>49</td>\n",
       "      <td>Star Wars (1977)</td>\n",
       "      <td>1.000000</td>\n",
       "    </tr>\n",
       "    <tr>\n",
       "      <th>1</th>\n",
       "      <td>171</td>\n",
       "      <td>Empire Strikes Back, The (1980)</td>\n",
       "      <td>0.826287</td>\n",
       "    </tr>\n",
       "    <tr>\n",
       "      <th>2</th>\n",
       "      <td>180</td>\n",
       "      <td>Return of the Jedi (1983)</td>\n",
       "      <td>0.728182</td>\n",
       "    </tr>\n",
       "    <tr>\n",
       "      <th>3</th>\n",
       "      <td>173</td>\n",
       "      <td>Raiders of the Lost Ark (1981)</td>\n",
       "      <td>0.714250</td>\n",
       "    </tr>\n",
       "    <tr>\n",
       "      <th>4</th>\n",
       "      <td>407</td>\n",
       "      <td>Close Shave, A (1995)</td>\n",
       "      <td>0.659379</td>\n",
       "    </tr>\n",
       "  </tbody>\n",
       "</table>\n",
       "</div>"
      ],
      "text/plain": [
       "   item_id                 Star Wars (1977)  Similarity\n",
       "0       49                 Star Wars (1977)    1.000000\n",
       "1      171  Empire Strikes Back, The (1980)    0.826287\n",
       "2      180        Return of the Jedi (1983)    0.728182\n",
       "3      173   Raiders of the Lost Ark (1981)    0.714250\n",
       "4      407            Close Shave, A (1995)    0.659379"
      ]
     },
     "metadata": {},
     "output_type": "display_data"
    },
    {
     "name": "stdout",
     "output_type": "stream",
     "text": [
      "\n",
      "\n"
     ]
    },
    {
     "data": {
      "text/html": [
       "<div>\n",
       "<style scoped>\n",
       "    .dataframe tbody tr th:only-of-type {\n",
       "        vertical-align: middle;\n",
       "    }\n",
       "\n",
       "    .dataframe tbody tr th {\n",
       "        vertical-align: top;\n",
       "    }\n",
       "\n",
       "    .dataframe thead th {\n",
       "        text-align: right;\n",
       "    }\n",
       "</style>\n",
       "<table border=\"1\" class=\"dataframe\">\n",
       "  <thead>\n",
       "    <tr style=\"text-align: right;\">\n",
       "      <th></th>\n",
       "      <th>item_id</th>\n",
       "      <th>Forrest Gump (1994)</th>\n",
       "      <th>Similarity</th>\n",
       "    </tr>\n",
       "  </thead>\n",
       "  <tbody>\n",
       "    <tr>\n",
       "      <th>0</th>\n",
       "      <td>68</td>\n",
       "      <td>Forrest Gump (1994)</td>\n",
       "      <td>1.000000</td>\n",
       "    </tr>\n",
       "    <tr>\n",
       "      <th>1</th>\n",
       "      <td>214</td>\n",
       "      <td>Field of Dreams (1989)</td>\n",
       "      <td>0.445981</td>\n",
       "    </tr>\n",
       "    <tr>\n",
       "      <th>2</th>\n",
       "      <td>309</td>\n",
       "      <td>Rainmaker, The (1997)</td>\n",
       "      <td>0.436435</td>\n",
       "    </tr>\n",
       "    <tr>\n",
       "      <th>3</th>\n",
       "      <td>21</td>\n",
       "      <td>Braveheart (1995)</td>\n",
       "      <td>0.422572</td>\n",
       "    </tr>\n",
       "    <tr>\n",
       "      <th>4</th>\n",
       "      <td>965</td>\n",
       "      <td>Affair to Remember, An (1957)</td>\n",
       "      <td>0.420235</td>\n",
       "    </tr>\n",
       "  </tbody>\n",
       "</table>\n",
       "</div>"
      ],
      "text/plain": [
       "   item_id            Forrest Gump (1994)  Similarity\n",
       "0       68            Forrest Gump (1994)    1.000000\n",
       "1      214         Field of Dreams (1989)    0.445981\n",
       "2      309          Rainmaker, The (1997)    0.436435\n",
       "3       21              Braveheart (1995)    0.422572\n",
       "4      965  Affair to Remember, An (1957)    0.420235"
      ]
     },
     "metadata": {},
     "output_type": "display_data"
    },
    {
     "name": "stdout",
     "output_type": "stream",
     "text": [
      "\n",
      "\n"
     ]
    },
    {
     "data": {
      "text/html": [
       "<div>\n",
       "<style scoped>\n",
       "    .dataframe tbody tr th:only-of-type {\n",
       "        vertical-align: middle;\n",
       "    }\n",
       "\n",
       "    .dataframe tbody tr th {\n",
       "        vertical-align: top;\n",
       "    }\n",
       "\n",
       "    .dataframe thead th {\n",
       "        text-align: right;\n",
       "    }\n",
       "</style>\n",
       "<table border=\"1\" class=\"dataframe\">\n",
       "  <thead>\n",
       "    <tr style=\"text-align: right;\">\n",
       "      <th></th>\n",
       "      <th>item_id</th>\n",
       "      <th>Dirty Dancing (1987)</th>\n",
       "      <th>Similarity</th>\n",
       "    </tr>\n",
       "  </thead>\n",
       "  <tbody>\n",
       "    <tr>\n",
       "      <th>0</th>\n",
       "      <td>154</td>\n",
       "      <td>Dirty Dancing (1987)</td>\n",
       "      <td>1.000000</td>\n",
       "    </tr>\n",
       "    <tr>\n",
       "      <th>1</th>\n",
       "      <td>626</td>\n",
       "      <td>Robin Hood: Prince of Thieves (1991)</td>\n",
       "      <td>0.727235</td>\n",
       "    </tr>\n",
       "    <tr>\n",
       "      <th>2</th>\n",
       "      <td>568</td>\n",
       "      <td>Wolf (1994)</td>\n",
       "      <td>0.716361</td>\n",
       "    </tr>\n",
       "    <tr>\n",
       "      <th>3</th>\n",
       "      <td>254</td>\n",
       "      <td>My Best Friend's Wedding (1997)</td>\n",
       "      <td>0.708146</td>\n",
       "    </tr>\n",
       "    <tr>\n",
       "      <th>4</th>\n",
       "      <td>416</td>\n",
       "      <td>Parent Trap, The (1961)</td>\n",
       "      <td>0.634029</td>\n",
       "    </tr>\n",
       "  </tbody>\n",
       "</table>\n",
       "</div>"
      ],
      "text/plain": [
       "   item_id                  Dirty Dancing (1987)  Similarity\n",
       "0      154                  Dirty Dancing (1987)    1.000000\n",
       "1      626  Robin Hood: Prince of Thieves (1991)    0.727235\n",
       "2      568                           Wolf (1994)    0.716361\n",
       "3      254       My Best Friend's Wedding (1997)    0.708146\n",
       "4      416               Parent Trap, The (1961)    0.634029"
      ]
     },
     "metadata": {},
     "output_type": "display_data"
    },
    {
     "name": "stdout",
     "output_type": "stream",
     "text": [
      "\n",
      "\n"
     ]
    },
    {
     "data": {
      "text/html": [
       "<div>\n",
       "<style scoped>\n",
       "    .dataframe tbody tr th:only-of-type {\n",
       "        vertical-align: middle;\n",
       "    }\n",
       "\n",
       "    .dataframe tbody tr th {\n",
       "        vertical-align: top;\n",
       "    }\n",
       "\n",
       "    .dataframe thead th {\n",
       "        text-align: right;\n",
       "    }\n",
       "</style>\n",
       "<table border=\"1\" class=\"dataframe\">\n",
       "  <thead>\n",
       "    <tr style=\"text-align: right;\">\n",
       "      <th></th>\n",
       "      <th>item_id</th>\n",
       "      <th>Evil Dead II (1987)</th>\n",
       "      <th>Similarity</th>\n",
       "    </tr>\n",
       "  </thead>\n",
       "  <tbody>\n",
       "    <tr>\n",
       "      <th>0</th>\n",
       "      <td>200</td>\n",
       "      <td>Evil Dead II (1987)</td>\n",
       "      <td>1.000000</td>\n",
       "    </tr>\n",
       "    <tr>\n",
       "      <th>1</th>\n",
       "      <td>183</td>\n",
       "      <td>Army of Darkness (1993)</td>\n",
       "      <td>0.574317</td>\n",
       "    </tr>\n",
       "    <tr>\n",
       "      <th>2</th>\n",
       "      <td>23</td>\n",
       "      <td>Rumble in the Bronx (1995)</td>\n",
       "      <td>0.536677</td>\n",
       "    </tr>\n",
       "    <tr>\n",
       "      <th>3</th>\n",
       "      <td>90</td>\n",
       "      <td>Nightmare Before Christmas, The (1993)</td>\n",
       "      <td>0.491057</td>\n",
       "    </tr>\n",
       "    <tr>\n",
       "      <th>4</th>\n",
       "      <td>557</td>\n",
       "      <td>Heavenly Creatures (1994)</td>\n",
       "      <td>0.481768</td>\n",
       "    </tr>\n",
       "  </tbody>\n",
       "</table>\n",
       "</div>"
      ],
      "text/plain": [
       "   item_id                     Evil Dead II (1987)  Similarity\n",
       "0      200                     Evil Dead II (1987)    1.000000\n",
       "1      183                 Army of Darkness (1993)    0.574317\n",
       "2       23              Rumble in the Bronx (1995)    0.536677\n",
       "3       90  Nightmare Before Christmas, The (1993)    0.491057\n",
       "4      557               Heavenly Creatures (1994)    0.481768"
      ]
     },
     "metadata": {},
     "output_type": "display_data"
    },
    {
     "name": "stdout",
     "output_type": "stream",
     "text": [
      "\n",
      "\n"
     ]
    }
   ],
   "source": [
    "neighbours_viz(49, movies, similarities)\n",
    "neighbours_viz(68, movies, similarities)\n",
    "neighbours_viz(154, movies, similarities)\n",
    "neighbours_viz(200, movies, similarities)"
   ]
  },
  {
   "cell_type": "markdown",
   "metadata": {
    "cellId": "hseep36n118brjb0uuee4b",
    "id": "TyLvzZfBv1bd"
   },
   "source": [
    "### Part 2. Top items for a user"
   ]
  },
  {
   "cell_type": "code",
   "execution_count": 70,
   "metadata": {
    "ExecuteTime": {
     "end_time": "2023-10-25T04:49:23.116855Z",
     "start_time": "2023-10-25T04:49:23.086834Z"
    },
    "cellId": "g318akv7ffe8fg0iufcoxw",
    "id": "cwWDrpN5v1be"
   },
   "outputs": [],
   "source": [
    "def candidate_items(\n",
    "    np_ratings: np.ndarray, userid: int, k=-1\n",
    ") -> tp.Tuple[np.ndarray, np.ndarray]:\n",
    "    '''np_ratings: array containing: (user_id, item_id, rating, rating_mean, norm_rating)'''\n",
    "    \n",
    "    # 1. Finding the set I_u of items already rated by user userid\n",
    "    I_u = np_ratings[np_ratings[:, 0] == userid]\n",
    "    I_u = I_u[:, 1].astype(\"int\")\n",
    "\n",
    "    # 2. Taking the union of similar items for all items in I_u to form the set of candidate items\n",
    "    c = set()\n",
    "\n",
    "    for iid in I_u:\n",
    "        # add the neighbors of item iid in the set of candidate items\n",
    "        c.update(neighbors[iid, :k])\n",
    "\n",
    "    c = list(c)\n",
    "    \n",
    "    # 3. exclude from the set C all items in I_u.\n",
    "    candidates = np.setdiff1d(c, I_u, assume_unique=True)\n",
    "\n",
    "    return I_u, candidates"
   ]
  },
  {
   "cell_type": "code",
   "execution_count": 75,
   "metadata": {
    "ExecuteTime": {
     "end_time": "2023-10-25T04:50:49.558235Z",
     "start_time": "2023-10-25T04:50:49.526647Z"
    },
    "cellId": "8tx2ejas3twa354gtswotm",
    "colab": {
     "base_uri": "https://localhost:8080/"
    },
    "id": "RvwdB11Jv1be",
    "outputId": "6f2cc402-65ec-493e-aa74-e803982372d1"
   },
   "outputs": [
    {
     "name": "stdout",
     "output_type": "stream",
     "text": [
      "Films seen by user: 54\n",
      "Candidates: 1628\n"
     ]
    }
   ],
   "source": [
    "i_u, u_candidates = candidate_items(np_ratings, uencoder.transform([3])[0])\n",
    "\n",
    "print(\"Films seen by user:\", len(i_u))\n",
    "print(\"Candidates:\", len(u_candidates))"
   ]
  },
  {
   "cell_type": "code",
   "execution_count": 76,
   "metadata": {
    "ExecuteTime": {
     "end_time": "2023-10-25T04:51:40.494722Z",
     "start_time": "2023-10-25T04:51:40.466394Z"
    }
   },
   "outputs": [
    {
     "name": "stdout",
     "output_type": "stream",
     "text": [
      "Films seen by user: 54\n",
      "Candidates: 237\n"
     ]
    }
   ],
   "source": [
    "i_u, u_candidates = candidate_items(np_ratings, uencoder.transform([3])[0], 10)\n",
    "\n",
    "print(\"Films seen by user:\", len(i_u))\n",
    "print(\"Candidates:\", len(u_candidates))"
   ]
  },
  {
   "cell_type": "code",
   "execution_count": 77,
   "metadata": {
    "ExecuteTime": {
     "end_time": "2023-10-25T04:53:09.751443Z",
     "start_time": "2023-10-25T04:53:09.721503Z"
    },
    "cellId": "azxskh7983hfjdsjtyzifq",
    "id": "K8GCR42Wv1bf"
   },
   "outputs": [],
   "source": [
    "def similarity_with_Iu(item_id: int, I_u: np.ndarray) -> float:\n",
    "    w = 0\n",
    "    for iid in I_u:\n",
    "        # get similarity between itemid and c, if c is one of the k nearest neighbors of itemid\n",
    "        if item_id in neighbors[iid]:\n",
    "            w = w + similarities[iid, neighbors[iid] == item_id][0]\n",
    "    return w"
   ]
  },
  {
   "cell_type": "code",
   "execution_count": 78,
   "metadata": {
    "ExecuteTime": {
     "end_time": "2023-10-25T04:54:02.667912Z",
     "start_time": "2023-10-25T04:54:02.639551Z"
    },
    "cellId": "angr2yo0e4zk965hv14r",
    "id": "Gj3efZMqv1bf"
   },
   "outputs": [],
   "source": [
    "def rank_candidates(candidates: np.ndarray, I_u: np.ndarray) -> list:\n",
    "\n",
    "    # list of candidate items mapped to their corresponding similarities to I_u\n",
    "    sims = [similarity_with_Iu(c, I_u) for c in candidates]\n",
    "    candidates = iencoder.inverse_transform(candidates)\n",
    "    mapping = list(zip(candidates, sims))\n",
    "\n",
    "    ranked_candidates = sorted(mapping, key=lambda couple: couple[1], reverse=True)\n",
    "    return ranked_candidates"
   ]
  },
  {
   "cell_type": "markdown",
   "metadata": {
    "id": "vJ4M9NLhv1bf"
   },
   "source": [
    "## Putting it alltogether"
   ]
  },
  {
   "cell_type": "code",
   "execution_count": 79,
   "metadata": {
    "ExecuteTime": {
     "end_time": "2023-10-25T04:54:32.763347Z",
     "start_time": "2023-10-25T04:54:32.734048Z"
    },
    "cellId": "xbxcbljvovnf3iolf27kw",
    "id": "iV9vTfbPv1bg"
   },
   "outputs": [],
   "source": [
    "def topn_recommendation(np_ratings: np.ndarray, userid, k=-1, N=30):\n",
    "    # find candidate items\n",
    "    I_u, candidates = candidate_items(np_ratings, userid, k)\n",
    "\n",
    "    # rank candidate items according to their similarities with I_u\n",
    "    ranked_candidates = rank_candidates(candidates, I_u)\n",
    "\n",
    "    # get the first N row of ranked_candidates to build the top N recommendation list\n",
    "    topn = pd.DataFrame(ranked_candidates[:N], columns=[\"itemid\", \"similarity_with_Iu\"])\n",
    "    topn = pd.merge(topn, movies, on=\"itemid\", how=\"inner\")\n",
    "    return topn"
   ]
  },
  {
   "cell_type": "code",
   "execution_count": 80,
   "metadata": {
    "cellId": "oihvlnpro923jizcej58x",
    "colab": {
     "base_uri": "https://localhost:8080/",
     "height": 990
    },
    "id": "NLD9Xo6Kv1bg",
    "outputId": "9a90c16d-ea82-4e6d-d1ac-bba9f77aad2b"
   },
   "outputs": [
    {
     "data": {
      "text/html": [
       "<div>\n",
       "<style scoped>\n",
       "    .dataframe tbody tr th:only-of-type {\n",
       "        vertical-align: middle;\n",
       "    }\n",
       "\n",
       "    .dataframe tbody tr th {\n",
       "        vertical-align: top;\n",
       "    }\n",
       "\n",
       "    .dataframe thead th {\n",
       "        text-align: right;\n",
       "    }\n",
       "</style>\n",
       "<table border=\"1\" class=\"dataframe\">\n",
       "  <thead>\n",
       "    <tr style=\"text-align: right;\">\n",
       "      <th></th>\n",
       "      <th>itemid</th>\n",
       "      <th>similarity_with_Iu</th>\n",
       "      <th>title</th>\n",
       "    </tr>\n",
       "  </thead>\n",
       "  <tbody>\n",
       "    <tr>\n",
       "      <th>0</th>\n",
       "      <td>313</td>\n",
       "      <td>-16.941690</td>\n",
       "      <td>Titanic (1997)</td>\n",
       "    </tr>\n",
       "    <tr>\n",
       "      <th>1</th>\n",
       "      <td>318</td>\n",
       "      <td>-23.278784</td>\n",
       "      <td>Schindler's List (1993)</td>\n",
       "    </tr>\n",
       "    <tr>\n",
       "      <th>2</th>\n",
       "      <td>655</td>\n",
       "      <td>-24.349682</td>\n",
       "      <td>Stand by Me (1986)</td>\n",
       "    </tr>\n",
       "    <tr>\n",
       "      <th>3</th>\n",
       "      <td>357</td>\n",
       "      <td>-26.289772</td>\n",
       "      <td>One Flew Over the Cuckoo's Nest (1975)</td>\n",
       "    </tr>\n",
       "    <tr>\n",
       "      <th>4</th>\n",
       "      <td>433</td>\n",
       "      <td>-27.140886</td>\n",
       "      <td>Heathers (1989)</td>\n",
       "    </tr>\n",
       "    <tr>\n",
       "      <th>5</th>\n",
       "      <td>423</td>\n",
       "      <td>-27.654851</td>\n",
       "      <td>E.T. the Extra-Terrestrial (1982)</td>\n",
       "    </tr>\n",
       "    <tr>\n",
       "      <th>6</th>\n",
       "      <td>651</td>\n",
       "      <td>-27.970798</td>\n",
       "      <td>Glory (1989)</td>\n",
       "    </tr>\n",
       "    <tr>\n",
       "      <th>7</th>\n",
       "      <td>288</td>\n",
       "      <td>-29.451573</td>\n",
       "      <td>Scream (1996)</td>\n",
       "    </tr>\n",
       "    <tr>\n",
       "      <th>8</th>\n",
       "      <td>276</td>\n",
       "      <td>-29.451748</td>\n",
       "      <td>Leaving Las Vegas (1995)</td>\n",
       "    </tr>\n",
       "    <tr>\n",
       "      <th>9</th>\n",
       "      <td>527</td>\n",
       "      <td>-29.573808</td>\n",
       "      <td>Gandhi (1982)</td>\n",
       "    </tr>\n",
       "    <tr>\n",
       "      <th>10</th>\n",
       "      <td>302</td>\n",
       "      <td>-30.622772</td>\n",
       "      <td>L.A. Confidential (1997)</td>\n",
       "    </tr>\n",
       "    <tr>\n",
       "      <th>11</th>\n",
       "      <td>286</td>\n",
       "      <td>-31.713590</td>\n",
       "      <td>English Patient, The (1996)</td>\n",
       "    </tr>\n",
       "    <tr>\n",
       "      <th>12</th>\n",
       "      <td>483</td>\n",
       "      <td>-32.967155</td>\n",
       "      <td>Casablanca (1942)</td>\n",
       "    </tr>\n",
       "    <tr>\n",
       "      <th>13</th>\n",
       "      <td>427</td>\n",
       "      <td>-33.369143</td>\n",
       "      <td>To Kill a Mockingbird (1962)</td>\n",
       "    </tr>\n",
       "    <tr>\n",
       "      <th>14</th>\n",
       "      <td>475</td>\n",
       "      <td>-33.966008</td>\n",
       "      <td>Trainspotting (1996)</td>\n",
       "    </tr>\n",
       "    <tr>\n",
       "      <th>15</th>\n",
       "      <td>405</td>\n",
       "      <td>-34.448663</td>\n",
       "      <td>Mission: Impossible (1996)</td>\n",
       "    </tr>\n",
       "    <tr>\n",
       "      <th>16</th>\n",
       "      <td>435</td>\n",
       "      <td>-35.084328</td>\n",
       "      <td>Butch Cassidy and the Sundance Kid (1969)</td>\n",
       "    </tr>\n",
       "    <tr>\n",
       "      <th>17</th>\n",
       "      <td>403</td>\n",
       "      <td>-35.352781</td>\n",
       "      <td>Batman (1989)</td>\n",
       "    </tr>\n",
       "    <tr>\n",
       "      <th>18</th>\n",
       "      <td>732</td>\n",
       "      <td>-36.014251</td>\n",
       "      <td>Dave (1993)</td>\n",
       "    </tr>\n",
       "    <tr>\n",
       "      <th>19</th>\n",
       "      <td>603</td>\n",
       "      <td>-36.658370</td>\n",
       "      <td>Rear Window (1954)</td>\n",
       "    </tr>\n",
       "    <tr>\n",
       "      <th>20</th>\n",
       "      <td>588</td>\n",
       "      <td>-36.955731</td>\n",
       "      <td>Beauty and the Beast (1991)</td>\n",
       "    </tr>\n",
       "    <tr>\n",
       "      <th>21</th>\n",
       "      <td>294</td>\n",
       "      <td>-37.392375</td>\n",
       "      <td>Liar Liar (1997)</td>\n",
       "    </tr>\n",
       "    <tr>\n",
       "      <th>22</th>\n",
       "      <td>474</td>\n",
       "      <td>-37.597903</td>\n",
       "      <td>Dr. Strangelove or: How I Learned to Stop Worr...</td>\n",
       "    </tr>\n",
       "    <tr>\n",
       "      <th>23</th>\n",
       "      <td>273</td>\n",
       "      <td>-37.812546</td>\n",
       "      <td>Heat (1995)</td>\n",
       "    </tr>\n",
       "    <tr>\n",
       "      <th>24</th>\n",
       "      <td>443</td>\n",
       "      <td>-38.511184</td>\n",
       "      <td>Birds, The (1963)</td>\n",
       "    </tr>\n",
       "    <tr>\n",
       "      <th>25</th>\n",
       "      <td>385</td>\n",
       "      <td>-38.716206</td>\n",
       "      <td>True Lies (1994)</td>\n",
       "    </tr>\n",
       "    <tr>\n",
       "      <th>26</th>\n",
       "      <td>568</td>\n",
       "      <td>-38.736662</td>\n",
       "      <td>Speed (1994)</td>\n",
       "    </tr>\n",
       "    <tr>\n",
       "      <th>27</th>\n",
       "      <td>496</td>\n",
       "      <td>-38.799533</td>\n",
       "      <td>It's a Wonderful Life (1946)</td>\n",
       "    </tr>\n",
       "    <tr>\n",
       "      <th>28</th>\n",
       "      <td>742</td>\n",
       "      <td>-39.024005</td>\n",
       "      <td>Ransom (1996)</td>\n",
       "    </tr>\n",
       "    <tr>\n",
       "      <th>29</th>\n",
       "      <td>480</td>\n",
       "      <td>-39.411200</td>\n",
       "      <td>North by Northwest (1959)</td>\n",
       "    </tr>\n",
       "  </tbody>\n",
       "</table>\n",
       "</div>"
      ],
      "text/plain": [
       "    itemid  similarity_with_Iu  \\\n",
       "0      313          -16.941690   \n",
       "1      318          -23.278784   \n",
       "2      655          -24.349682   \n",
       "3      357          -26.289772   \n",
       "4      433          -27.140886   \n",
       "5      423          -27.654851   \n",
       "6      651          -27.970798   \n",
       "7      288          -29.451573   \n",
       "8      276          -29.451748   \n",
       "9      527          -29.573808   \n",
       "10     302          -30.622772   \n",
       "11     286          -31.713590   \n",
       "12     483          -32.967155   \n",
       "13     427          -33.369143   \n",
       "14     475          -33.966008   \n",
       "15     405          -34.448663   \n",
       "16     435          -35.084328   \n",
       "17     403          -35.352781   \n",
       "18     732          -36.014251   \n",
       "19     603          -36.658370   \n",
       "20     588          -36.955731   \n",
       "21     294          -37.392375   \n",
       "22     474          -37.597903   \n",
       "23     273          -37.812546   \n",
       "24     443          -38.511184   \n",
       "25     385          -38.716206   \n",
       "26     568          -38.736662   \n",
       "27     496          -38.799533   \n",
       "28     742          -39.024005   \n",
       "29     480          -39.411200   \n",
       "\n",
       "                                                title  \n",
       "0                                      Titanic (1997)  \n",
       "1                             Schindler's List (1993)  \n",
       "2                                  Stand by Me (1986)  \n",
       "3              One Flew Over the Cuckoo's Nest (1975)  \n",
       "4                                     Heathers (1989)  \n",
       "5                   E.T. the Extra-Terrestrial (1982)  \n",
       "6                                        Glory (1989)  \n",
       "7                                       Scream (1996)  \n",
       "8                            Leaving Las Vegas (1995)  \n",
       "9                                       Gandhi (1982)  \n",
       "10                           L.A. Confidential (1997)  \n",
       "11                        English Patient, The (1996)  \n",
       "12                                  Casablanca (1942)  \n",
       "13                       To Kill a Mockingbird (1962)  \n",
       "14                               Trainspotting (1996)  \n",
       "15                         Mission: Impossible (1996)  \n",
       "16          Butch Cassidy and the Sundance Kid (1969)  \n",
       "17                                      Batman (1989)  \n",
       "18                                        Dave (1993)  \n",
       "19                                 Rear Window (1954)  \n",
       "20                        Beauty and the Beast (1991)  \n",
       "21                                   Liar Liar (1997)  \n",
       "22  Dr. Strangelove or: How I Learned to Stop Worr...  \n",
       "23                                        Heat (1995)  \n",
       "24                                  Birds, The (1963)  \n",
       "25                                   True Lies (1994)  \n",
       "26                                       Speed (1994)  \n",
       "27                       It's a Wonderful Life (1946)  \n",
       "28                                      Ransom (1996)  \n",
       "29                          North by Northwest (1959)  "
      ]
     },
     "execution_count": 80,
     "metadata": {},
     "output_type": "execute_result"
    }
   ],
   "source": [
    "topn_recommendation(np_ratings, uencoder.transform([1])[0])"
   ]
  },
  {
   "cell_type": "code",
   "execution_count": 81,
   "metadata": {
    "ExecuteTime": {
     "end_time": "2023-10-25T04:56:06.278203Z",
     "start_time": "2023-10-25T04:56:06.243666Z"
    },
    "colab": {
     "base_uri": "https://localhost:8080/",
     "height": 237
    },
    "id": "vHvdh9tSHgtM",
    "outputId": "d7dd2d1e-80a3-4fcc-9301-a4695b975d1f"
   },
   "outputs": [
    {
     "data": {
      "text/html": [
       "<div>\n",
       "<style scoped>\n",
       "    .dataframe tbody tr th:only-of-type {\n",
       "        vertical-align: middle;\n",
       "    }\n",
       "\n",
       "    .dataframe tbody tr th {\n",
       "        vertical-align: top;\n",
       "    }\n",
       "\n",
       "    .dataframe thead th {\n",
       "        text-align: right;\n",
       "    }\n",
       "</style>\n",
       "<table border=\"1\" class=\"dataframe\">\n",
       "  <thead>\n",
       "    <tr style=\"text-align: right;\">\n",
       "      <th></th>\n",
       "      <th>itemid</th>\n",
       "      <th>title</th>\n",
       "    </tr>\n",
       "  </thead>\n",
       "  <tbody>\n",
       "    <tr>\n",
       "      <th>49</th>\n",
       "      <td>50</td>\n",
       "      <td>Star Wars (1977)</td>\n",
       "    </tr>\n",
       "    <tr>\n",
       "      <th>81</th>\n",
       "      <td>82</td>\n",
       "      <td>Jurassic Park (1993)</td>\n",
       "    </tr>\n",
       "    <tr>\n",
       "      <th>180</th>\n",
       "      <td>181</td>\n",
       "      <td>Return of the Jedi (1983)</td>\n",
       "    </tr>\n",
       "    <tr>\n",
       "      <th>256</th>\n",
       "      <td>257</td>\n",
       "      <td>Men in Black (1997)</td>\n",
       "    </tr>\n",
       "    <tr>\n",
       "      <th>131</th>\n",
       "      <td>132</td>\n",
       "      <td>Wizard of Oz, The (1939)</td>\n",
       "    </tr>\n",
       "    <tr>\n",
       "      <th>379</th>\n",
       "      <td>380</td>\n",
       "      <td>Star Trek: Generations (1994)</td>\n",
       "    </tr>\n",
       "  </tbody>\n",
       "</table>\n",
       "</div>"
      ],
      "text/plain": [
       "     itemid                          title\n",
       "49       50               Star Wars (1977)\n",
       "81       82           Jurassic Park (1993)\n",
       "180     181      Return of the Jedi (1983)\n",
       "256     257            Men in Black (1997)\n",
       "131     132       Wizard of Oz, The (1939)\n",
       "379     380  Star Trek: Generations (1994)"
      ]
     },
     "execution_count": 81,
     "metadata": {},
     "output_type": "execute_result"
    }
   ],
   "source": [
    "test_history = [49, 81, 180, 256, 131, 379]\n",
    "movies.iloc[test_history]"
   ]
  },
  {
   "cell_type": "code",
   "execution_count": 82,
   "metadata": {
    "ExecuteTime": {
     "end_time": "2023-10-25T04:56:13.598521Z",
     "start_time": "2023-10-25T04:56:13.471577Z"
    },
    "colab": {
     "base_uri": "https://localhost:8080/",
     "height": 990
    },
    "id": "AJkSVqeEHmVy",
    "outputId": "4c075575-dc32-4d9c-bb32-55f06e503833"
   },
   "outputs": [
    {
     "data": {
      "text/html": [
       "<div>\n",
       "<style scoped>\n",
       "    .dataframe tbody tr th:only-of-type {\n",
       "        vertical-align: middle;\n",
       "    }\n",
       "\n",
       "    .dataframe tbody tr th {\n",
       "        vertical-align: top;\n",
       "    }\n",
       "\n",
       "    .dataframe thead th {\n",
       "        text-align: right;\n",
       "    }\n",
       "</style>\n",
       "<table border=\"1\" class=\"dataframe\">\n",
       "  <thead>\n",
       "    <tr style=\"text-align: right;\">\n",
       "      <th></th>\n",
       "      <th>itemid</th>\n",
       "      <th>similarity_with_Iu</th>\n",
       "      <th>title</th>\n",
       "    </tr>\n",
       "  </thead>\n",
       "  <tbody>\n",
       "    <tr>\n",
       "      <th>0</th>\n",
       "      <td>172</td>\n",
       "      <td>2.628615</td>\n",
       "      <td>Empire Strikes Back, The (1980)</td>\n",
       "    </tr>\n",
       "    <tr>\n",
       "      <th>1</th>\n",
       "      <td>174</td>\n",
       "      <td>2.142320</td>\n",
       "      <td>Raiders of the Lost Ark (1981)</td>\n",
       "    </tr>\n",
       "    <tr>\n",
       "      <th>2</th>\n",
       "      <td>313</td>\n",
       "      <td>2.035859</td>\n",
       "      <td>Titanic (1997)</td>\n",
       "    </tr>\n",
       "    <tr>\n",
       "      <th>3</th>\n",
       "      <td>210</td>\n",
       "      <td>1.941583</td>\n",
       "      <td>Indiana Jones and the Last Crusade (1989)</td>\n",
       "    </tr>\n",
       "    <tr>\n",
       "      <th>4</th>\n",
       "      <td>651</td>\n",
       "      <td>1.880540</td>\n",
       "      <td>Glory (1989)</td>\n",
       "    </tr>\n",
       "    <tr>\n",
       "      <th>5</th>\n",
       "      <td>22</td>\n",
       "      <td>1.773043</td>\n",
       "      <td>Braveheart (1995)</td>\n",
       "    </tr>\n",
       "    <tr>\n",
       "      <th>6</th>\n",
       "      <td>64</td>\n",
       "      <td>1.735550</td>\n",
       "      <td>Shawshank Redemption, The (1994)</td>\n",
       "    </tr>\n",
       "    <tr>\n",
       "      <th>7</th>\n",
       "      <td>79</td>\n",
       "      <td>1.707949</td>\n",
       "      <td>Fugitive, The (1993)</td>\n",
       "    </tr>\n",
       "    <tr>\n",
       "      <th>8</th>\n",
       "      <td>204</td>\n",
       "      <td>1.686313</td>\n",
       "      <td>Back to the Future (1985)</td>\n",
       "    </tr>\n",
       "    <tr>\n",
       "      <th>9</th>\n",
       "      <td>429</td>\n",
       "      <td>1.676720</td>\n",
       "      <td>Day the Earth Stood Still, The (1951)</td>\n",
       "    </tr>\n",
       "    <tr>\n",
       "      <th>10</th>\n",
       "      <td>318</td>\n",
       "      <td>1.673867</td>\n",
       "      <td>Schindler's List (1993)</td>\n",
       "    </tr>\n",
       "    <tr>\n",
       "      <th>11</th>\n",
       "      <td>173</td>\n",
       "      <td>1.600043</td>\n",
       "      <td>Princess Bride, The (1987)</td>\n",
       "    </tr>\n",
       "    <tr>\n",
       "      <th>12</th>\n",
       "      <td>736</td>\n",
       "      <td>1.599564</td>\n",
       "      <td>Shadowlands (1993)</td>\n",
       "    </tr>\n",
       "    <tr>\n",
       "      <th>13</th>\n",
       "      <td>96</td>\n",
       "      <td>1.578550</td>\n",
       "      <td>Terminator 2: Judgment Day (1991)</td>\n",
       "    </tr>\n",
       "    <tr>\n",
       "      <th>14</th>\n",
       "      <td>195</td>\n",
       "      <td>1.551406</td>\n",
       "      <td>Terminator, The (1984)</td>\n",
       "    </tr>\n",
       "    <tr>\n",
       "      <th>15</th>\n",
       "      <td>228</td>\n",
       "      <td>1.461078</td>\n",
       "      <td>Star Trek: The Wrath of Khan (1982)</td>\n",
       "    </tr>\n",
       "    <tr>\n",
       "      <th>16</th>\n",
       "      <td>194</td>\n",
       "      <td>1.450726</td>\n",
       "      <td>Sting, The (1973)</td>\n",
       "    </tr>\n",
       "    <tr>\n",
       "      <th>17</th>\n",
       "      <td>1</td>\n",
       "      <td>1.446937</td>\n",
       "      <td>Toy Story (1995)</td>\n",
       "    </tr>\n",
       "    <tr>\n",
       "      <th>18</th>\n",
       "      <td>28</td>\n",
       "      <td>1.395897</td>\n",
       "      <td>Apollo 13 (1995)</td>\n",
       "    </tr>\n",
       "    <tr>\n",
       "      <th>19</th>\n",
       "      <td>265</td>\n",
       "      <td>1.363549</td>\n",
       "      <td>Hunt for Red October, The (1990)</td>\n",
       "    </tr>\n",
       "    <tr>\n",
       "      <th>20</th>\n",
       "      <td>430</td>\n",
       "      <td>1.353699</td>\n",
       "      <td>Duck Soup (1933)</td>\n",
       "    </tr>\n",
       "    <tr>\n",
       "      <th>21</th>\n",
       "      <td>199</td>\n",
       "      <td>1.352136</td>\n",
       "      <td>Bridge on the River Kwai, The (1957)</td>\n",
       "    </tr>\n",
       "    <tr>\n",
       "      <th>22</th>\n",
       "      <td>95</td>\n",
       "      <td>1.351532</td>\n",
       "      <td>Aladdin (1992)</td>\n",
       "    </tr>\n",
       "    <tr>\n",
       "      <th>23</th>\n",
       "      <td>408</td>\n",
       "      <td>1.348814</td>\n",
       "      <td>Close Shave, A (1995)</td>\n",
       "    </tr>\n",
       "    <tr>\n",
       "      <th>24</th>\n",
       "      <td>423</td>\n",
       "      <td>1.324165</td>\n",
       "      <td>E.T. the Extra-Terrestrial (1982)</td>\n",
       "    </tr>\n",
       "    <tr>\n",
       "      <th>25</th>\n",
       "      <td>520</td>\n",
       "      <td>1.315989</td>\n",
       "      <td>Great Escape, The (1963)</td>\n",
       "    </tr>\n",
       "    <tr>\n",
       "      <th>26</th>\n",
       "      <td>498</td>\n",
       "      <td>1.277557</td>\n",
       "      <td>African Queen, The (1951)</td>\n",
       "    </tr>\n",
       "    <tr>\n",
       "      <th>27</th>\n",
       "      <td>222</td>\n",
       "      <td>1.269978</td>\n",
       "      <td>Star Trek: First Contact (1996)</td>\n",
       "    </tr>\n",
       "    <tr>\n",
       "      <th>28</th>\n",
       "      <td>735</td>\n",
       "      <td>1.257273</td>\n",
       "      <td>Philadelphia (1993)</td>\n",
       "    </tr>\n",
       "    <tr>\n",
       "      <th>29</th>\n",
       "      <td>169</td>\n",
       "      <td>1.251834</td>\n",
       "      <td>Wrong Trousers, The (1993)</td>\n",
       "    </tr>\n",
       "  </tbody>\n",
       "</table>\n",
       "</div>"
      ],
      "text/plain": [
       "    itemid  similarity_with_Iu                                      title\n",
       "0      172            2.628615            Empire Strikes Back, The (1980)\n",
       "1      174            2.142320             Raiders of the Lost Ark (1981)\n",
       "2      313            2.035859                             Titanic (1997)\n",
       "3      210            1.941583  Indiana Jones and the Last Crusade (1989)\n",
       "4      651            1.880540                               Glory (1989)\n",
       "5       22            1.773043                          Braveheart (1995)\n",
       "6       64            1.735550           Shawshank Redemption, The (1994)\n",
       "7       79            1.707949                       Fugitive, The (1993)\n",
       "8      204            1.686313                  Back to the Future (1985)\n",
       "9      429            1.676720      Day the Earth Stood Still, The (1951)\n",
       "10     318            1.673867                    Schindler's List (1993)\n",
       "11     173            1.600043                 Princess Bride, The (1987)\n",
       "12     736            1.599564                         Shadowlands (1993)\n",
       "13      96            1.578550          Terminator 2: Judgment Day (1991)\n",
       "14     195            1.551406                     Terminator, The (1984)\n",
       "15     228            1.461078        Star Trek: The Wrath of Khan (1982)\n",
       "16     194            1.450726                          Sting, The (1973)\n",
       "17       1            1.446937                           Toy Story (1995)\n",
       "18      28            1.395897                           Apollo 13 (1995)\n",
       "19     265            1.363549           Hunt for Red October, The (1990)\n",
       "20     430            1.353699                           Duck Soup (1933)\n",
       "21     199            1.352136       Bridge on the River Kwai, The (1957)\n",
       "22      95            1.351532                             Aladdin (1992)\n",
       "23     408            1.348814                      Close Shave, A (1995)\n",
       "24     423            1.324165          E.T. the Extra-Terrestrial (1982)\n",
       "25     520            1.315989                   Great Escape, The (1963)\n",
       "26     498            1.277557                  African Queen, The (1951)\n",
       "27     222            1.269978            Star Trek: First Contact (1996)\n",
       "28     735            1.257273                        Philadelphia (1993)\n",
       "29     169            1.251834                 Wrong Trousers, The (1993)"
      ]
     },
     "execution_count": 82,
     "metadata": {},
     "output_type": "execute_result"
    }
   ],
   "source": [
    "def candidate_items_by_user_history(I_u: tp.List[int], k=-1):\n",
    "    c = set()\n",
    "    for iid in I_u:\n",
    "        c.update(neighbors[iid, :k])\n",
    "    candidates = np.setdiff1d(list(c), I_u, assume_unique=True)\n",
    "\n",
    "    return candidates\n",
    "\n",
    "\n",
    "def topn_recommendations_by_user_history(I_u: tp.List[int], k=-1, N=30):\n",
    "    candidates = candidate_items_by_user_history(I_u, k=k)\n",
    "    ranked_candidates = rank_candidates(candidates, I_u)\n",
    "    topn = pd.DataFrame(ranked_candidates[:N], columns=[\"itemid\", \"similarity_with_Iu\"])\n",
    "    topn = pd.merge(topn, movies, on=\"itemid\", how=\"inner\")\n",
    "    return topn\n",
    "\n",
    "\n",
    "topn_recommendations_by_user_history(test_history)"
   ]
  }
 ],
 "metadata": {
  "colab": {
   "provenance": []
  },
  "finalized": {
   "timestamp": 1698201604826,
   "trusted": false
  },
  "kernelspec": {
   "display_name": "rec-sys",
   "language": "python",
   "name": "python3"
  },
  "language_info": {
   "codemirror_mode": {
    "name": "ipython",
    "version": 3
   },
   "file_extension": ".py",
   "mimetype": "text/x-python",
   "name": "python",
   "nbconvert_exporter": "python",
   "pygments_lexer": "ipython3",
   "version": "3.12.7"
  },
  "notebookId": "fb2355fb-9f81-4225-8cbd-6f57bd3092a1",
  "notebookPath": "recsys/1/seminar.ipynb",
  "toc": {
   "base_numbering": 1,
   "nav_menu": {
    "height": "197px",
    "width": "279px"
   },
   "number_sections": true,
   "sideBar": true,
   "skip_h1_title": false,
   "title_cell": "Table of Contents",
   "title_sidebar": "Contents",
   "toc_cell": false,
   "toc_position": {
    "height": "calc(100% - 180px)",
    "left": "10px",
    "top": "150px",
    "width": "208.599px"
   },
   "toc_section_display": true,
   "toc_window_display": true
  },
  "widgets": {
   "application/vnd.jupyter.widget-state+json": {
    "12f06064f03a49229478c4f340e24020": {
     "model_module": "@jupyter-widgets/controls",
     "model_module_version": "1.5.0",
     "model_name": "HTMLModel",
     "state": {
      "_dom_classes": [],
      "_model_module": "@jupyter-widgets/controls",
      "_model_module_version": "1.5.0",
      "_model_name": "HTMLModel",
      "_view_count": null,
      "_view_module": "@jupyter-widgets/controls",
      "_view_module_version": "1.5.0",
      "_view_name": "HTMLView",
      "description": "",
      "description_tooltip": null,
      "layout": "IPY_MODEL_58373cde35744a84b7f5aa0f9485e797",
      "placeholder": "​",
      "style": "IPY_MODEL_97944cf0fb1b46428038e441b088fd40",
      "value": "100%"
     }
    },
    "318cee5b04bc4704b147a083af2d3bbf": {
     "model_module": "@jupyter-widgets/base",
     "model_module_version": "1.2.0",
     "model_name": "LayoutModel",
     "state": {
      "_model_module": "@jupyter-widgets/base",
      "_model_module_version": "1.2.0",
      "_model_name": "LayoutModel",
      "_view_count": null,
      "_view_module": "@jupyter-widgets/base",
      "_view_module_version": "1.2.0",
      "_view_name": "LayoutView",
      "align_content": null,
      "align_items": null,
      "align_self": null,
      "border": null,
      "bottom": null,
      "display": null,
      "flex": null,
      "flex_flow": null,
      "grid_area": null,
      "grid_auto_columns": null,
      "grid_auto_flow": null,
      "grid_auto_rows": null,
      "grid_column": null,
      "grid_gap": null,
      "grid_row": null,
      "grid_template_areas": null,
      "grid_template_columns": null,
      "grid_template_rows": null,
      "height": null,
      "justify_content": null,
      "justify_items": null,
      "left": null,
      "margin": null,
      "max_height": null,
      "max_width": null,
      "min_height": null,
      "min_width": null,
      "object_fit": null,
      "object_position": null,
      "order": null,
      "overflow": null,
      "overflow_x": null,
      "overflow_y": null,
      "padding": null,
      "right": null,
      "top": null,
      "visibility": null,
      "width": null
     }
    },
    "31aa84b262eb43babadc068e7dc19b90": {
     "model_module": "@jupyter-widgets/controls",
     "model_module_version": "1.5.0",
     "model_name": "DescriptionStyleModel",
     "state": {
      "_model_module": "@jupyter-widgets/controls",
      "_model_module_version": "1.5.0",
      "_model_name": "DescriptionStyleModel",
      "_view_count": null,
      "_view_module": "@jupyter-widgets/base",
      "_view_module_version": "1.2.0",
      "_view_name": "StyleView",
      "description_width": ""
     }
    },
    "3d35f7ff9f58486fa9d7c92a1b5883e4": {
     "model_module": "@jupyter-widgets/controls",
     "model_module_version": "1.5.0",
     "model_name": "FloatProgressModel",
     "state": {
      "_dom_classes": [],
      "_model_module": "@jupyter-widgets/controls",
      "_model_module_version": "1.5.0",
      "_model_name": "FloatProgressModel",
      "_view_count": null,
      "_view_module": "@jupyter-widgets/controls",
      "_view_module_version": "1.5.0",
      "_view_name": "ProgressView",
      "bar_style": "success",
      "description": "",
      "description_tooltip": null,
      "layout": "IPY_MODEL_f8a5744aa9924705b64af567c84645b6",
      "max": 1413721,
      "min": 0,
      "orientation": "horizontal",
      "style": "IPY_MODEL_fa2c8f0a19a14c4e9c770c5906d7ac5d",
      "value": 1413721
     }
    },
    "446ee9d97f434e1ab9877410b496e8a8": {
     "model_module": "@jupyter-widgets/controls",
     "model_module_version": "1.5.0",
     "model_name": "DescriptionStyleModel",
     "state": {
      "_model_module": "@jupyter-widgets/controls",
      "_model_module_version": "1.5.0",
      "_model_name": "DescriptionStyleModel",
      "_view_count": null,
      "_view_module": "@jupyter-widgets/base",
      "_view_module_version": "1.2.0",
      "_view_name": "StyleView",
      "description_width": ""
     }
    },
    "58373cde35744a84b7f5aa0f9485e797": {
     "model_module": "@jupyter-widgets/base",
     "model_module_version": "1.2.0",
     "model_name": "LayoutModel",
     "state": {
      "_model_module": "@jupyter-widgets/base",
      "_model_module_version": "1.2.0",
      "_model_name": "LayoutModel",
      "_view_count": null,
      "_view_module": "@jupyter-widgets/base",
      "_view_module_version": "1.2.0",
      "_view_name": "LayoutView",
      "align_content": null,
      "align_items": null,
      "align_self": null,
      "border": null,
      "bottom": null,
      "display": null,
      "flex": null,
      "flex_flow": null,
      "grid_area": null,
      "grid_auto_columns": null,
      "grid_auto_flow": null,
      "grid_auto_rows": null,
      "grid_column": null,
      "grid_gap": null,
      "grid_row": null,
      "grid_template_areas": null,
      "grid_template_columns": null,
      "grid_template_rows": null,
      "height": null,
      "justify_content": null,
      "justify_items": null,
      "left": null,
      "margin": null,
      "max_height": null,
      "max_width": null,
      "min_height": null,
      "min_width": null,
      "object_fit": null,
      "object_position": null,
      "order": null,
      "overflow": null,
      "overflow_x": null,
      "overflow_y": null,
      "padding": null,
      "right": null,
      "top": null,
      "visibility": null,
      "width": null
     }
    },
    "6386244facc64b89ad546e07dd3d22fa": {
     "model_module": "@jupyter-widgets/controls",
     "model_module_version": "1.5.0",
     "model_name": "HBoxModel",
     "state": {
      "_dom_classes": [],
      "_model_module": "@jupyter-widgets/controls",
      "_model_module_version": "1.5.0",
      "_model_name": "HBoxModel",
      "_view_count": null,
      "_view_module": "@jupyter-widgets/controls",
      "_view_module_version": "1.5.0",
      "_view_name": "HBoxView",
      "box_style": "",
      "children": [
       "IPY_MODEL_12f06064f03a49229478c4f340e24020",
       "IPY_MODEL_3d35f7ff9f58486fa9d7c92a1b5883e4",
       "IPY_MODEL_7033ee3ee5bb4f93a9a42bd0dfb6722c"
      ],
      "layout": "IPY_MODEL_6f18586bf3fb4f26b04bd943e218607e"
     }
    },
    "6f1257578f1b467f9c3350451aefdbee": {
     "model_module": "@jupyter-widgets/base",
     "model_module_version": "1.2.0",
     "model_name": "LayoutModel",
     "state": {
      "_model_module": "@jupyter-widgets/base",
      "_model_module_version": "1.2.0",
      "_model_name": "LayoutModel",
      "_view_count": null,
      "_view_module": "@jupyter-widgets/base",
      "_view_module_version": "1.2.0",
      "_view_name": "LayoutView",
      "align_content": null,
      "align_items": null,
      "align_self": null,
      "border": null,
      "bottom": null,
      "display": null,
      "flex": null,
      "flex_flow": null,
      "grid_area": null,
      "grid_auto_columns": null,
      "grid_auto_flow": null,
      "grid_auto_rows": null,
      "grid_column": null,
      "grid_gap": null,
      "grid_row": null,
      "grid_template_areas": null,
      "grid_template_columns": null,
      "grid_template_rows": null,
      "height": null,
      "justify_content": null,
      "justify_items": null,
      "left": null,
      "margin": null,
      "max_height": null,
      "max_width": null,
      "min_height": null,
      "min_width": null,
      "object_fit": null,
      "object_position": null,
      "order": null,
      "overflow": null,
      "overflow_x": null,
      "overflow_y": null,
      "padding": null,
      "right": null,
      "top": null,
      "visibility": null,
      "width": null
     }
    },
    "6f18586bf3fb4f26b04bd943e218607e": {
     "model_module": "@jupyter-widgets/base",
     "model_module_version": "1.2.0",
     "model_name": "LayoutModel",
     "state": {
      "_model_module": "@jupyter-widgets/base",
      "_model_module_version": "1.2.0",
      "_model_name": "LayoutModel",
      "_view_count": null,
      "_view_module": "@jupyter-widgets/base",
      "_view_module_version": "1.2.0",
      "_view_name": "LayoutView",
      "align_content": null,
      "align_items": null,
      "align_self": null,
      "border": null,
      "bottom": null,
      "display": null,
      "flex": null,
      "flex_flow": null,
      "grid_area": null,
      "grid_auto_columns": null,
      "grid_auto_flow": null,
      "grid_auto_rows": null,
      "grid_column": null,
      "grid_gap": null,
      "grid_row": null,
      "grid_template_areas": null,
      "grid_template_columns": null,
      "grid_template_rows": null,
      "height": null,
      "justify_content": null,
      "justify_items": null,
      "left": null,
      "margin": null,
      "max_height": null,
      "max_width": null,
      "min_height": null,
      "min_width": null,
      "object_fit": null,
      "object_position": null,
      "order": null,
      "overflow": null,
      "overflow_x": null,
      "overflow_y": null,
      "padding": null,
      "right": null,
      "top": null,
      "visibility": null,
      "width": null
     }
    },
    "7033ee3ee5bb4f93a9a42bd0dfb6722c": {
     "model_module": "@jupyter-widgets/controls",
     "model_module_version": "1.5.0",
     "model_name": "HTMLModel",
     "state": {
      "_dom_classes": [],
      "_model_module": "@jupyter-widgets/controls",
      "_model_module_version": "1.5.0",
      "_model_name": "HTMLModel",
      "_view_count": null,
      "_view_module": "@jupyter-widgets/controls",
      "_view_module_version": "1.5.0",
      "_view_name": "HTMLView",
      "description": "",
      "description_tooltip": null,
      "layout": "IPY_MODEL_ee297849422941db8c0665ff88540f76",
      "placeholder": "​",
      "style": "IPY_MODEL_446ee9d97f434e1ab9877410b496e8a8",
      "value": " 1413721/1413721 [02:14&lt;00:00, 11418.52it/s]"
     }
    },
    "848b5029a0fa4b2d8af6a7f508aed7c4": {
     "model_module": "@jupyter-widgets/controls",
     "model_module_version": "1.5.0",
     "model_name": "HTMLModel",
     "state": {
      "_dom_classes": [],
      "_model_module": "@jupyter-widgets/controls",
      "_model_module_version": "1.5.0",
      "_model_name": "HTMLModel",
      "_view_count": null,
      "_view_module": "@jupyter-widgets/controls",
      "_view_module_version": "1.5.0",
      "_view_name": "HTMLView",
      "description": "",
      "description_tooltip": null,
      "layout": "IPY_MODEL_6f1257578f1b467f9c3350451aefdbee",
      "placeholder": "​",
      "style": "IPY_MODEL_8b6b1020c34c4e7ebcda30bd974d8f5f",
      "value": "100%"
     }
    },
    "8708ab4c91ca466181e412f3ef8b18b2": {
     "model_module": "@jupyter-widgets/controls",
     "model_module_version": "1.5.0",
     "model_name": "ProgressStyleModel",
     "state": {
      "_model_module": "@jupyter-widgets/controls",
      "_model_module_version": "1.5.0",
      "_model_name": "ProgressStyleModel",
      "_view_count": null,
      "_view_module": "@jupyter-widgets/base",
      "_view_module_version": "1.2.0",
      "_view_name": "StyleView",
      "bar_color": null,
      "description_width": ""
     }
    },
    "8b6b1020c34c4e7ebcda30bd974d8f5f": {
     "model_module": "@jupyter-widgets/controls",
     "model_module_version": "1.5.0",
     "model_name": "DescriptionStyleModel",
     "state": {
      "_model_module": "@jupyter-widgets/controls",
      "_model_module_version": "1.5.0",
      "_model_name": "DescriptionStyleModel",
      "_view_count": null,
      "_view_module": "@jupyter-widgets/base",
      "_view_module_version": "1.2.0",
      "_view_name": "StyleView",
      "description_width": ""
     }
    },
    "97944cf0fb1b46428038e441b088fd40": {
     "model_module": "@jupyter-widgets/controls",
     "model_module_version": "1.5.0",
     "model_name": "DescriptionStyleModel",
     "state": {
      "_model_module": "@jupyter-widgets/controls",
      "_model_module_version": "1.5.0",
      "_model_name": "DescriptionStyleModel",
      "_view_count": null,
      "_view_module": "@jupyter-widgets/base",
      "_view_module_version": "1.2.0",
      "_view_name": "StyleView",
      "description_width": ""
     }
    },
    "99d87016b3db4bbdb088d04948b1a500": {
     "model_module": "@jupyter-widgets/base",
     "model_module_version": "1.2.0",
     "model_name": "LayoutModel",
     "state": {
      "_model_module": "@jupyter-widgets/base",
      "_model_module_version": "1.2.0",
      "_model_name": "LayoutModel",
      "_view_count": null,
      "_view_module": "@jupyter-widgets/base",
      "_view_module_version": "1.2.0",
      "_view_name": "LayoutView",
      "align_content": null,
      "align_items": null,
      "align_self": null,
      "border": null,
      "bottom": null,
      "display": null,
      "flex": null,
      "flex_flow": null,
      "grid_area": null,
      "grid_auto_columns": null,
      "grid_auto_flow": null,
      "grid_auto_rows": null,
      "grid_column": null,
      "grid_gap": null,
      "grid_row": null,
      "grid_template_areas": null,
      "grid_template_columns": null,
      "grid_template_rows": null,
      "height": null,
      "justify_content": null,
      "justify_items": null,
      "left": null,
      "margin": null,
      "max_height": null,
      "max_width": null,
      "min_height": null,
      "min_width": null,
      "object_fit": null,
      "object_position": null,
      "order": null,
      "overflow": null,
      "overflow_x": null,
      "overflow_y": null,
      "padding": null,
      "right": null,
      "top": null,
      "visibility": null,
      "width": null
     }
    },
    "9f5ceebfd2f0460c82fe37bbd2ea585a": {
     "model_module": "@jupyter-widgets/base",
     "model_module_version": "1.2.0",
     "model_name": "LayoutModel",
     "state": {
      "_model_module": "@jupyter-widgets/base",
      "_model_module_version": "1.2.0",
      "_model_name": "LayoutModel",
      "_view_count": null,
      "_view_module": "@jupyter-widgets/base",
      "_view_module_version": "1.2.0",
      "_view_name": "LayoutView",
      "align_content": null,
      "align_items": null,
      "align_self": null,
      "border": null,
      "bottom": null,
      "display": null,
      "flex": null,
      "flex_flow": null,
      "grid_area": null,
      "grid_auto_columns": null,
      "grid_auto_flow": null,
      "grid_auto_rows": null,
      "grid_column": null,
      "grid_gap": null,
      "grid_row": null,
      "grid_template_areas": null,
      "grid_template_columns": null,
      "grid_template_rows": null,
      "height": null,
      "justify_content": null,
      "justify_items": null,
      "left": null,
      "margin": null,
      "max_height": null,
      "max_width": null,
      "min_height": null,
      "min_width": null,
      "object_fit": null,
      "object_position": null,
      "order": null,
      "overflow": null,
      "overflow_x": null,
      "overflow_y": null,
      "padding": null,
      "right": null,
      "top": null,
      "visibility": null,
      "width": null
     }
    },
    "c59160239e154614858874d66169f669": {
     "model_module": "@jupyter-widgets/controls",
     "model_module_version": "1.5.0",
     "model_name": "FloatProgressModel",
     "state": {
      "_dom_classes": [],
      "_model_module": "@jupyter-widgets/controls",
      "_model_module_version": "1.5.0",
      "_model_name": "FloatProgressModel",
      "_view_count": null,
      "_view_module": "@jupyter-widgets/controls",
      "_view_module_version": "1.5.0",
      "_view_name": "ProgressView",
      "bar_style": "success",
      "description": "",
      "description_tooltip": null,
      "layout": "IPY_MODEL_9f5ceebfd2f0460c82fe37bbd2ea585a",
      "max": 1413721,
      "min": 0,
      "orientation": "horizontal",
      "style": "IPY_MODEL_8708ab4c91ca466181e412f3ef8b18b2",
      "value": 1413721
     }
    },
    "e42a5f835d9f49b4be79fca3aa71917c": {
     "model_module": "@jupyter-widgets/controls",
     "model_module_version": "1.5.0",
     "model_name": "HBoxModel",
     "state": {
      "_dom_classes": [],
      "_model_module": "@jupyter-widgets/controls",
      "_model_module_version": "1.5.0",
      "_model_name": "HBoxModel",
      "_view_count": null,
      "_view_module": "@jupyter-widgets/controls",
      "_view_module_version": "1.5.0",
      "_view_name": "HBoxView",
      "box_style": "",
      "children": [
       "IPY_MODEL_848b5029a0fa4b2d8af6a7f508aed7c4",
       "IPY_MODEL_c59160239e154614858874d66169f669",
       "IPY_MODEL_e74909bd09df48e082718a2dfb2bf5f1"
      ],
      "layout": "IPY_MODEL_318cee5b04bc4704b147a083af2d3bbf"
     }
    },
    "e74909bd09df48e082718a2dfb2bf5f1": {
     "model_module": "@jupyter-widgets/controls",
     "model_module_version": "1.5.0",
     "model_name": "HTMLModel",
     "state": {
      "_dom_classes": [],
      "_model_module": "@jupyter-widgets/controls",
      "_model_module_version": "1.5.0",
      "_model_name": "HTMLModel",
      "_view_count": null,
      "_view_module": "@jupyter-widgets/controls",
      "_view_module_version": "1.5.0",
      "_view_name": "HTMLView",
      "description": "",
      "description_tooltip": null,
      "layout": "IPY_MODEL_99d87016b3db4bbdb088d04948b1a500",
      "placeholder": "​",
      "style": "IPY_MODEL_31aa84b262eb43babadc068e7dc19b90",
      "value": " 1413721/1413721 [02:52&lt;00:00, 8526.84it/s]"
     }
    },
    "ee297849422941db8c0665ff88540f76": {
     "model_module": "@jupyter-widgets/base",
     "model_module_version": "1.2.0",
     "model_name": "LayoutModel",
     "state": {
      "_model_module": "@jupyter-widgets/base",
      "_model_module_version": "1.2.0",
      "_model_name": "LayoutModel",
      "_view_count": null,
      "_view_module": "@jupyter-widgets/base",
      "_view_module_version": "1.2.0",
      "_view_name": "LayoutView",
      "align_content": null,
      "align_items": null,
      "align_self": null,
      "border": null,
      "bottom": null,
      "display": null,
      "flex": null,
      "flex_flow": null,
      "grid_area": null,
      "grid_auto_columns": null,
      "grid_auto_flow": null,
      "grid_auto_rows": null,
      "grid_column": null,
      "grid_gap": null,
      "grid_row": null,
      "grid_template_areas": null,
      "grid_template_columns": null,
      "grid_template_rows": null,
      "height": null,
      "justify_content": null,
      "justify_items": null,
      "left": null,
      "margin": null,
      "max_height": null,
      "max_width": null,
      "min_height": null,
      "min_width": null,
      "object_fit": null,
      "object_position": null,
      "order": null,
      "overflow": null,
      "overflow_x": null,
      "overflow_y": null,
      "padding": null,
      "right": null,
      "top": null,
      "visibility": null,
      "width": null
     }
    },
    "f8a5744aa9924705b64af567c84645b6": {
     "model_module": "@jupyter-widgets/base",
     "model_module_version": "1.2.0",
     "model_name": "LayoutModel",
     "state": {
      "_model_module": "@jupyter-widgets/base",
      "_model_module_version": "1.2.0",
      "_model_name": "LayoutModel",
      "_view_count": null,
      "_view_module": "@jupyter-widgets/base",
      "_view_module_version": "1.2.0",
      "_view_name": "LayoutView",
      "align_content": null,
      "align_items": null,
      "align_self": null,
      "border": null,
      "bottom": null,
      "display": null,
      "flex": null,
      "flex_flow": null,
      "grid_area": null,
      "grid_auto_columns": null,
      "grid_auto_flow": null,
      "grid_auto_rows": null,
      "grid_column": null,
      "grid_gap": null,
      "grid_row": null,
      "grid_template_areas": null,
      "grid_template_columns": null,
      "grid_template_rows": null,
      "height": null,
      "justify_content": null,
      "justify_items": null,
      "left": null,
      "margin": null,
      "max_height": null,
      "max_width": null,
      "min_height": null,
      "min_width": null,
      "object_fit": null,
      "object_position": null,
      "order": null,
      "overflow": null,
      "overflow_x": null,
      "overflow_y": null,
      "padding": null,
      "right": null,
      "top": null,
      "visibility": null,
      "width": null
     }
    },
    "fa2c8f0a19a14c4e9c770c5906d7ac5d": {
     "model_module": "@jupyter-widgets/controls",
     "model_module_version": "1.5.0",
     "model_name": "ProgressStyleModel",
     "state": {
      "_model_module": "@jupyter-widgets/controls",
      "_model_module_version": "1.5.0",
      "_model_name": "ProgressStyleModel",
      "_view_count": null,
      "_view_module": "@jupyter-widgets/base",
      "_view_module_version": "1.2.0",
      "_view_name": "StyleView",
      "bar_color": null,
      "description_width": ""
     }
    }
   }
  }
 },
 "nbformat": 4,
 "nbformat_minor": 1
}

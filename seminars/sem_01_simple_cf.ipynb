{
 "cells": [
  {
   "cell_type": "markdown",
   "metadata": {
    "collapsed": true,
    "id": "rDkF84U7_UNb"
   },
   "source": [
    "# Collaborative filtering\n",
    "\n",
    "We could recommend many things:\n",
    "\n",
    "- products at online store\n",
    "- music of films\n",
    "- friends in social networks\n",
    "- content in social networks\n",
    "\n",
    "Whole recommendations field is based on similarity concept.  \n",
    "The most simple way to compute similarity is by some geometrical distance between samples. To start with it could be distance in the original feature space.\n",
    "\n",
    "Let's try several ways to construct recommender system with this in mind.\n",
    "\n",
    "![Amazon](https://github.com/v-goncharenko/madmo-adv/raw/83af16ed575aa75377b31d2e1c67288b42f46db5/09_recommendations/images/amazon.jpg)\n",
    "\n",
    "In case you need gentle recommender systems terms introduction here is a _very_ [simple introduction to basics of recommender systems by Google](https://developers.google.com/machine-learning/recommendation/overview)\n",
    "\n",
    "![Imdb](https://github.com/v-goncharenko/madmo-adv/raw/255e43e0ee146c0b5c1c4cf9305abc0034fed5e2/09_recommendations/images/imdb.png)"
   ]
  },
  {
   "cell_type": "code",
   "execution_count": 4,
   "metadata": {
    "ExecuteTime": {
     "end_time": "2023-10-24T04:29:58.571498Z",
     "start_time": "2023-10-24T04:29:58.561315Z"
    },
    "id": "PHSLMDPN_UN4"
   },
   "outputs": [],
   "source": [
    "import pprint\n",
    "\n",
    "pp = pprint.PrettyPrinter(indent=4)"
   ]
  },
  {
   "cell_type": "markdown",
   "metadata": {
    "id": "cPGF-dVQ_UOA"
   },
   "source": [
    "## Data preparation\n"
   ]
  },
  {
   "cell_type": "code",
   "execution_count": 5,
   "metadata": {
    "ExecuteTime": {
     "end_time": "2023-10-24T04:31:42.371220Z",
     "start_time": "2023-10-24T04:31:42.355468Z"
    },
    "id": "GgmLknLa_UOC"
   },
   "outputs": [],
   "source": [
    "critics = {\n",
    "    \"Toby\": {\n",
    "        \"Snakes on a Plane\": 4.5,\n",
    "        \"You, Me and Dupree\": 1.0,\n",
    "        \"Superman Returns\": 4.0,\n",
    "    },\n",
    "    \"Lisa Rose\": {\n",
    "        \"Lady in the Water\": 2.5,\n",
    "        \"Snakes on a Plane\": 3.5,\n",
    "        \"Just My Luck\": 3.0,\n",
    "        \"Superman Returns\": 3.5,\n",
    "        \"You, Me and Dupree\": 2.5,\n",
    "        \"The Night Listener\": 3.0,\n",
    "    },\n",
    "    \"Gene Seymour\": {\n",
    "        \"Lady in the Water\": 3.0,\n",
    "        \"Snakes on a Plane\": 3.5,\n",
    "        \"Just My Luck\": 1.5,\n",
    "        \"Superman Returns\": 5.0,\n",
    "        \"The Night Listener\": 3.0,\n",
    "        \"You, Me and Dupree\": 3.5,\n",
    "    },\n",
    "    \"Michael Phillips\": {\n",
    "        \"Lady in the Water\": 2.5,\n",
    "        \"Snakes on a Plane\": 3.0,\n",
    "        \"Superman Returns\": 3.5,\n",
    "        \"The Night Listener\": 4.0,\n",
    "    },\n",
    "    \"Claudia Puig\": {\n",
    "        \"Snakes on a Plane\": 3.5,\n",
    "        \"Just My Luck\": 3.0,\n",
    "        \"The Night Listener\": 4.5,\n",
    "        \"Superman Returns\": 4.0,\n",
    "        \"You, Me and Dupree\": 2.5,\n",
    "    },\n",
    "    \"Mick LaSalle\": {\n",
    "        \"Lady in the Water\": 3.0,\n",
    "        \"Snakes on a Plane\": 4.0,\n",
    "        \"Just My Luck\": 2.0,\n",
    "        \"Superman Returns\": 3.0,\n",
    "        \"The Night Listener\": 3.0,\n",
    "        \"You, Me and Dupree\": 2.0,\n",
    "    },\n",
    "    \"Jack Matthews\": {\n",
    "        \"Lady in the Water\": 3.0,\n",
    "        \"Snakes on a Plane\": 4.0,\n",
    "        \"The Night Listener\": 3.0,\n",
    "        \"Superman Returns\": 5.0,\n",
    "        \"You, Me and Dupree\": 3.5,\n",
    "    },\n",
    "}"
   ]
  },
  {
   "cell_type": "markdown",
   "metadata": {
    "id": "AWuJJu46_UOa"
   },
   "source": [
    "## Similarity\n",
    "\n",
    "We will discuss two similarities:\n",
    "\n",
    "- Euclidean distance\n",
    "- Pearson correlation\n",
    "\n",
    "### Euclidean distance\n",
    "\n",
    "$$\n",
    "\\begin{equation}\n",
    "d(x, y) = \\sqrt{\\sum_{i = 1}^n (x_i - y_i)^2}\n",
    "\\end{equation}\n",
    "$$\n",
    "\n",
    "$$\n",
    "\\text{similarity }(x, y) = \\dfrac{1}{1 + d(x, y)},\n",
    "$$"
   ]
  },
  {
   "cell_type": "code",
   "execution_count": 7,
   "metadata": {
    "ExecuteTime": {
     "end_time": "2023-10-24T04:33:16.188605Z",
     "start_time": "2023-10-24T04:33:15.712772Z"
    },
    "colab": {
     "base_uri": "https://localhost:8080/",
     "height": 377
    },
    "id": "ULMMqy7K_UPC",
    "outputId": "93a7354d-43e2-45e8-9f04-d6bef88acbae",
    "scrolled": true
   },
   "outputs": [],
   "source": [
    "from recommendations_tools import (\n",
    "    calculate_similar_items,\n",
    "    get_recommendations,\n",
    "    get_recommended_items,\n",
    "    similar_films,\n",
    ")"
   ]
  },
  {
   "cell_type": "code",
   "execution_count": 8,
   "metadata": {
    "ExecuteTime": {
     "end_time": "2023-10-24T04:35:23.211058Z",
     "start_time": "2023-10-24T04:35:23.199538Z"
    }
   },
   "outputs": [],
   "source": [
    "def sim_distance(critics: dict, person1: str, person2: str) -> float:\n",
    "    \"\"\"Calculates euclidian distance based similarity score for persons\"\"\"\n",
    "    sim_films = similar_films(critics, person1, person2)\n",
    "\n",
    "    if len(sim_films) == 0:\n",
    "        return 0\n",
    "\n",
    "    sum_of_euclead_dist = 0\n",
    "\n",
    "    for film in sim_films:\n",
    "        sum_of_euclead_dist += pow(critics[person1][film] - critics[person2][film], 2)\n",
    "\n",
    "    return 1 / (1 + sum_of_euclead_dist)"
   ]
  },
  {
   "cell_type": "code",
   "execution_count": 9,
   "metadata": {
    "ExecuteTime": {
     "end_time": "2023-10-24T04:35:24.953520Z",
     "start_time": "2023-10-24T04:35:24.928655Z"
    },
    "colab": {
     "base_uri": "https://localhost:8080/",
     "height": 34
    },
    "id": "VFRi1-pO_UPS",
    "outputId": "013a1199-0d03-4631-99d8-03ea0e36fb4f"
   },
   "outputs": [
    {
     "data": {
      "text/plain": [
       "0.2222222222222222"
      ]
     },
     "execution_count": 9,
     "metadata": {},
     "output_type": "execute_result"
    }
   ],
   "source": [
    "sim_distance(critics, \"Lisa Rose\", \"Toby\")"
   ]
  },
  {
   "cell_type": "code",
   "execution_count": 10,
   "metadata": {
    "ExecuteTime": {
     "end_time": "2023-10-24T04:35:41.723143Z",
     "start_time": "2023-10-24T04:35:41.715874Z"
    }
   },
   "outputs": [],
   "source": [
    "import numpy as np"
   ]
  },
  {
   "cell_type": "code",
   "execution_count": 11,
   "metadata": {
    "ExecuteTime": {
     "end_time": "2023-10-24T04:35:47.925554Z",
     "start_time": "2023-10-24T04:35:47.914275Z"
    }
   },
   "outputs": [
    {
     "data": {
      "text/plain": [
       "array([[1.   , 0.222, 0.108, 0.286, 0.235, 0.308, 0.118],\n",
       "       [0.222, 1.   , 0.148, 0.444, 0.286, 0.333, 0.211],\n",
       "       [0.108, 0.148, 1.   , 0.211, 0.133, 0.129, 0.8  ],\n",
       "       [0.286, 0.444, 0.211, 1.   , 0.571, 0.286, 0.182],\n",
       "       [0.235, 0.286, 0.133, 0.571, 1.   , 0.174, 0.182],\n",
       "       [0.308, 0.333, 0.129, 0.286, 0.174, 1.   , 0.138],\n",
       "       [0.118, 0.211, 0.8  , 0.182, 0.182, 0.138, 1.   ]])"
      ]
     },
     "execution_count": 11,
     "metadata": {},
     "output_type": "execute_result"
    }
   ],
   "source": [
    "dist_sim_vals = np.zeros((len(critics), len(critics)))\n",
    "\n",
    "for i, source in enumerate(critics):\n",
    "    for j, referer in enumerate(critics):\n",
    "        dist_sim_vals[i, j] = sim_distance(critics, source, referer)\n",
    "\n",
    "dist_sim_vals.round(3)"
   ]
  },
  {
   "cell_type": "code",
   "execution_count": 12,
   "metadata": {
    "ExecuteTime": {
     "end_time": "2023-10-24T04:36:17.572974Z",
     "start_time": "2023-10-24T04:36:17.557242Z"
    }
   },
   "outputs": [
    {
     "data": {
      "text/plain": [
       "(0.36752489116590853, 0.29939374254643875)"
      ]
     },
     "execution_count": 12,
     "metadata": {},
     "output_type": "execute_result"
    }
   ],
   "source": [
    "dist_sim_vals.mean(), dist_sim_vals.std()"
   ]
  },
  {
   "cell_type": "code",
   "execution_count": 13,
   "metadata": {
    "ExecuteTime": {
     "end_time": "2023-10-24T04:38:49.178386Z",
     "start_time": "2023-10-24T04:38:49.165151Z"
    }
   },
   "outputs": [
    {
     "data": {
      "text/plain": [
       "array([0.222, 0.108, 0.148, 0.286, 0.444, 0.211, 0.235, 0.286, 0.133,\n",
       "       0.571, 0.308, 0.333, 0.129, 0.286, 0.174, 0.118, 0.211, 0.8  ,\n",
       "       0.182, 0.182, 0.138])"
      ]
     },
     "execution_count": 13,
     "metadata": {},
     "output_type": "execute_result"
    }
   ],
   "source": [
    "tirangle_mask = np.tri(len(critics), k=-1, dtype=np.bool_)\n",
    "\n",
    "norm_dist_sim_vals = dist_sim_vals[tirangle_mask]\n",
    "\n",
    "norm_dist_sim_vals.round(3)"
   ]
  },
  {
   "cell_type": "code",
   "execution_count": 14,
   "metadata": {
    "ExecuteTime": {
     "end_time": "2023-10-24T04:39:03.902829Z",
     "start_time": "2023-10-24T04:39:03.888062Z"
    }
   },
   "outputs": [
    {
     "data": {
      "text/plain": [
       "(0.26211237302689333, 0.16368706645842943)"
      ]
     },
     "execution_count": 14,
     "metadata": {},
     "output_type": "execute_result"
    }
   ],
   "source": [
    "norm_dist_sim_vals.mean(), norm_dist_sim_vals.std()"
   ]
  },
  {
   "cell_type": "code",
   "execution_count": 15,
   "metadata": {
    "ExecuteTime": {
     "end_time": "2023-10-24T04:39:47.624590Z",
     "start_time": "2023-10-24T04:39:47.295969Z"
    }
   },
   "outputs": [],
   "source": [
    "import matplotlib.pyplot as plt\n",
    "\n",
    "\n",
    "def plot_pdf(values: np.ndarray, title: str):\n",
    "    \"\"\"Plots `values` distribution density\"\"\"\n",
    "    plt.figure(figsize=(10, 5))\n",
    "    plt.violinplot(values.flatten(), vert=False, showmedians=True)\n",
    "    plt.xlabel(\"Similarity\")\n",
    "    plt.grid()\n",
    "    plt.title(title)\n",
    "    plt.show()"
   ]
  },
  {
   "cell_type": "code",
   "execution_count": 16,
   "metadata": {
    "ExecuteTime": {
     "end_time": "2023-10-24T04:40:13.513766Z",
     "start_time": "2023-10-24T04:40:13.395301Z"
    }
   },
   "outputs": [
    {
     "data": {
      "image/png": "[encoded data removed]",
      "text/plain": [
       "<Figure size 1000x500 with 1 Axes>"
      ]
     },
     "metadata": {},
     "output_type": "display_data"
    }
   ],
   "source": [
    "plot_pdf(dist_sim_vals, \"Euclidian similarity distribution\")"
   ]
  },
  {
   "cell_type": "code",
   "execution_count": 17,
   "metadata": {
    "ExecuteTime": {
     "end_time": "2023-10-24T04:40:33.308877Z",
     "start_time": "2023-10-24T04:40:33.216345Z"
    }
   },
   "outputs": [
    {
     "data": {
      "image/png": "[encoded data removed]",
      "text/plain": [
       "<Figure size 1000x500 with 1 Axes>"
      ]
     },
     "metadata": {},
     "output_type": "display_data"
    }
   ],
   "source": [
    "plot_pdf(norm_dist_sim_vals, \"Normalized euclidian similarity distribution\")"
   ]
  },
  {
   "cell_type": "markdown",
   "metadata": {
    "id": "4xSa0SN2_UPU"
   },
   "source": [
    "$$\n",
    "\\text{similarity}(x, y) = \\dfrac{1}{1 + d(x, y)}\n",
    "$$\n",
    "\n"
   ]
  },
  {
   "cell_type": "markdown",
   "metadata": {
    "id": "e7RF8iYA_UPV"
   },
   "source": [
    "### Pearson\n",
    "\n",
    "\n",
    "![](https://github.com/v-goncharenko/madmo-adv/raw/255e43e0ee146c0b5c1c4cf9305abc0034fed5e2/09_recommendations/images/pearson.jpg)\n",
    "\n",
    "\n",
    "$$\n",
    "\\bar{x} = \\frac{1}{n} \\sum_{j = 1}^n x_j ;\\ \\bar{y} = \\frac{1}{n} \\sum_{j = 1}^n y_j \\\\\n",
    "\\text{corr}(x, y) = \\dfrac{\\sum_{i = 1}^n (x_i - \\bar{x}) (y_i - \\bar{y})}{\\sqrt{\\sum_{i = 1}^n (x_i - \\bar{x})^2 \\sum_{i = 1}^n (y_i - \\bar{y})^2}}\n",
    "$$"
   ]
  },
  {
   "cell_type": "code",
   "execution_count": 18,
   "metadata": {
    "ExecuteTime": {
     "end_time": "2023-10-24T04:42:55.891435Z",
     "start_time": "2023-10-24T04:42:55.877227Z"
    }
   },
   "outputs": [],
   "source": [
    "from math import isnan\n",
    "\n",
    "from scipy.stats import pearsonr\n",
    "\n",
    "\n",
    "def sim_pearson(critics_dict, person1, person2):\n",
    "    \"\"\"Calculates pearson correlation based similarity between persons\"\"\"\n",
    "    sim_films = similar_films(critics_dict, person1, person2)\n",
    "\n",
    "    if not len(sim_films):\n",
    "        return 0\n",
    "\n",
    "    scores1 = []\n",
    "    scores2 = []\n",
    "    for film in sim_films:\n",
    "        scores1.append(critics_dict[person1][film])\n",
    "        scores2.append(critics_dict[person2][film])\n",
    "\n",
    "    correlation = pearsonr(scores1, scores2)[0]\n",
    "\n",
    "    if isnan(correlation):\n",
    "        correlation = 0\n",
    "\n",
    "    return correlation"
   ]
  },
  {
   "cell_type": "code",
   "execution_count": 19,
   "metadata": {
    "ExecuteTime": {
     "end_time": "2023-10-24T04:42:58.535508Z",
     "start_time": "2023-10-24T04:42:58.519076Z"
    },
    "colab": {
     "base_uri": "https://localhost:8080/",
     "height": 34
    },
    "id": "6vn27sKY_UPf",
    "outputId": "8a81ef74-987a-457a-912b-d9869a968fe0"
   },
   "outputs": [
    {
     "data": {
      "text/plain": [
       "0.39605901719066977"
      ]
     },
     "execution_count": 19,
     "metadata": {},
     "output_type": "execute_result"
    }
   ],
   "source": [
    "sim_pearson(critics, \"Lisa Rose\", \"Gene Seymour\")"
   ]
  },
  {
   "cell_type": "code",
   "execution_count": 20,
   "metadata": {
    "ExecuteTime": {
     "end_time": "2023-10-24T04:42:59.893714Z",
     "start_time": "2023-10-24T04:42:59.872504Z"
    }
   },
   "outputs": [
    {
     "data": {
      "text/plain": [
       "0.9912407071619302"
      ]
     },
     "execution_count": 20,
     "metadata": {},
     "output_type": "execute_result"
    }
   ],
   "source": [
    "sim_pearson(critics, \"Lisa Rose\", \"Toby\")"
   ]
  },
  {
   "cell_type": "markdown",
   "metadata": {},
   "source": [
    "Исследуем распределение такой величины схожести"
   ]
  },
  {
   "cell_type": "code",
   "execution_count": 21,
   "metadata": {
    "ExecuteTime": {
     "end_time": "2023-10-24T04:44:52.248608Z",
     "start_time": "2023-10-24T04:44:52.227819Z"
    }
   },
   "outputs": [
    {
     "data": {
      "text/plain": [
       "array([[ 1.   ,  0.991,  0.381, -1.   ,  0.893,  0.924,  0.663],\n",
       "       [ 0.991,  1.   ,  0.396,  0.405,  0.567,  0.594,  0.747],\n",
       "       [ 0.381,  0.396,  1.   ,  0.205,  0.315,  0.412,  0.964],\n",
       "       [-1.   ,  0.405,  0.205,  1.   ,  1.   , -0.258,  0.135],\n",
       "       [ 0.893,  0.567,  0.315,  1.   ,  1.   ,  0.567,  0.029],\n",
       "       [ 0.924,  0.594,  0.412, -0.258,  0.567,  1.   ,  0.211],\n",
       "       [ 0.663,  0.747,  0.964,  0.135,  0.029,  0.211,  1.   ]])"
      ]
     },
     "execution_count": 21,
     "metadata": {},
     "output_type": "execute_result"
    }
   ],
   "source": [
    "dist_pear_vals = np.zeros((len(critics), len(critics)))\n",
    "\n",
    "for i, source in enumerate(critics):\n",
    "    for j, referer in enumerate(critics):\n",
    "        dist_pear_vals[i, j] = sim_pearson(critics, source, referer)\n",
    "\n",
    "dist_pear_vals.round(3)"
   ]
  },
  {
   "cell_type": "code",
   "execution_count": 22,
   "metadata": {
    "ExecuteTime": {
     "end_time": "2023-10-24T04:45:00.370766Z",
     "start_time": "2023-10-24T04:45:00.360592Z"
    }
   },
   "outputs": [
    {
     "data": {
      "text/plain": [
       "(0.5159356584296166, 0.4713252827635987)"
      ]
     },
     "execution_count": 22,
     "metadata": {},
     "output_type": "execute_result"
    }
   ],
   "source": [
    "dist_pear_vals.mean(), dist_pear_vals.std()"
   ]
  },
  {
   "cell_type": "code",
   "execution_count": 23,
   "metadata": {
    "ExecuteTime": {
     "end_time": "2023-10-24T04:45:03.399121Z",
     "start_time": "2023-10-24T04:45:03.378871Z"
    }
   },
   "outputs": [
    {
     "data": {
      "text/plain": [
       "array([ 0.991,  0.381,  0.396, -1.   ,  0.405,  0.205,  0.893,  0.567,\n",
       "        0.315,  1.   ,  0.924,  0.594,  0.412, -0.258,  0.567,  0.663,\n",
       "        0.747,  0.964,  0.135,  0.029,  0.211])"
      ]
     },
     "execution_count": 23,
     "metadata": {},
     "output_type": "execute_result"
    }
   ],
   "source": [
    "tirangle_mask = np.tri(len(critics), k=-1, dtype=np.bool_)\n",
    "\n",
    "norm_pear_sim_vals = dist_pear_vals[tirangle_mask]\n",
    "\n",
    "norm_pear_sim_vals.round(3)"
   ]
  },
  {
   "cell_type": "code",
   "execution_count": 24,
   "metadata": {
    "ExecuteTime": {
     "end_time": "2023-10-24T04:45:13.745021Z",
     "start_time": "2023-10-24T04:45:13.735075Z"
    }
   },
   "outputs": [
    {
     "data": {
      "text/plain": [
       "(0.43525826816788604, 0.462179856879093)"
      ]
     },
     "execution_count": 24,
     "metadata": {},
     "output_type": "execute_result"
    }
   ],
   "source": [
    "norm_pear_sim_vals.mean(), norm_pear_sim_vals.std()"
   ]
  },
  {
   "cell_type": "code",
   "execution_count": 25,
   "metadata": {
    "ExecuteTime": {
     "end_time": "2023-10-24T04:45:16.940762Z",
     "start_time": "2023-10-24T04:45:16.852200Z"
    }
   },
   "outputs": [
    {
     "data": {
      "image/png": "[encoded data removed]",
      "text/plain": [
       "<Figure size 1000x500 with 1 Axes>"
      ]
     },
     "metadata": {},
     "output_type": "display_data"
    }
   ],
   "source": [
    "plot_pdf(dist_pear_vals, \"Pearson similarity distribution\")"
   ]
  },
  {
   "cell_type": "code",
   "execution_count": 26,
   "metadata": {
    "ExecuteTime": {
     "end_time": "2023-10-24T04:45:17.596125Z",
     "start_time": "2023-10-24T04:45:17.499864Z"
    }
   },
   "outputs": [
    {
     "data": {
      "image/png": "[encoded data removed]",
      "text/plain": [
       "<Figure size 1000x500 with 1 Axes>"
      ]
     },
     "metadata": {},
     "output_type": "display_data"
    }
   ],
   "source": [
    "plot_pdf(norm_pear_sim_vals, \"Normalized pearson similarity distribution\")"
   ]
  },
  {
   "cell_type": "markdown",
   "metadata": {
    "id": "nHdaw1RB_UPi"
   },
   "source": [
    "## Ranking"
   ]
  },
  {
   "cell_type": "code",
   "execution_count": 27,
   "metadata": {
    "ExecuteTime": {
     "end_time": "2023-10-24T04:47:12.142980Z",
     "start_time": "2023-10-24T04:47:12.129257Z"
    }
   },
   "outputs": [],
   "source": [
    "from typing import Callable\n",
    "\n",
    "\n",
    "def top_matches(\n",
    "    critics: dict, person: str, n: int = 5, similarity_fn: Callable = sim_pearson\n",
    "):\n",
    "    \"\"\"Retruns top-n most similar critics\"\"\"\n",
    "    scores = []\n",
    "\n",
    "    for other in critics:\n",
    "        if other == person:\n",
    "            continue\n",
    "\n",
    "        similarity_score = similarity_fn(critics, person, other)\n",
    "        scores.append((similarity_score, other))\n",
    "\n",
    "    scores.sort(reverse=True)\n",
    "\n",
    "    return scores[0:n]"
   ]
  },
  {
   "cell_type": "code",
   "execution_count": 28,
   "metadata": {
    "ExecuteTime": {
     "end_time": "2023-10-24T04:47:15.920103Z",
     "start_time": "2023-10-24T04:47:15.904113Z"
    },
    "colab": {
     "base_uri": "https://localhost:8080/",
     "height": 68
    },
    "id": "3dRiz0NF_UPk",
    "outputId": "e151d4f9-7b71-46c8-bcc9-f428b47e8404"
   },
   "outputs": [
    {
     "data": {
      "text/plain": [
       "[(0.9912407071619302, 'Lisa Rose'),\n",
       " (0.9244734516419049, 'Mick LaSalle'),\n",
       " (0.8934051474415642, 'Claudia Puig')]"
      ]
     },
     "execution_count": 28,
     "metadata": {},
     "output_type": "execute_result"
    }
   ],
   "source": [
    "top_matches(critics, \"Toby\", n=3, similarity_fn=sim_pearson)"
   ]
  },
  {
   "cell_type": "code",
   "execution_count": 29,
   "metadata": {
    "ExecuteTime": {
     "end_time": "2023-10-24T04:47:40.123128Z",
     "start_time": "2023-10-24T04:47:40.113136Z"
    }
   },
   "outputs": [
    {
     "name": "stdout",
     "output_type": "stream",
     "text": [
      "{   'Lisa Rose': {   'Just My Luck': 3.0,\n",
      "                     'Lady in the Water': 2.5,\n",
      "                     'Snakes on a Plane': 3.5,\n",
      "                     'Superman Returns': 3.5,\n",
      "                     'The Night Listener': 3.0,\n",
      "                     'You, Me and Dupree': 2.5},\n",
      "    'Mick LaSalle': {   'Just My Luck': 2.0,\n",
      "                        'Lady in the Water': 3.0,\n",
      "                        'Snakes on a Plane': 4.0,\n",
      "                        'Superman Returns': 3.0,\n",
      "                        'The Night Listener': 3.0,\n",
      "                        'You, Me and Dupree': 2.0},\n",
      "    'Toby': {   'Snakes on a Plane': 4.5,\n",
      "                'Superman Returns': 4.0,\n",
      "                'You, Me and Dupree': 1.0}}\n"
     ]
    }
   ],
   "source": [
    "pp.pprint(\n",
    "    {k: v for k, v in critics.items() if k in (\"Toby\", \"Mick LaSalle\", \"Lisa Rose\")}\n",
    ")"
   ]
  },
  {
   "cell_type": "code",
   "execution_count": 30,
   "metadata": {
    "ExecuteTime": {
     "end_time": "2023-10-24T04:48:03.682395Z",
     "start_time": "2023-10-24T04:48:03.674893Z"
    },
    "colab": {
     "base_uri": "https://localhost:8080/",
     "height": 68
    },
    "id": "brjogX-B_UPp",
    "outputId": "1ea13b5f-2981-4aef-e958-74e57e6ccdb5"
   },
   "outputs": [
    {
     "data": {
      "text/plain": [
       "[(0.3076923076923077, 'Mick LaSalle'),\n",
       " (0.2857142857142857, 'Michael Phillips'),\n",
       " (0.23529411764705882, 'Claudia Puig')]"
      ]
     },
     "execution_count": 30,
     "metadata": {},
     "output_type": "execute_result"
    }
   ],
   "source": [
    "top_matches(critics, \"Toby\", n=3, similarity_fn=sim_distance)"
   ]
  },
  {
   "cell_type": "markdown",
   "metadata": {
    "id": "Eus_ti7o_UPu"
   },
   "source": [
    "## User-based approach"
   ]
  },
  {
   "cell_type": "code",
   "execution_count": 32,
   "metadata": {
    "ExecuteTime": {
     "end_time": "2023-10-24T04:51:13.854910Z",
     "start_time": "2023-10-24T04:51:13.840072Z"
    },
    "colab": {
     "base_uri": "https://localhost:8080/",
     "height": 69
    },
    "id": "zJh5vXT0_UPy",
    "outputId": "7cdb87de-e2c8-473b-d0b2-10a03d01592d"
   },
   "outputs": [
    {
     "data": {
      "text/plain": [
       "[(3.347789526713101, 'The Night Listener'),\n",
       " (2.832549918264162, 'Lady in the Water'),\n",
       " (2.5309807037655645, 'Just My Luck')]"
      ]
     },
     "execution_count": 32,
     "metadata": {},
     "output_type": "execute_result"
    }
   ],
   "source": [
    "get_recommendations(critics, \"Toby\", sim_pearson)"
   ]
  },
  {
   "cell_type": "code",
   "execution_count": 33,
   "metadata": {
    "ExecuteTime": {
     "end_time": "2023-10-24T04:51:17.005237Z",
     "start_time": "2023-10-24T04:51:16.988965Z"
    },
    "colab": {
     "base_uri": "https://localhost:8080/",
     "height": 35
    },
    "id": "-peDbStUHhFR",
    "outputId": "f13e88d6-6edc-4150-f259-90eb908cd823"
   },
   "outputs": [
    {
     "data": {
      "text/plain": [
       "{'Snakes on a Plane': 4.5, 'You, Me and Dupree': 1.0, 'Superman Returns': 4.0}"
      ]
     },
     "execution_count": 33,
     "metadata": {},
     "output_type": "execute_result"
    }
   ],
   "source": [
    "critics[\"Toby\"]"
   ]
  },
  {
   "cell_type": "code",
   "execution_count": 34,
   "metadata": {
    "ExecuteTime": {
     "end_time": "2023-10-24T04:51:18.633616Z",
     "start_time": "2023-10-24T04:51:18.622234Z"
    },
    "colab": {
     "base_uri": "https://localhost:8080/",
     "height": 73
    },
    "id": "bxb6b8UH_UP1",
    "outputId": "1e14b649-b4f1-4b0f-a397-aa2551bdef33"
   },
   "outputs": [
    {
     "data": {
      "text/plain": [
       "[(3.5002478401415877, 'The Night Listener'),\n",
       " (2.7561242939959363, 'Lady in the Water'),\n",
       " (2.461988486074374, 'Just My Luck')]"
      ]
     },
     "execution_count": 34,
     "metadata": {},
     "output_type": "execute_result"
    }
   ],
   "source": [
    "get_recommendations(critics, \"Toby\", sim_distance)"
   ]
  },
  {
   "cell_type": "markdown",
   "metadata": {
    "id": "ISMyknUc_UP4"
   },
   "source": [
    "## Item-based collaborative filtering"
   ]
  },
  {
   "cell_type": "code",
   "execution_count": 42,
   "metadata": {
    "ExecuteTime": {
     "end_time": "2022-07-05T15:33:16.005874Z",
     "start_time": "2022-07-05T15:33:15.998572Z"
    },
    "id": "adYIzV9d_UP8"
   },
   "outputs": [],
   "source": [
    "itemsim = calculate_similar_items(critics, n=4)"
   ]
  },
  {
   "cell_type": "code",
   "execution_count": 43,
   "metadata": {
    "ExecuteTime": {
     "end_time": "2022-07-05T15:33:16.209009Z",
     "start_time": "2022-07-05T15:33:16.201653Z"
    },
    "colab": {
     "base_uri": "https://localhost:8080/",
     "height": 537
    },
    "id": "jAbK3axg_UQA",
    "outputId": "05edfb52-9478-47f0-9799-6f25c15e8f03"
   },
   "outputs": [
    {
     "name": "stdout",
     "output_type": "stream",
     "text": [
      "{   'Just My Luck': [   (0.2222222222222222, 'Lady in the Water'),\n",
      "                        (0.18181818181818182, 'You, Me and Dupree'),\n",
      "                        (0.15384615384615385, 'The Night Listener'),\n",
      "                        (0.10526315789473684, 'Snakes on a Plane')],\n",
      "    'Lady in the Water': [   (0.4, 'You, Me and Dupree'),\n",
      "                             (0.2857142857142857, 'The Night Listener'),\n",
      "                             (0.2222222222222222, 'Snakes on a Plane'),\n",
      "                             (0.2222222222222222, 'Just My Luck')],\n",
      "    'Snakes on a Plane': [   (0.2222222222222222, 'Lady in the Water'),\n",
      "                             (0.18181818181818182, 'The Night Listener'),\n",
      "                             (0.16666666666666666, 'Superman Returns'),\n",
      "                             (0.10526315789473684, 'Just My Luck')],\n",
      "    'Superman Returns': [   (0.16666666666666666, 'Snakes on a Plane'),\n",
      "                            (0.10256410256410256, 'The Night Listener'),\n",
      "                            (0.09090909090909091, 'Lady in the Water'),\n",
      "                            (0.06451612903225806, 'Just My Luck')],\n",
      "    'The Night Listener': [   (0.2857142857142857, 'Lady in the Water'),\n",
      "                              (0.18181818181818182, 'Snakes on a Plane'),\n",
      "                              (0.15384615384615385, 'Just My Luck'),\n",
      "                              (0.14814814814814814, 'You, Me and Dupree')],\n",
      "    'You, Me and Dupree': [   (0.4, 'Lady in the Water'),\n",
      "                              (0.18181818181818182, 'Just My Luck'),\n",
      "                              (0.14814814814814814, 'The Night Listener'),\n",
      "                              (0.05333333333333334, 'Superman Returns')]}\n"
     ]
    }
   ],
   "source": [
    "pp.pprint(itemsim)"
   ]
  },
  {
   "cell_type": "code",
   "execution_count": 47,
   "metadata": {
    "ExecuteTime": {
     "end_time": "2022-07-05T15:33:16.409125Z",
     "start_time": "2022-07-05T15:33:16.401671Z"
    },
    "colab": {
     "base_uri": "https://localhost:8080/",
     "height": 104
    },
    "id": "gRdOzNm9IQWl",
    "outputId": "65111b26-0dc2-4eba-efc1-a9711f5d77e8"
   },
   "outputs": [
    {
     "data": {
      "text/plain": [
       "[(0.16666666666666666, 'Snakes on a Plane'),\n",
       " (0.10256410256410256, 'The Night Listener'),\n",
       " (0.09090909090909091, 'Lady in the Water'),\n",
       " (0.06451612903225806, 'Just My Luck')]"
      ]
     },
     "execution_count": 47,
     "metadata": {},
     "output_type": "execute_result"
    }
   ],
   "source": [
    "itemsim[\"Superman Returns\"]"
   ]
  },
  {
   "cell_type": "code",
   "execution_count": 48,
   "metadata": {
    "ExecuteTime": {
     "end_time": "2022-07-05T15:33:18.344723Z",
     "start_time": "2022-07-05T15:33:18.336803Z"
    }
   },
   "outputs": [
    {
     "data": {
      "text/plain": [
       "{'Snakes on a Plane': 4.5, 'You, Me and Dupree': 1.0, 'Superman Returns': 4.0}"
      ]
     },
     "execution_count": 48,
     "metadata": {},
     "output_type": "execute_result"
    }
   ],
   "source": [
    "critics[\"Toby\"]"
   ]
  },
  {
   "cell_type": "code",
   "execution_count": 49,
   "metadata": {
    "ExecuteTime": {
     "end_time": "2022-07-05T15:33:18.604783Z",
     "start_time": "2022-07-05T15:33:18.599102Z"
    },
    "colab": {
     "base_uri": "https://localhost:8080/",
     "height": 69
    },
    "id": "Au-TzhYH_UQE",
    "outputId": "b8dd815c-a8bc-47ac-d28b-79d0d230c2cf"
   },
   "outputs": [
    {
     "data": {
      "text/plain": [
       "[(3.182634730538922, 'The Night Listener'),\n",
       " (2.5983318700614575, 'Just My Luck'),\n",
       " (2.4730878186968837, 'Lady in the Water')]"
      ]
     },
     "execution_count": 49,
     "metadata": {},
     "output_type": "execute_result"
    }
   ],
   "source": [
    "get_recommended_items(critics, itemsim, \"Toby\")"
   ]
  }
 ],
 "metadata": {
  "colab": {
   "collapsed_sections": [],
   "name": "level1_seminar3_recommender_system.ipynb",
   "provenance": [],
   "toc_visible": true
  },
  "finalized": {
   "timestamp": 1696438247497,
   "trusted": false
  },
  "kernelspec": {
   "display_name": "rec-sys",
   "language": "python",
   "name": "python3"
  },
  "language_info": {
   "codemirror_mode": {
    "name": "ipython",
    "version": 3
   },
   "file_extension": ".py",
   "mimetype": "text/x-python",
   "name": "python",
   "nbconvert_exporter": "python",
   "pygments_lexer": "ipython3",
   "version": "3.12.7"
  },
  "name": "lesson11_recsys.ipynb",
  "toc": {
   "base_numbering": 1,
   "nav_menu": {},
   "number_sections": true,
   "sideBar": true,
   "skip_h1_title": false,
   "title_cell": "Table of Contents",
   "title_sidebar": "Contents",
   "toc_cell": false,
   "toc_position": {
    "height": "calc(100% - 180px)",
    "left": "10px",
    "top": "150px",
    "width": "279px"
   },
   "toc_section_display": true,
   "toc_window_display": true
  }
 },
 "nbformat": 4,
 "nbformat_minor": 1
}
